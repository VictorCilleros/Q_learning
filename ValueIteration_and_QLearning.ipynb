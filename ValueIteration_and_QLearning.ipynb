{
 "cells": [
  {
   "cell_type": "markdown",
   "metadata": {
    "colab_type": "text",
    "id": "view-in-github"
   },
   "source": [
    "<a href=\"https://colab.research.google.com/github/rlberry-py/tutorials/blob/main/Value%20Iteration%20and%20Q-Learning/Value_Iteration_and_Q_Learning.ipynb\" target=\"_parent\"><img src=\"https://colab.research.google.com/assets/colab-badge.svg\" alt=\"Open In Colab\"/></a>"
   ]
  },
  {
   "cell_type": "markdown",
   "metadata": {
    "id": "Io_4iovMTlzT"
   },
   "source": [
    "# Tutorial - Value Iteration and Q-Learning\n",
    "---------------------------------\n",
    "\n",
    "In this tutorial, you will:\n",
    "\n",
    "* Implement the value iteration algorithm to approximate the value function when *a model of the environment is available*.\n",
    "* Implement the Q-Learning algorithm to approximate the value function when *the model is unknown*, that is, the agent must learn through interactions.\n",
    "\n",
    "We start with a short review of these algorithms.\n",
    "\n",
    "\n",
    "## Markov decision processes and value functions\n",
    "\n",
    "In reinforcement learning, an agent interacts with an enviroment by taking actions and observing rewards. Its goal is to learn a *policy*, that is, a mapping from states to actions, that maximizes the amount of reward it gathers.\n",
    "\n",
    "The enviroment is modeled as a __Markov decision process (MDP)__, defined by a set of states $\\mathcal{S}$, a set of actions $\\mathcal{A}$, a reward function $r(s, a)$ and transition probabilities $P(s'|s,a)$. When an agent takes action $a$ in state $s$, it receives a random reward with mean $r(s,a)$ and makes a transion to a state $s'$ distributed according to $P(s'|s,a)$.\n",
    "\n",
    "A __policy__ $\\pi$ is such that $\\pi(a|s)$ gives the probability of choosing an action $a$ in state $s$. __If the policy is deterministic__, we denote by $\\pi(s)$ the action that it chooses in state $s$. We are interested in finding a policy that maximizes the value function $V^\\pi$, defined as \n",
    "\n",
    "$$\n",
    "V^\\pi(s) = \\sum_{a\\in \\mathcal{A}} \\pi(a|s) Q^\\pi(s, a), \n",
    "\\quad \\text{where} \\quad \n",
    "Q^\\pi(s, a) = \\mathbf{E}\\left[ \\sum_{t=0}^\\infty \\gamma^t r(S_t, A_t)  \\Big| S_0 = s, A_0 = a\\right].\n",
    "$$\n",
    "and represents the mean of the sum of discounted rewards gathered by the policy $\\pi$ in the MDP, where $\\gamma \\in [0, 1[$ is a discount factor ensuring the convergence of the sum. \n",
    "\n",
    "The __action-value function__ $Q^\\pi$ is the __fixed point of the Bellman operator $T^\\pi$__:\n",
    "\n",
    "$$ \n",
    "Q^\\pi(s, a) = T^\\pi Q^\\pi(s, a)\n",
    "$$\n",
    "where, for any function $f: \\mathcal{S}\\times\\mathcal{A} \\to \\mathbb{R}$\n",
    "$$\n",
    "T^\\pi f(s, a) =  r(s, a) + \\gamma \\sum_{s'} P(s'|s,a) \\left(\\sum_{a'}\\pi(a'|s')f(s',a')\\right) \n",
    "$$\n",
    "\n",
    "\n",
    "The __optimal value function__, defined as $V^*(s) = \\max_\\pi V^\\pi(s)$ can be shown to satisfy $V^*(s) = \\max_a Q^*(s, a)$, where $Q^*$ is the __fixed point of the optimal Bellman operator $T^*$__: \n",
    "\n",
    "$$ \n",
    "Q^*(s, a) = T^* Q^*(s, a)\n",
    "$$\n",
    "where, for any function $f: \\mathcal{S}\\times\\mathcal{A} \\to \\mathbb{R}$\n",
    "$$\n",
    "T^* f(s, a) =  r(s, a) + \\gamma \\sum_{s'} P(s'|s,a) \\max_{a'} f(s', a')\n",
    "$$\n",
    "and there exists an __optimal policy__ which is deterministic, given by $\\pi^*(s) \\in \\arg\\max_a Q^*(s, a)$.\n",
    "\n",
    "\n",
    "## Value iteration\n",
    "\n",
    "If both the reward function $r$ and the transition probablities $P$ are known, we can compute $Q^*$ using value iteration, which proceeds as follows:\n",
    "\n",
    "1. Start with arbitrary $Q_0$, set $t=0$.\n",
    "2. Compute $Q_{t+1}(s, a) = T^*Q_t(s,a)$ for every $(s, a)$.\n",
    "3. If $\\max_{s,a} | Q_{t+1}(s, a) -  Q_t(s,a)| \\leq \\varepsilon$, return $Q_{t}$. Otherwise, set $t \\gets t+1$ and go back to 2. \n",
    "\n",
    "The convergence is guaranteed by the contraction property of the Bellman operator, and $Q_{t+1}$ can be shown to be a good approximation of $Q^*$ for small epsilon. \n",
    "\n",
    "__Question__: Can you bound the error $\\max_{s,a} | Q^*(s, a) -  Q_t(s,a)|$ as a function of $\\gamma$ and $\\varepsilon$?\n",
    "\n",
    "## Q-Learning\n",
    "\n",
    "In value iteration, we need to know $r$ and $P$ to implement the Bellman operator. When these quantities are not available, we can approximate $Q^*$ using *samples* from the environment with the Q-Learning algorithm.\n",
    "\n",
    "Q-Learning with __$\\varepsilon$-greedy exploration__ proceeds as follows:\n",
    "\n",
    "1. Start with arbitrary $Q_0$, get starting state $s_0$, set $t=0$.\n",
    "2. Choosing action $a_t$: \n",
    "  * With probability $\\varepsilon$ choose $a_t$ randomly (uniform distribution)  \n",
    "  * With probability $1-\\varepsilon$, choose $a_t \\in \\arg\\max_a Q_t(s_t, a)$.\n",
    "3. Take action $a_t$, observe next state $s_{t+1}$ and reward $r_t$.\n",
    "4. Compute error $\\delta_t = r_t + \\gamma \\max_a Q_t(s_{t+1}, a) - Q_t(s_t, a_t)$.\n",
    "5. Update \n",
    "  * $Q_{t+1}(s, a) = Q_t(s, a) + \\alpha_t(s,a) \\delta_t$,  __if $s=s_t$ and $a=a_t$__\n",
    "  * $Q_{t+1}(s, a) = Q_{t}(s, a)$ otherwise.\n",
    "\n",
    "Here, $\\alpha_t(s,a)$ is a learning rate that can depend, for instance, on the number of times the algorithm has visited the state-action pair $(s, a)$. \n"
   ]
  },
  {
   "cell_type": "markdown",
   "metadata": {
    "id": "KYq9-63OR8RW"
   },
   "source": [
    "# Colab setup"
   ]
  },
  {
   "cell_type": "code",
   "execution_count": 1,
   "metadata": {
    "colab": {
     "base_uri": "https://localhost:8080/"
    },
    "id": "AxepTGrNR3DX",
    "outputId": "42376421-d387-42a8-a943-0d1c5b5b3db0"
   },
   "outputs": [],
   "source": [
    "if 'google.colab' in str(get_ipython()):\n",
    "  print(\"Installing packages, please wait a few moments. Restart the runtime after the installation.\")\n",
    "\n",
    "  # install rlberry library\n",
    "  !pip install git+https://github.com/rlberry-py/rlberry.git@v0.3.0#egg=rlberry[default] > /dev/null 2>&1\n",
    "\n",
    "  # packages required to show video\n",
    "  !pip install pyvirtualdisplay > /dev/null 2>&1\n",
    "  !apt-get install -y xvfb python-opengl ffmpeg > /dev/null 2>&1\n"
   ]
  },
  {
   "cell_type": "code",
   "execution_count": 2,
   "metadata": {
    "colab": {
     "base_uri": "https://localhost:8080/"
    },
    "id": "3_bPhqKlSiF0",
    "outputId": "959689cb-1e62-41f3-c1ac-71741bd5bb48"
   },
   "outputs": [
    {
     "data": {
      "text/plain": [
       "<pyvirtualdisplay.display.Display at 0x7f799eb86a50>"
      ]
     },
     "execution_count": 2,
     "metadata": {},
     "output_type": "execute_result"
    }
   ],
   "source": [
    "# Create directory for saving videos\n",
    "!mkdir videos > /dev/null 2>&1\n",
    "\n",
    "# The following code is will be used to visualize the environments.\n",
    "import base64\n",
    "from pyvirtualdisplay import Display\n",
    "from IPython import display as ipythondisplay\n",
    "from IPython.display import clear_output\n",
    "from pathlib import Path\n",
    "\n",
    "def show_video(filename=None, directory='./videos'):\n",
    "    \"\"\"\n",
    "    Either show all videos in a directory (if filename is None) or \n",
    "    show video corresponding to filename.\n",
    "    \"\"\"\n",
    "    html = []\n",
    "    if filename is not None:\n",
    "        files = Path('./').glob(filename)\n",
    "    else:\n",
    "        files = Path(directory).glob(\"*.mp4\")\n",
    "    for mp4 in files:\n",
    "        print(mp4)\n",
    "        video_b64 = base64.b64encode(mp4.read_bytes())\n",
    "        html.append('''<video alt=\"{}\" autoplay \n",
    "                      loop controls style=\"height: 400px;\">\n",
    "                      <source src=\"data:video/mp4;base64,{}\" type=\"video/mp4\" />\n",
    "                 </video>'''.format(mp4, video_b64.decode('ascii')))\n",
    "    ipythondisplay.display(ipythondisplay.HTML(data=\"<br>\".join(html)))\n",
    "     \n",
    "from pyvirtualdisplay import Display\n",
    "display = Display(visible=0, size=(800, 800))\n",
    "display.start()"
   ]
  },
  {
   "cell_type": "code",
   "execution_count": 1,
   "metadata": {
    "id": "ZYZCXMpisE_O"
   },
   "outputs": [],
   "source": [
    "# other required libraries\n",
    "import numpy as np\n",
    "import matplotlib.pyplot as plt\n",
    "import random as rd"
   ]
  },
  {
   "cell_type": "code",
   "execution_count": 2,
   "metadata": {},
   "outputs": [
    {
     "name": "stdout",
     "output_type": "stream",
     "text": [
      "Requirement already satisfied: jupyterlab in c:\\users\\utilisateur\\anaconda3\\envs\\rltutorials\\lib\\site-packages (3.5.0)\n",
      "Requirement already satisfied: nbclassic in c:\\users\\utilisateur\\anaconda3\\envs\\rltutorials\\lib\\site-packages (from jupyterlab) (0.4.8)\n",
      "Requirement already satisfied: ipython in c:\\users\\utilisateur\\anaconda3\\envs\\rltutorials\\lib\\site-packages (from jupyterlab) (8.7.0)\n",
      "Requirement already satisfied: jupyter-core in c:\\users\\utilisateur\\anaconda3\\envs\\rltutorials\\lib\\site-packages (from jupyterlab) (5.1.0)\n",
      "Requirement already satisfied: jupyter-server<3,>=1.16.0 in c:\\users\\utilisateur\\anaconda3\\envs\\rltutorials\\lib\\site-packages (from jupyterlab) (1.23.3)\n",
      "Requirement already satisfied: tornado>=6.1.0 in c:\\users\\utilisateur\\anaconda3\\envs\\rltutorials\\lib\\site-packages (from jupyterlab) (6.2)\n",
      "Requirement already satisfied: notebook<7 in c:\\users\\utilisateur\\anaconda3\\envs\\rltutorials\\lib\\site-packages (from jupyterlab) (6.5.2)\n",
      "Requirement already satisfied: packaging in c:\\users\\utilisateur\\anaconda3\\envs\\rltutorials\\lib\\site-packages (from jupyterlab) (21.3)\n",
      "Requirement already satisfied: jupyterlab-server~=2.10 in c:\\users\\utilisateur\\anaconda3\\envs\\rltutorials\\lib\\site-packages (from jupyterlab) (2.16.3)\n",
      "Requirement already satisfied: jinja2>=2.1 in c:\\users\\utilisateur\\anaconda3\\envs\\rltutorials\\lib\\site-packages (from jupyterlab) (3.1.2)\n",
      "Requirement already satisfied: tomli in c:\\users\\utilisateur\\anaconda3\\envs\\rltutorials\\lib\\site-packages (from jupyterlab) (2.0.1)\n",
      "Requirement already satisfied: MarkupSafe>=2.0 in c:\\users\\utilisateur\\anaconda3\\envs\\rltutorials\\lib\\site-packages (from jinja2>=2.1->jupyterlab) (2.1.1)\n",
      "Requirement already satisfied: pyzmq>=17 in c:\\users\\utilisateur\\anaconda3\\envs\\rltutorials\\lib\\site-packages (from jupyter-server<3,>=1.16.0->jupyterlab) (23.2.0)\n",
      "Requirement already satisfied: websocket-client in c:\\users\\utilisateur\\anaconda3\\envs\\rltutorials\\lib\\site-packages (from jupyter-server<3,>=1.16.0->jupyterlab) (1.4.2)\n",
      "Requirement already satisfied: anyio<4,>=3.1.0 in c:\\users\\utilisateur\\anaconda3\\envs\\rltutorials\\lib\\site-packages (from jupyter-server<3,>=1.16.0->jupyterlab) (3.6.2)\n",
      "Requirement already satisfied: terminado>=0.8.3 in c:\\users\\utilisateur\\anaconda3\\envs\\rltutorials\\lib\\site-packages (from jupyter-server<3,>=1.16.0->jupyterlab) (0.17.0)\n",
      "Requirement already satisfied: jupyter-client>=6.1.12 in c:\\users\\utilisateur\\anaconda3\\envs\\rltutorials\\lib\\site-packages (from jupyter-server<3,>=1.16.0->jupyterlab) (7.4.7)\n",
      "Requirement already satisfied: nbconvert>=6.4.4 in c:\\users\\utilisateur\\anaconda3\\envs\\rltutorials\\lib\\site-packages (from jupyter-server<3,>=1.16.0->jupyterlab) (7.2.5)\n",
      "Requirement already satisfied: Send2Trash in c:\\users\\utilisateur\\anaconda3\\envs\\rltutorials\\lib\\site-packages (from jupyter-server<3,>=1.16.0->jupyterlab) (1.8.0)\n",
      "Requirement already satisfied: nbformat>=5.2.0 in c:\\users\\utilisateur\\anaconda3\\envs\\rltutorials\\lib\\site-packages (from jupyter-server<3,>=1.16.0->jupyterlab) (5.7.0)\n",
      "Requirement already satisfied: argon2-cffi in c:\\users\\utilisateur\\anaconda3\\envs\\rltutorials\\lib\\site-packages (from jupyter-server<3,>=1.16.0->jupyterlab) (21.3.0)\n",
      "Requirement already satisfied: traitlets>=5.1 in c:\\users\\utilisateur\\anaconda3\\envs\\rltutorials\\lib\\site-packages (from jupyter-server<3,>=1.16.0->jupyterlab) (5.6.0)\n",
      "Requirement already satisfied: prometheus-client in c:\\users\\utilisateur\\anaconda3\\envs\\rltutorials\\lib\\site-packages (from jupyter-server<3,>=1.16.0->jupyterlab) (0.15.0)\n",
      "Requirement already satisfied: pywinpty in c:\\users\\utilisateur\\anaconda3\\envs\\rltutorials\\lib\\site-packages (from jupyter-server<3,>=1.16.0->jupyterlab) (2.0.9)\n",
      "Requirement already satisfied: pywin32>=1.0 in c:\\users\\utilisateur\\anaconda3\\envs\\rltutorials\\lib\\site-packages (from jupyter-core->jupyterlab) (227)\n",
      "Requirement already satisfied: platformdirs>=2.5 in c:\\users\\utilisateur\\anaconda3\\envs\\rltutorials\\lib\\site-packages (from jupyter-core->jupyterlab) (2.5.2)\n",
      "Requirement already satisfied: babel in c:\\users\\utilisateur\\anaconda3\\envs\\rltutorials\\lib\\site-packages (from jupyterlab-server~=2.10->jupyterlab) (2.11.0)\n",
      "Requirement already satisfied: jsonschema>=3.0.1 in c:\\users\\utilisateur\\anaconda3\\envs\\rltutorials\\lib\\site-packages (from jupyterlab-server~=2.10->jupyterlab) (4.17.3)\n",
      "Requirement already satisfied: requests in c:\\users\\utilisateur\\anaconda3\\envs\\rltutorials\\lib\\site-packages (from jupyterlab-server~=2.10->jupyterlab) (2.28.1)\n",
      "Requirement already satisfied: json5 in c:\\users\\utilisateur\\anaconda3\\envs\\rltutorials\\lib\\site-packages (from jupyterlab-server~=2.10->jupyterlab) (0.9.10)\n",
      "Requirement already satisfied: importlib-metadata>=4.8.3 in c:\\users\\utilisateur\\anaconda3\\envs\\rltutorials\\lib\\site-packages (from jupyterlab-server~=2.10->jupyterlab) (4.13.0)\n",
      "Requirement already satisfied: ipython-genutils in c:\\users\\utilisateur\\anaconda3\\envs\\rltutorials\\lib\\site-packages (from notebook<7->jupyterlab) (0.2.0)\n",
      "Requirement already satisfied: nest-asyncio>=1.5 in c:\\users\\utilisateur\\anaconda3\\envs\\rltutorials\\lib\\site-packages (from notebook<7->jupyterlab) (1.5.6)\n",
      "Requirement already satisfied: ipykernel in c:\\users\\utilisateur\\anaconda3\\envs\\rltutorials\\lib\\site-packages (from notebook<7->jupyterlab) (6.17.1)\n",
      "Requirement already satisfied: notebook-shim>=0.1.0 in c:\\users\\utilisateur\\anaconda3\\envs\\rltutorials\\lib\\site-packages (from nbclassic->jupyterlab) (0.2.2)\n",
      "Requirement already satisfied: backcall in c:\\users\\utilisateur\\anaconda3\\envs\\rltutorials\\lib\\site-packages (from ipython->jupyterlab) (0.2.0)\n",
      "Requirement already satisfied: matplotlib-inline in c:\\users\\utilisateur\\anaconda3\\envs\\rltutorials\\lib\\site-packages (from ipython->jupyterlab) (0.1.6)\n",
      "Requirement already satisfied: pygments>=2.4.0 in c:\\users\\utilisateur\\anaconda3\\envs\\rltutorials\\lib\\site-packages (from ipython->jupyterlab) (2.13.0)\n",
      "Requirement already satisfied: colorama in c:\\users\\utilisateur\\anaconda3\\envs\\rltutorials\\lib\\site-packages (from ipython->jupyterlab) (0.4.6)\n",
      "Requirement already satisfied: pickleshare in c:\\users\\utilisateur\\anaconda3\\envs\\rltutorials\\lib\\site-packages (from ipython->jupyterlab) (0.7.5)\n",
      "Requirement already satisfied: decorator in c:\\users\\utilisateur\\anaconda3\\envs\\rltutorials\\lib\\site-packages (from ipython->jupyterlab) (5.1.1)\n",
      "Requirement already satisfied: stack-data in c:\\users\\utilisateur\\anaconda3\\envs\\rltutorials\\lib\\site-packages (from ipython->jupyterlab) (0.6.2)\n",
      "Requirement already satisfied: prompt-toolkit<3.1.0,>=3.0.11 in c:\\users\\utilisateur\\anaconda3\\envs\\rltutorials\\lib\\site-packages (from ipython->jupyterlab) (3.0.33)\n",
      "Requirement already satisfied: jedi>=0.16 in c:\\users\\utilisateur\\anaconda3\\envs\\rltutorials\\lib\\site-packages (from ipython->jupyterlab) (0.18.2)\n",
      "Requirement already satisfied: pyparsing!=3.0.5,>=2.0.2 in c:\\users\\utilisateur\\anaconda3\\envs\\rltutorials\\lib\\site-packages (from packaging->jupyterlab) (3.0.9)\n",
      "Requirement already satisfied: idna>=2.8 in c:\\users\\utilisateur\\anaconda3\\envs\\rltutorials\\lib\\site-packages (from anyio<4,>=3.1.0->jupyter-server<3,>=1.16.0->jupyterlab) (3.4)\n",
      "Requirement already satisfied: sniffio>=1.1 in c:\\users\\utilisateur\\anaconda3\\envs\\rltutorials\\lib\\site-packages (from anyio<4,>=3.1.0->jupyter-server<3,>=1.16.0->jupyterlab) (1.3.0)\n",
      "Requirement already satisfied: zipp>=0.5 in c:\\users\\utilisateur\\anaconda3\\envs\\rltutorials\\lib\\site-packages (from importlib-metadata>=4.8.3->jupyterlab-server~=2.10->jupyterlab) (3.11.0)\n",
      "Requirement already satisfied: parso<0.9.0,>=0.8.0 in c:\\users\\utilisateur\\anaconda3\\envs\\rltutorials\\lib\\site-packages (from jedi>=0.16->ipython->jupyterlab) (0.8.3)\n",
      "Requirement already satisfied: pkgutil-resolve-name>=1.3.10 in c:\\users\\utilisateur\\anaconda3\\envs\\rltutorials\\lib\\site-packages (from jsonschema>=3.0.1->jupyterlab-server~=2.10->jupyterlab) (1.3.10)\n",
      "Requirement already satisfied: importlib-resources>=1.4.0 in c:\\users\\utilisateur\\anaconda3\\envs\\rltutorials\\lib\\site-packages (from jsonschema>=3.0.1->jupyterlab-server~=2.10->jupyterlab) (5.10.0)\n",
      "Requirement already satisfied: attrs>=17.4.0 in c:\\users\\utilisateur\\anaconda3\\envs\\rltutorials\\lib\\site-packages (from jsonschema>=3.0.1->jupyterlab-server~=2.10->jupyterlab) (22.1.0)\n",
      "Requirement already satisfied: pyrsistent!=0.17.0,!=0.17.1,!=0.17.2,>=0.14.0 in c:\\users\\utilisateur\\anaconda3\\envs\\rltutorials\\lib\\site-packages (from jsonschema>=3.0.1->jupyterlab-server~=2.10->jupyterlab) (0.19.2)\n",
      "Requirement already satisfied: python-dateutil>=2.8.2 in c:\\users\\utilisateur\\anaconda3\\envs\\rltutorials\\lib\\site-packages (from jupyter-client>=6.1.12->jupyter-server<3,>=1.16.0->jupyterlab) (2.8.2)\n",
      "Requirement already satisfied: entrypoints in c:\\users\\utilisateur\\anaconda3\\envs\\rltutorials\\lib\\site-packages (from jupyter-client>=6.1.12->jupyter-server<3,>=1.16.0->jupyterlab) (0.4)\n",
      "Requirement already satisfied: defusedxml in c:\\users\\utilisateur\\anaconda3\\envs\\rltutorials\\lib\\site-packages (from nbconvert>=6.4.4->jupyter-server<3,>=1.16.0->jupyterlab) (0.7.1)\n",
      "Requirement already satisfied: pandocfilters>=1.4.1 in c:\\users\\utilisateur\\anaconda3\\envs\\rltutorials\\lib\\site-packages (from nbconvert>=6.4.4->jupyter-server<3,>=1.16.0->jupyterlab) (1.5.0)\n",
      "Requirement already satisfied: nbclient>=0.5.0 in c:\\users\\utilisateur\\anaconda3\\envs\\rltutorials\\lib\\site-packages (from nbconvert>=6.4.4->jupyter-server<3,>=1.16.0->jupyterlab) (0.7.2)\n",
      "Requirement already satisfied: tinycss2 in c:\\users\\utilisateur\\anaconda3\\envs\\rltutorials\\lib\\site-packages (from nbconvert>=6.4.4->jupyter-server<3,>=1.16.0->jupyterlab) (1.2.1)\n",
      "Requirement already satisfied: mistune<3,>=2.0.3 in c:\\users\\utilisateur\\anaconda3\\envs\\rltutorials\\lib\\site-packages (from nbconvert>=6.4.4->jupyter-server<3,>=1.16.0->jupyterlab) (2.0.4)\n",
      "Requirement already satisfied: bleach in c:\\users\\utilisateur\\anaconda3\\envs\\rltutorials\\lib\\site-packages (from nbconvert>=6.4.4->jupyter-server<3,>=1.16.0->jupyterlab) (5.0.1)\n",
      "Requirement already satisfied: jupyterlab-pygments in c:\\users\\utilisateur\\anaconda3\\envs\\rltutorials\\lib\\site-packages (from nbconvert>=6.4.4->jupyter-server<3,>=1.16.0->jupyterlab) (0.2.2)\n",
      "Requirement already satisfied: beautifulsoup4 in c:\\users\\utilisateur\\anaconda3\\envs\\rltutorials\\lib\\site-packages (from nbconvert>=6.4.4->jupyter-server<3,>=1.16.0->jupyterlab) (4.11.1)\n",
      "Requirement already satisfied: fastjsonschema in c:\\users\\utilisateur\\anaconda3\\envs\\rltutorials\\lib\\site-packages (from nbformat>=5.2.0->jupyter-server<3,>=1.16.0->jupyterlab) (2.16.2)\n",
      "Requirement already satisfied: wcwidth in c:\\users\\utilisateur\\anaconda3\\envs\\rltutorials\\lib\\site-packages (from prompt-toolkit<3.1.0,>=3.0.11->ipython->jupyterlab) (0.2.5)\n",
      "Requirement already satisfied: argon2-cffi-bindings in c:\\users\\utilisateur\\anaconda3\\envs\\rltutorials\\lib\\site-packages (from argon2-cffi->jupyter-server<3,>=1.16.0->jupyterlab) (21.2.0)\n",
      "Requirement already satisfied: pytz>=2015.7 in c:\\users\\utilisateur\\anaconda3\\envs\\rltutorials\\lib\\site-packages (from babel->jupyterlab-server~=2.10->jupyterlab) (2022.6)\n",
      "Requirement already satisfied: psutil in c:\\users\\utilisateur\\anaconda3\\envs\\rltutorials\\lib\\site-packages (from ipykernel->notebook<7->jupyterlab) (5.9.0)\n",
      "Requirement already satisfied: debugpy>=1.0 in c:\\users\\utilisateur\\anaconda3\\envs\\rltutorials\\lib\\site-packages (from ipykernel->notebook<7->jupyterlab) (1.5.1)\n",
      "Requirement already satisfied: charset-normalizer<3,>=2 in c:\\users\\utilisateur\\anaconda3\\envs\\rltutorials\\lib\\site-packages (from requests->jupyterlab-server~=2.10->jupyterlab) (2.1.1)\n",
      "Requirement already satisfied: certifi>=2017.4.17 in c:\\users\\utilisateur\\anaconda3\\envs\\rltutorials\\lib\\site-packages (from requests->jupyterlab-server~=2.10->jupyterlab) (2022.9.24)\n",
      "Requirement already satisfied: urllib3<1.27,>=1.21.1 in c:\\users\\utilisateur\\anaconda3\\envs\\rltutorials\\lib\\site-packages (from requests->jupyterlab-server~=2.10->jupyterlab) (1.26.13)\n",
      "Requirement already satisfied: asttokens>=2.1.0 in c:\\users\\utilisateur\\anaconda3\\envs\\rltutorials\\lib\\site-packages (from stack-data->ipython->jupyterlab) (2.2.0)\n",
      "Requirement already satisfied: executing>=1.2.0 in c:\\users\\utilisateur\\anaconda3\\envs\\rltutorials\\lib\\site-packages (from stack-data->ipython->jupyterlab) (1.2.0)\n",
      "Requirement already satisfied: pure-eval in c:\\users\\utilisateur\\anaconda3\\envs\\rltutorials\\lib\\site-packages (from stack-data->ipython->jupyterlab) (0.2.2)\n",
      "Requirement already satisfied: six in c:\\users\\utilisateur\\anaconda3\\envs\\rltutorials\\lib\\site-packages (from asttokens>=2.1.0->stack-data->ipython->jupyterlab) (1.16.0)\n",
      "Requirement already satisfied: cffi>=1.0.1 in c:\\users\\utilisateur\\anaconda3\\envs\\rltutorials\\lib\\site-packages (from argon2-cffi-bindings->argon2-cffi->jupyter-server<3,>=1.16.0->jupyterlab) (1.15.1)\n",
      "Requirement already satisfied: soupsieve>1.2 in c:\\users\\utilisateur\\anaconda3\\envs\\rltutorials\\lib\\site-packages (from beautifulsoup4->nbconvert>=6.4.4->jupyter-server<3,>=1.16.0->jupyterlab) (2.3.2.post1)\n",
      "Requirement already satisfied: webencodings in c:\\users\\utilisateur\\anaconda3\\envs\\rltutorials\\lib\\site-packages (from bleach->nbconvert>=6.4.4->jupyter-server<3,>=1.16.0->jupyterlab) (0.5.1)\n",
      "Requirement already satisfied: pycparser in c:\\users\\utilisateur\\anaconda3\\envs\\rltutorials\\lib\\site-packages (from cffi>=1.0.1->argon2-cffi-bindings->argon2-cffi->jupyter-server<3,>=1.16.0->jupyterlab) (2.21)\n",
      "Collecting rlberry[default]\n",
      "  Cloning https://github.com/rlberry-py/rlberry.git (to revision v0.3.0) to c:\\users\\utilisateur\\appdata\\local\\temp\\pip-install-400lctgn\\rlberry_faccdd2af6074e9bb65e486d854411fe\n",
      "  Resolved https://github.com/rlberry-py/rlberry.git to commit 8ea7532ea27fdc1c5ffb44293f9e350c924f7c65\n",
      "  Installing build dependencies: started\n",
      "  Installing build dependencies: finished with status 'done'\n",
      "  Getting requirements to build wheel: started\n",
      "  Getting requirements to build wheel: finished with status 'done'\n",
      "  Preparing metadata (pyproject.toml): started\n",
      "  Preparing metadata (pyproject.toml): finished with status 'done'\n",
      "Requirement already satisfied: seaborn in c:\\users\\utilisateur\\anaconda3\\envs\\rltutorials\\lib\\site-packages (from rlberry[default]) (0.12.1)\n",
      "Requirement already satisfied: docopt in c:\\users\\utilisateur\\anaconda3\\envs\\rltutorials\\lib\\site-packages (from rlberry[default]) (0.6.2)\n",
      "Requirement already satisfied: pandas in c:\\users\\utilisateur\\anaconda3\\envs\\rltutorials\\lib\\site-packages (from rlberry[default]) (1.5.2)\n",
      "Requirement already satisfied: gym in c:\\users\\utilisateur\\anaconda3\\envs\\rltutorials\\lib\\site-packages (from rlberry[default]) (0.26.2)\n",
      "Requirement already satisfied: pygame in c:\\users\\utilisateur\\anaconda3\\envs\\rltutorials\\lib\\site-packages (from rlberry[default]) (2.1.2)\n",
      "Requirement already satisfied: matplotlib in c:\\users\\utilisateur\\anaconda3\\envs\\rltutorials\\lib\\site-packages (from rlberry[default]) (3.5.3)\n",
      "Requirement already satisfied: dill in c:\\users\\utilisateur\\anaconda3\\envs\\rltutorials\\lib\\site-packages (from rlberry[default]) (0.3.6)\n",
      "Requirement already satisfied: pyyaml in c:\\users\\utilisateur\\anaconda3\\envs\\rltutorials\\lib\\site-packages (from rlberry[default]) (6.0)\n",
      "Requirement already satisfied: numpy>=1.17 in c:\\users\\utilisateur\\anaconda3\\envs\\rltutorials\\lib\\site-packages (from rlberry[default]) (1.23.4)\n",
      "Requirement already satisfied: ffmpeg-python in c:\\users\\utilisateur\\anaconda3\\envs\\rltutorials\\lib\\site-packages (from rlberry[default]) (0.2.0)\n",
      "Requirement already satisfied: PyOpenGL in c:\\users\\utilisateur\\anaconda3\\envs\\rltutorials\\lib\\site-packages (from rlberry[default]) (3.1.6)\n",
      "Requirement already satisfied: numba in c:\\users\\utilisateur\\anaconda3\\envs\\rltutorials\\lib\\site-packages (from rlberry[default]) (0.56.4)\n",
      "Requirement already satisfied: pyvirtualdisplay in c:\\users\\utilisateur\\anaconda3\\envs\\rltutorials\\lib\\site-packages (from rlberry[default]) (3.0)\n",
      "Requirement already satisfied: optuna in c:\\users\\utilisateur\\anaconda3\\envs\\rltutorials\\lib\\site-packages (from rlberry[default]) (3.0.4)\n",
      "Requirement already satisfied: PyOpenGL-accelerate in c:\\users\\utilisateur\\anaconda3\\envs\\rltutorials\\lib\\site-packages (from rlberry[default]) (3.1.6)\n",
      "Requirement already satisfied: future in c:\\users\\utilisateur\\anaconda3\\envs\\rltutorials\\lib\\site-packages (from ffmpeg-python->rlberry[default]) (0.18.2)\n",
      "Requirement already satisfied: importlib-metadata>=4.8.0 in c:\\users\\utilisateur\\anaconda3\\envs\\rltutorials\\lib\\site-packages (from gym->rlberry[default]) (4.13.0)\n",
      "Requirement already satisfied: gym-notices>=0.0.4 in c:\\users\\utilisateur\\anaconda3\\envs\\rltutorials\\lib\\site-packages (from gym->rlberry[default]) (0.0.8)\n",
      "Requirement already satisfied: cloudpickle>=1.2.0 in c:\\users\\utilisateur\\anaconda3\\envs\\rltutorials\\lib\\site-packages (from gym->rlberry[default]) (2.2.0)\n",
      "Requirement already satisfied: pyparsing>=2.2.1 in c:\\users\\utilisateur\\anaconda3\\envs\\rltutorials\\lib\\site-packages (from matplotlib->rlberry[default]) (3.0.9)\n",
      "Requirement already satisfied: packaging>=20.0 in c:\\users\\utilisateur\\anaconda3\\envs\\rltutorials\\lib\\site-packages (from matplotlib->rlberry[default]) (21.3)\n",
      "Requirement already satisfied: kiwisolver>=1.0.1 in c:\\users\\utilisateur\\anaconda3\\envs\\rltutorials\\lib\\site-packages (from matplotlib->rlberry[default]) (1.4.2)\n",
      "Requirement already satisfied: fonttools>=4.22.0 in c:\\users\\utilisateur\\anaconda3\\envs\\rltutorials\\lib\\site-packages (from matplotlib->rlberry[default]) (4.25.0)\n",
      "Requirement already satisfied: pillow>=6.2.0 in c:\\users\\utilisateur\\anaconda3\\envs\\rltutorials\\lib\\site-packages (from matplotlib->rlberry[default]) (9.2.0)\n",
      "Requirement already satisfied: cycler>=0.10 in c:\\users\\utilisateur\\anaconda3\\envs\\rltutorials\\lib\\site-packages (from matplotlib->rlberry[default]) (0.11.0)\n",
      "Requirement already satisfied: python-dateutil>=2.7 in c:\\users\\utilisateur\\anaconda3\\envs\\rltutorials\\lib\\site-packages (from matplotlib->rlberry[default]) (2.8.2)\n",
      "Requirement already satisfied: setuptools in c:\\users\\utilisateur\\anaconda3\\envs\\rltutorials\\lib\\site-packages (from numba->rlberry[default]) (65.5.0)\n",
      "Requirement already satisfied: llvmlite<0.40,>=0.39.0dev0 in c:\\users\\utilisateur\\anaconda3\\envs\\rltutorials\\lib\\site-packages (from numba->rlberry[default]) (0.39.1)\n",
      "Requirement already satisfied: colorlog in c:\\users\\utilisateur\\anaconda3\\envs\\rltutorials\\lib\\site-packages (from optuna->rlberry[default]) (6.7.0)\n",
      "Requirement already satisfied: scipy<1.9.0,>=1.7.0 in c:\\users\\utilisateur\\anaconda3\\envs\\rltutorials\\lib\\site-packages (from optuna->rlberry[default]) (1.8.1)\n",
      "Requirement already satisfied: cliff in c:\\users\\utilisateur\\anaconda3\\envs\\rltutorials\\lib\\site-packages (from optuna->rlberry[default]) (4.1.0)\n",
      "Requirement already satisfied: cmaes>=0.8.2 in c:\\users\\utilisateur\\anaconda3\\envs\\rltutorials\\lib\\site-packages (from optuna->rlberry[default]) (0.9.0)\n",
      "Requirement already satisfied: tqdm in c:\\users\\utilisateur\\anaconda3\\envs\\rltutorials\\lib\\site-packages (from optuna->rlberry[default]) (4.64.1)\n",
      "Requirement already satisfied: alembic>=1.5.0 in c:\\users\\utilisateur\\anaconda3\\envs\\rltutorials\\lib\\site-packages (from optuna->rlberry[default]) (1.8.1)\n",
      "Requirement already satisfied: sqlalchemy>=1.3.0 in c:\\users\\utilisateur\\anaconda3\\envs\\rltutorials\\lib\\site-packages (from optuna->rlberry[default]) (1.4.44)\n",
      "Requirement already satisfied: pytz>=2020.1 in c:\\users\\utilisateur\\anaconda3\\envs\\rltutorials\\lib\\site-packages (from pandas->rlberry[default]) (2022.6)\n",
      "Requirement already satisfied: Mako in c:\\users\\utilisateur\\anaconda3\\envs\\rltutorials\\lib\\site-packages (from alembic>=1.5.0->optuna->rlberry[default]) (1.2.4)\n",
      "Requirement already satisfied: importlib-resources in c:\\users\\utilisateur\\anaconda3\\envs\\rltutorials\\lib\\site-packages (from alembic>=1.5.0->optuna->rlberry[default]) (5.10.0)\n",
      "Requirement already satisfied: zipp>=0.5 in c:\\users\\utilisateur\\anaconda3\\envs\\rltutorials\\lib\\site-packages (from importlib-metadata>=4.8.0->gym->rlberry[default]) (3.11.0)\n",
      "Requirement already satisfied: six>=1.5 in c:\\users\\utilisateur\\anaconda3\\envs\\rltutorials\\lib\\site-packages (from python-dateutil>=2.7->matplotlib->rlberry[default]) (1.16.0)\n",
      "Requirement already satisfied: greenlet!=0.4.17 in c:\\users\\utilisateur\\anaconda3\\envs\\rltutorials\\lib\\site-packages (from sqlalchemy>=1.3.0->optuna->rlberry[default]) (2.0.1)\n",
      "Requirement already satisfied: cmd2>=1.0.0 in c:\\users\\utilisateur\\anaconda3\\envs\\rltutorials\\lib\\site-packages (from cliff->optuna->rlberry[default]) (2.4.2)\n",
      "Requirement already satisfied: stevedore>=2.0.1 in c:\\users\\utilisateur\\anaconda3\\envs\\rltutorials\\lib\\site-packages (from cliff->optuna->rlberry[default]) (4.1.1)\n",
      "Requirement already satisfied: PrettyTable>=0.7.2 in c:\\users\\utilisateur\\anaconda3\\envs\\rltutorials\\lib\\site-packages (from cliff->optuna->rlberry[default]) (3.5.0)\n",
      "Requirement already satisfied: autopage>=0.4.0 in c:\\users\\utilisateur\\anaconda3\\envs\\rltutorials\\lib\\site-packages (from cliff->optuna->rlberry[default]) (0.5.1)\n",
      "Requirement already satisfied: colorama in c:\\users\\utilisateur\\anaconda3\\envs\\rltutorials\\lib\\site-packages (from colorlog->optuna->rlberry[default]) (0.4.6)\n",
      "Requirement already satisfied: pyperclip>=1.6 in c:\\users\\utilisateur\\anaconda3\\envs\\rltutorials\\lib\\site-packages (from cmd2>=1.0.0->cliff->optuna->rlberry[default]) (1.8.2)\n",
      "Requirement already satisfied: pyreadline3 in c:\\users\\utilisateur\\anaconda3\\envs\\rltutorials\\lib\\site-packages (from cmd2>=1.0.0->cliff->optuna->rlberry[default]) (3.4.1)\n",
      "Requirement already satisfied: attrs>=16.3.0 in c:\\users\\utilisateur\\anaconda3\\envs\\rltutorials\\lib\\site-packages (from cmd2>=1.0.0->cliff->optuna->rlberry[default]) (22.1.0)\n",
      "Requirement already satisfied: wcwidth>=0.1.7 in c:\\users\\utilisateur\\anaconda3\\envs\\rltutorials\\lib\\site-packages (from cmd2>=1.0.0->cliff->optuna->rlberry[default]) (0.2.5)\n",
      "Requirement already satisfied: pbr!=2.1.0,>=2.0.0 in c:\\users\\utilisateur\\anaconda3\\envs\\rltutorials\\lib\\site-packages (from stevedore>=2.0.1->cliff->optuna->rlberry[default]) (5.11.0)\n",
      "Requirement already satisfied: MarkupSafe>=0.9.2 in c:\\users\\utilisateur\\anaconda3\\envs\\rltutorials\\lib\\site-packages (from Mako->alembic>=1.5.0->optuna->rlberry[default]) (2.1.1)\n"
     ]
    },
    {
     "name": "stderr",
     "output_type": "stream",
     "text": [
      "  Running command git clone --filter=blob:none --quiet https://github.com/rlberry-py/rlberry.git 'C:\\Users\\Utilisateur\\AppData\\Local\\Temp\\pip-install-400lctgn\\rlberry_faccdd2af6074e9bb65e486d854411fe'\n",
      "  Running command git checkout -q 8ea7532ea27fdc1c5ffb44293f9e350c924f7c65\n"
     ]
    }
   ],
   "source": [
    "\n",
    "#Install required libraries:\n",
    "!pip install jupyterlab\n",
    "!pip install git+https://github.com/rlberry-py/rlberry.git@v0.3.0#egg=rlberry[default]"
   ]
  },
  {
   "cell_type": "code",
   "execution_count": 3,
   "metadata": {},
   "outputs": [
    {
     "name": "stdout",
     "output_type": "stream",
     "text": [
      "Requirement already satisfied: ffmpeg-python in c:\\users\\utilisateur\\anaconda3\\envs\\rltutorials\\lib\\site-packages (0.2.0)\n",
      "Requirement already satisfied: pyvirtualdisplay in c:\\users\\utilisateur\\anaconda3\\envs\\rltutorials\\lib\\site-packages (3.0)\n",
      "Requirement already satisfied: future in c:\\users\\utilisateur\\anaconda3\\envs\\rltutorials\\lib\\site-packages (from ffmpeg-python) (0.18.2)\n"
     ]
    },
    {
     "name": "stderr",
     "output_type": "stream",
     "text": [
      "'apt-get' n'est pas reconnu en tant que commande interne\n",
      "ou externe, un programme ex�cutable ou un fichier de commandes.\n"
     ]
    }
   ],
   "source": [
    "!pip install ffmpeg-python pyvirtualdisplay\n",
    "!apt-get install -y xvfb python-opengl ffmpeg"
   ]
  },
  {
   "cell_type": "markdown",
   "metadata": {
    "id": "zOPiAupGmkxh"
   },
   "source": [
    "# Warm up: interacting with a reinforcement learning environment"
   ]
  },
  {
   "cell_type": "code",
   "execution_count": 4,
   "metadata": {
    "colab": {
     "base_uri": "https://localhost:8080/",
     "height": 578
    },
    "id": "6IZ0bVAlTjpZ",
    "outputId": "60cf10f4-8f13-4264-c281-1194beff4c1d"
   },
   "outputs": [
    {
     "name": "stderr",
     "output_type": "stream",
     "text": [
      "c:\\Users\\Utilisateur\\anaconda3\\envs\\rltutorials\\lib\\site-packages\\tqdm\\auto.py:22: TqdmWarning: IProgress not found. Please update jupyter and ipywidgets. See https://ipywidgets.readthedocs.io/en/stable/user_install.html\n",
      "  from .autonotebook import tqdm as notebook_tqdm\n"
     ]
    },
    {
     "name": "stdout",
     "output_type": "stream",
     "text": [
      "number of states =  13\n",
      "number of actions =  4\n",
      "transition probabilities from state 0 by taking action 1:  [0.  0.9 0.  0.  0.1 0.  0.  0.  0.  0.  0.  0.  0. ]\n",
      "mean reward in state 0 for action 1 =  0.0\n"
     ]
    },
    {
     "name": "stderr",
     "output_type": "stream",
     "text": [
      "[WARNING] Not possible to save video, due to exception: [WinError 2] Le fichier spécifié est introuvable \n"
     ]
    }
   ],
   "source": [
    "from rlberry.envs import GridWorld\n",
    "\n",
    "# A GridWorld is an environment where an agent moves in a 2d grid and aims to reach the state which gives a reward.\n",
    "env = GridWorld(nrows=3, ncols=5, walls=((0,2),(1, 2)), success_probability=0.9)\n",
    "\n",
    "# Number of states and actions\n",
    "print(\"number of states = \", env.observation_space.n)\n",
    "print(\"number of actions = \", env.action_space.n)\n",
    "\n",
    "# Transitions probabilities, env.P[s, a, s'] = P(s'|s, a)\n",
    "print(\"transition probabilities from state 0 by taking action 1: \", env.P[0, 1, :])\n",
    "\n",
    "# Reward function: env.R[s, a] = r(s, a)\n",
    "print(\"mean reward in state 0 for action 1 = \", env.R[0, 1])\n",
    "\n",
    "# Following a random policy \n",
    "state = env.reset()     # initial state \n",
    "env.enable_rendering()  # save states for visualization\n",
    "for tt in range(100):   # interact for 100 time steps\n",
    "  action = env.action_space.sample()  # random action, a good RL agent must have a better strategy!\n",
    "  next_state, reward, is_terminal, info = env.step(action)\n",
    "  if is_terminal:\n",
    "    break\n",
    "  state = next_state\n",
    "\n",
    "# save video \n",
    "env.save_video('/videos/random_policy.mp4', framerate=10)\n",
    "# clear rendering data\n",
    "env.clear_render_buffer()\n",
    "env.disable_rendering()\n",
    "# see video\n",
    "#show_video(filename='./videos/random_policy.mp4')"
   ]
  },
  {
   "cell_type": "markdown",
   "metadata": {
    "id": "snmFW5Bzqpwj"
   },
   "source": [
    "# Implementing Value Iteration\n",
    "\n",
    "1. Write a function ``bellman_operator`` that takes as input a function $Q$ and returns $T^* Q$.\n",
    "2. Write a function  ``value_iteration`` that returns a function $Q$ such that $||Q-T^* Q||_\\infty \\leq \\varepsilon$\n",
    "3. Evaluate the performance of the policy $\\pi(s) = \\arg\\max_a Q(s, a)$, where Q is returned by ``value_iteration``."
   ]
  },
  {
   "cell_type": "code",
   "execution_count": 22,
   "metadata": {
    "id": "RPIOmpjkq0YX"
   },
   "outputs": [],
   "source": [
    "def bellman_operator(Q, env, gamma=0.99):\n",
    "  S = env.observation_space.n\n",
    "  A = env.action_space.n \n",
    "  TQ = np.zeros((S, A))\n",
    "\n",
    "  for state in range(S):\n",
    "    for action in range(A):\n",
    "      sum=0\n",
    "      for s in range(S):\n",
    "        q=np.max(Q[s,:])\n",
    "        sum+=q*env.P[state,action,s]\n",
    "      TQ[state,action]=env.R[state,action]+gamma*sum\n",
    "  return TQ"
   ]
  },
  {
   "cell_type": "code",
   "execution_count": 26,
   "metadata": {},
   "outputs": [
    {
     "data": {
      "image/png": "[encoded data removed]",
      "text/plain": [
       "<Figure size 640x480 with 1 Axes>"
      ]
     },
     "metadata": {},
     "output_type": "display_data"
    },
    {
     "name": "stdout",
     "output_type": "stream",
     "text": [
      "[[ 4.32422223  4.76466083  4.80469137  4.32422223]\n",
      " [ 4.43136507  4.75965702  5.2885078   4.75965702]\n",
      " [ 6.34669824  6.99520462  7.05188693  6.34669824]\n",
      " [ 6.50424032  6.98811933  7.76457703  6.98811933]\n",
      " [ 4.80969519  5.3421918   5.34410576  4.43147766]\n",
      " [ 4.87319184  5.39565064  5.99516738  4.8306594 ]\n",
      " [ 7.05897222  7.84330246  7.84252707  6.50419471]\n",
      " [ 7.15248096  7.92211912  8.80235458  7.09225601]\n",
      " [ 5.39790236  5.99766928  5.39790236  4.94169231]\n",
      " [ 5.47628703  6.81074045  6.12966641  5.47437307]\n",
      " [ 6.30882045  7.74205284  6.96784756  6.96784756]\n",
      " [ 7.07401141  8.80134099  7.92120689  7.15146737]\n",
      " [ 8.92129811 10.         10.          8.9220279 ]]\n"
     ]
    }
   ],
   "source": [
    "S = env.observation_space.n\n",
    "A = env.action_space.n \n",
    "Q = np.zeros((S, A))\n",
    "tabError=[]\n",
    "for i in range(1000):\n",
    "  TQ=bellman_operator(Q,env=env,gamma=0.9)\n",
    "  tabError.append(np.max(np.abs(TQ-Q)))\n",
    "  Q=TQ\n",
    "plt.figure()\n",
    "plt.plot(tabError)\n",
    "plt.show()\n",
    "print(Q)"
   ]
  },
  {
   "cell_type": "code",
   "execution_count": 31,
   "metadata": {
    "id": "tEKAtA1LsYFx"
   },
   "outputs": [],
   "source": [
    "def value_iteration(env, gamma=0.99, epsilon=1e-6,Niter=10000):\n",
    "  S = env.observation_space.n\n",
    "  A = env.action_space.n \n",
    "  Q = np.zeros((S, A))\n",
    "  Q_prev = np.zeros((S, A))\n",
    "  TabError=[]\n",
    "  t=0\n",
    "  while t<Niter:\n",
    "    Q_prev=Q\n",
    "    Q=bellman_operator(Q,env,gamma)\n",
    "    error=np.max(np.abs(Q-Q_prev))\n",
    "    TabError.append(error)\n",
    "    if error<epsilon:\n",
    "      break\n",
    "  return Q,TabError"
   ]
  },
  {
   "cell_type": "code",
   "execution_count": 34,
   "metadata": {},
   "outputs": [
    {
     "data": {
      "image/png": "[encoded data removed]",
      "text/plain": [
       "<Figure size 640x480 with 1 Axes>"
      ]
     },
     "metadata": {},
     "output_type": "display_data"
    },
    {
     "name": "stdout",
     "output_type": "stream",
     "text": [
      "[[92.20279646 93.05224864 93.13413783 92.20279646]\n",
      " [92.40046694 93.04201249 93.9818308  93.04201249]\n",
      " [95.72028829 96.60578778 96.68715989 95.72028829]\n",
      " [95.92595954 96.59561627 97.57132957 96.59561627]\n",
      " [93.14437398 94.08091939 94.08522625 92.40072028]\n",
      " [93.24989777 94.17950128 95.13080938 93.1628905 ]\n",
      " [96.6973314  97.67407213 97.67248998 95.92586648]\n",
      " [96.80737907 97.77700082 98.76464729 96.72092121]\n",
      " [94.18456818 95.13592745 94.18456818 93.3656577 ]\n",
      " [94.30298708 96.32041533 95.35721117 94.29868022]\n",
      " [95.599004   97.53334664 96.55801317 96.55801317]\n",
      " [96.68707842 98.76276714 97.77513947 96.80549892]\n",
      " [98.7753256  99.9999999  99.9999999  98.77681469]]\n"
     ]
    }
   ],
   "source": [
    "itermax=10000\n",
    "\n",
    "Q,tabError=value_iteration(env=env,gamma=0.99,epsilon=0.000000001,Niter=itermax)\n",
    "plt.figure()\n",
    "plt.plot(tabError)\n",
    "plt.show()\n",
    "print(Q)"
   ]
  },
  {
   "cell_type": "code",
   "execution_count": 17,
   "metadata": {},
   "outputs": [
    {
     "name": "stdout",
     "output_type": "stream",
     "text": [
      "(array([[92.20269792, 93.05215011, 93.1340393 , 92.20269792],\n",
      "       [92.4003684 , 93.04191396, 93.98173227, 93.04191396],\n",
      "       [95.72018976, 96.60568925, 96.68706136, 95.72018976],\n",
      "       [95.92586101, 96.59551774, 97.57123103, 96.59551774],\n",
      "       [93.14427545, 94.08082085, 94.08512771, 92.40062175],\n",
      "       [93.24979923, 94.17940275, 95.13071084, 93.16279197],\n",
      "       [96.69723287, 97.67397359, 97.67239144, 95.92576794],\n",
      "       [96.80728054, 97.77690229, 98.76454876, 96.72082267],\n",
      "       [94.18446964, 95.13582892, 94.18446964, 93.36555917],\n",
      "       [94.30288855, 96.32031679, 95.35711264, 94.29858169],\n",
      "       [95.59890547, 97.5332481 , 96.55791464, 96.55791464],\n",
      "       [96.68697988, 98.7626686 , 97.77504093, 96.80540038],\n",
      "       [98.77522707, 99.99990137, 99.99990137, 98.77671615]]), [1.0, 0.99, 0.9801, 0.9702989999999998, 0.9605960100000002, 0.9509900498999997, 0.9414801494010003, 0.93206534790699, 0.9227446944279203, 0.9135172474836413, 0.9043820750088045, 0.895338254258716, 0.88638487171613, 0.8775210229989678, 0.868745812768978, 0.8600583546412892, 0.851457771094875, 0.8429431933839293, 0.8345137614500864, 0.826168623835585, 0.817906937597229, 0.809727868221259, 0.8016305895390445, 0.7936142836436559, 0.7856781408072173, 0.7778213593991481, 0.770043145805154, 0.7623427143471027, 0.7547192872036312, 0.7471720943315958, 0.7397003733882812, 0.7323033696543959, 0.7249803359578522, 0.7177305325982744, 0.7105532272722925, 0.7034476949995678, 0.6964132180495746, 0.6894490858690787, 0.6825545950103908, 0.6757290490602834, 0.6689717585696826, 0.6622820409839818, 0.6556592205741438, 0.6491026283684036, 0.6426116020847275, 0.63618548606388, 0.6298236312032515, 0.6235253948912174, 0.617290140942302, 0.6111172395328808, 0.6050060671375448, 0.5989560064661816, 0.592966446401519, 0.5870367819375133, 0.5811664141181296, 0.5753547499769525, 0.5696012024771733, 0.5639051904524024, 0.5582661385478858, 0.552683477162411, 0.5471566423907888, 0.5416850759668748, 0.536268225207202, 0.530905542955125, 0.5255964875255827, 0.5203405226503222, 0.5151371174238193, 0.5099857462495763, 0.5048858887870793, 0.4998370298992043, 0.49483865960021944, 0.48989027300421384, 0.48499137027417305, 0.48014145657143104, 0.475340042005719, 0.470586641585669, 0.46588077516981485, 0.46122196741812616, 0.4566097477439399, 0.4520436502664893, 0.447523213763823, 0.4430479816261865, 0.4386175018099294, 0.4342313267918314, 0.42988901352390485, 0.4255901233886732, 0.42133422215479044, 0.4171208799332433, 0.4129496711339087, 0.4088201744225728, 0.4047319726783414, 0.4006846529515613, 0.39667780642204065, 0.392711028357823, 0.38878391807424606, 0.38489607889351163, 0.3810471181045756, 0.3772366469235209, 0.3734642804542858, 0.36972963764974054, 0.3660323412732467, 0.3623720178605083, 0.3587482976819061, 0.3551608147050942, 0.3516092065580452, 0.34809311449247105, 0.34461218334753596, 0.34116606151406614, 0.3377544008989162, 0.33437685688993213, 0.3310330883210355, 0.32772275743782586, 0.3244455298634392, 0.3212010745648115, 0.31798906381916225, 0.3148091731809757, 0.3116610814491736, 0.30854447063467205, 0.30545902592832874, 0.30240443566904673, 0.2993803913123543, 0.2963865873992262, 0.2934227215252321, 0.290488494309983, 0.28758360936689087, 0.28470777327322594, 0.28186069554050164, 0.2790420885850864, 0.27625166769925613, 0.2734891510222468, 0.27075425951201737, 0.2680467169168992, 0.2653662497477427, 0.26271258725027735, 0.2600854613777841, 0.2574846067639811, 0.25490976069633575, 0.25236066308937666, 0.24983705645848886, 0.24733868589389374, 0.24486529903497, 0.24241664604461732, 0.23999247958417413, 0.23759255478833552, 0.2352166292404405, 0.23286446294804364, 0.23053581831855752, 0.22823046013537862, 0.22594815553402725, 0.22368867397868542, 0.22145178723890524, 0.2192372693664879, 0.21704489667281734, 0.21487444770609443, 0.21272570322904016, 0.21059844619675516, 0.2084924617347923, 0.20640753711745674, 0.2043434617462765, 0.202300027128814, 0.20027702685752047, 0.19827425658894526, 0.19629151402305922, 0.1943285988828194, 0.19238531289400385, 0.19046145976506068, 0.18855684516741178, 0.18667127671572814, 0.1848045639485747, 0.18295651830909776, 0.1811269531259967, 0.17931568359473715, 0.17752252675879276, 0.17574730149121365, 0.17398982847630862, 0.17224993019154056, 0.17052743088962075, 0.16882215658073108, 0.1671339350149168, 0.1654625956647635, 0.16380796970811673, 0.1621698900110431, 0.16054819111093366, 0.15894270919983455, 0.1573532821078345, 0.15577974928675076, 0.15422195179387188, 0.15267973227594211, 0.15115293495317417, 0.1496414056036457, 0.14814499154761052, 0.14666354163213668, 0.1451969062158014, 0.14374493715365588, 0.14230748778211932, 0.14088441290429898, 0.13947556877525358, 0.1380808130874982, 0.13670000495662293, 0.1353330049070678, 0.1339796748579971, 0.13263987810941558, 0.1313134793283126, 0.13000034453503417, 0.12870034108968298, 0.1274133376787887, 0.12613920430200665, 0.12487781225898686, 0.1236290341363997, 0.12239274379503229, 0.1211688163570841, 0.11995712819350501, 0.11875755691157508, 0.11756998134246999, 0.11639428152903974, 0.11523033871374366, 0.11407803532661376, 0.11293725497333185, 0.11180788242360507, 0.11068980359937086, 0.10958290556338568, 0.1084870765077568, 0.10740220574268733, 0.10632818368527808, 0.10526490184840043, 0.10421225282992452, 0.10317013030162059, 0.10213842899860026, 0.10111704470861582, 0.10010587426151574, 0.09910481551889916, 0.09811376736372779, 0.09713262969007985, 0.09616130339318829, 0.09519969035925158, 0.09424769345565664, 0.09330521652108814, 0.09237216435587925, 0.09144844271231989, 0.0905339582852065, 0.08962861870236338, 0.08873233251534884, 0.08784500919020388, 0.08696655909830042, 0.08609689350731742, 0.08523592457224538, 0.0843835653265046, 0.08353972967324808, 0.0827043323765082, 0.08187728905274128, 0.08105851616221571, 0.08024793100058503, 0.0794454516905887, 0.07865099717368196, 0.07786448720193562, 0.07708584232993587, 0.07631498390664149, 0.07555183406755361, 0.07479631572688561, 0.07404835256961917, 0.07330786904394415, 0.07257479035347103, 0.07184904244995494, 0.07113055202545127, 0.07041924650521025, 0.06971505404015943, 0.06901790349974135, 0.06832772446473712, 0.06764444722008989, 0.06696800274789894, 0.0662983227204137, 0.06563533949321254, 0.06497898609829633, 0.0643291962372956, 0.06368590427493359, 0.06304904523219079, 0.06241855477986746, 0.06179436923204662, 0.061176425539741786, 0.06056466128433158, 0.059959014671505884, 0.05935942452478571, 0.05876583027954041, 0.05817817197674913, 0.05759639025697538, 0.057020426354426945, 0.05645022209085937, 0.0558857198699485, 0.055326862671236654, 0.054773594044547735, 0.05422585810407554, 0.05368359952304047, 0.05314676352782044, 0.05261529589255076, 0.05208914293361033, 0.05156825150429256, 0.051052568989234715, 0.05054204329935885, 0.05003662286637223, 0.04953625663770822, 0.04904089407132517, 0.04855048513061888, 0.048064980279320935, 0.04758433047651067, 0.04710848717175509, 0.046637402300035546, 0.046171028277044, 0.04570931799428024, 0.045252224814319675, 0.0447997025661806, 0.044351705540520925, 0.043908188485090704, 0.0434691066002415, 0.043034415534251025, 0.04260407137890354, 0.042178030665141364, 0.041756250358460534, 0.041338687854874934, 0.040925300976326184, 0.04051604796657671, 0.040110887486918045, 0.03970977861203551, 0.039312680825901225, 0.03891955401765301, 0.038530358477473214, 0.03814505489270914, 0.037763604343780344, 0.0373859683003559, 0.03701210861734694, 0.03664198753118342, 0.03627556765584927, 0.035912811979287085, 0.035553683859504304, 0.035198147020921056, 0.03484616555073217, 0.03449770389519813, 0.034152726856248705, 0.033811199587688634, 0.03347308759182965, 0.033138356715895156, 0.03280697314872327, 0.03247890341724258, 0.032154114383075694, 0.03183257323925659, 0.03151424750684839, 0.031199105031760155, 0.030887113981464154, 0.030578242841642123, 0.030272460413229396, 0.02996973580910378, 0.029670038451016012, 0.029373338066491783, 0.02907960468583326, 0.02878880863896427, 0.028500920552573916, 0.02821591134706125, 0.027933752233593623, 0.027654414711264508, 0.027377870564137652, 0.027104091858504376, 0.026833050939927716, 0.026564720430528155, 0.026299073226255132, 0.026036082493973822, 0.025775721669020868, 0.025517964452347996, 0.025262784807807748, 0.025010156959709207, 0.02476005539011794, 0.024512454836212783, 0.02426733028785577, 0.024024656984977355, 0.02378441041513213, 0.023546566310983508, 0.023311100647873673, 0.023077989641379304, 0.022847209744981, 0.02261873764753375, 0.022392550271064238, 0.022168624768355016, 0.021946938520670756, 0.021727469135484512, 0.021510194444104513, 0.021295092499684642, 0.02108214157468069, 0.020871320158931894, 0.020662606957358776, 0.020455980887774672, 0.020251421078896215, 0.020048906868112226, 0.019848417799408935, 0.019649933621423088, 0.019453434285210847, 0.019258899942357743, 0.01906631094293232, 0.01887564783351081, 0.01868689135515922, 0.018500022441614306, 0.01831502221720882, 0.018131871995024085, 0.01795055327505679, 0.01777104774231475, 0.017593337264898423, 0.01741740389225299, 0.01724322985333515, 0.017070797554808337, 0.016900089579266364, 0.016731088683471285, 0.01656377779663387, 0.016398140018665686, 0.01623415861847377, 0.016071817032283775, 0.015911098861948858, 0.015751987873343865, 0.01559446799461739, 0.015438523314671215, 0.015284138081526066, 0.015131296700701569, 0.01497998373369569, 0.014830183896364701, 0.014681882057388407, 0.014535063236820633, 0.014389712604454985, 0.014245815478417967, 0.014103357323620003, 0.013962323750391192, 0.013822700512889696, 0.013684473507780126, 0.013547628772712983, 0.013412152484960416, 0.013278030960108822, 0.013145250650524076, 0.013013798144001498, 0.012883660162572141, 0.012754823560939599, 0.012627275325328924, 0.012501002572065545, 0.012375992546353132, 0.012252232620895143, 0.012129710294686902, 0.012008413191750833, 0.01188832905981485, 0.011769445769232334, 0.011651751311546832, 0.011535233798426248, 0.011419881460440706, 0.01130568264584042, 0.0111926258193904, 0.011080699561162533, 0.010969892565555028, 0.010860193639899762, 0.010751591703510144, 0.010644075786473195, 0.010537635028597947, 0.010432258678321205, 0.010327936091556467, 0.010224656730628112, 0.010122410163319273, 0.010021186061692333, 0.009920974201079957, 0.00982176445906191, 0.009723546814470296, 0.009626311346323746, 0.009530048232861077, 0.009434747750532324, 0.009340400273032401, 0.00924699627030634, 0.009154526307611377, 0.0090629810445364, 0.008972351234092457, 0.008882627721760628, 0.008793801444525684, 0.008705863430080285, 0.008618804795787582, 0.008532616747814359, 0.00844729058033522, 0.008362817674537837, 0.0082791894977845, 0.008196397602816319, 0.008114433626772666, 0.00803328929050906, 0.007952956397616617, 0.007873426833640451, 0.007794692565298078, 0.007716745639655187, 0.007639578183258777, 0.007563182401426616, 0.007487550577423008, 0.007412675071648778, 0.007338548320916516, 0.007265162837711614, 0.007192511209339614, 0.007120586097258297, 0.007049380236281877, 0.00697888643391309, 0.006909097569575806, 0.006840006593861858, 0.006771606527919971, 0.006703890462659956, 0.006636851558027956, 0.006570483042452224, 0.006504778212033102, 0.006439730429917745, 0.006375333125617999, 0.006311579794385125, 0.006248463996413989, 0.006185979356445159, 0.006124119562883834, 0.006062878367259827, 0.006002249583588082, 0.005942227087757601, 0.005882804816877751, 0.005823976768695616, 0.005765737000999138, 0.005708079630991847, 0.005650998834681786, 0.0055944888463415055, 0.005538543957868569, 0.005483158518302389, 0.005428326933113681, 0.00537404366380656, 0.0053203032271511574, 0.005267100194870977, 0.005214429192946568, 0.005162284901004455, 0.005110662052018711, 0.005059555431472518, 0.005008959877159214, 0.004958870278372274, 0.004909281575592672, 0.004860188759863604, 0.004811586872250473, 0.0047634710035140415, 0.004715836293499365, 0.0046686779305531445, 0.004621991151253724, 0.004575771239743176, 0.004530013527329402, 0.004484713392074013, 0.004439866258152847, 0.004395467595585956, 0.0043515129196123326, 0.004307997790434115, 0.004264917812534463, 0.004222268634393345, 0.004180045948046995, 0.00413824548856212, 0.004096863033694831, 0.004055894403350635, 0.004015335459314429, 0.003975182104738906, 0.0039354302836756005, 0.003896075980847513, 0.0038571152210380433, 0.0038185440688351946, 0.003780358628148406, 0.0037425550418674902, 0.0037051294914363098, 0.003668078196497504, 0.0036313974145514294, 0.003595083440401936, 0.0035591326060000483, 0.003523541279932374, 0.003488305867151098, 0.003453422808462392, 0.003418888580384305, 0.0033846996945783303, 0.003350852697636242, 0.0033173441706679796, 0.0032841707289463784, 0.0032513290216655832, 0.0032188157314578802, 0.0031866275741236905, 0.0031547612983899853, 0.0031232136854271175, 0.003091981548564604, 0.003061061733092174, 0.0030304511157481784, 0.0030001466045916914, 0.002970145138533553, 0.002940443687151628, 0.0029110392502929017, 0.0028819288577750513, 0.002853109569215917, 0.0028245784735076995, 0.002796332688774328, 0.002768369361874079, 0.0027406856682716807, 0.0027132788115835638, 0.0026861460234783863, 0.002659284563250708, 0.002632691717607827, 0.002606364800428196, 0.002580301152434572, 0.002554498140895589, 0.0025289531595120707, 0.002503663627905439, 0.002478626991617716, 0.0024538407216994074, 0.00242930231449634, 0.0024050092913512344, 0.0023809591984331746, 0.0023571496064533903, 0.0023335781103810405, 0.0023102423292726826, 0.002287139905988056, 0.002264268506920075, 0.0022416258218669327, 0.0022192095636341946, 0.0021970174679921683, 0.002175047293320631, 0.002153296820395667, 0.0021317638521907156, 0.0021104462136634083, 0.0020893417515281953, 0.0020684483340289717, 0.002047763850683282, 0.002027286212154422, 0.002007013350052489, 0.001986943216550685, 0.0019670737843853203, 0.0019474030465431724, 0.0019279290161051676, 0.0019086497259195312, 0.0018895632286444197, 0.0018706675963642283, 0.0018519609203906384, 0.0018334413111915637, 0.001815106898092722, 0.0017969558291071053, 0.0017789862708212922, 0.0017611964081396536, 0.0017435844440427672, 0.001726148599601629, 0.0017088871135939598, 0.001691798242447362, 0.001674880260026157, 0.0016581314574324324, 0.0016415501428497237, 0.0016251346414293266, 0.0016088832950202914, 0.0015927944620699463, 0.001576866517453368, 0.001561097852274429, 0.0015454868737379002, 0.0015300320050073424, 0.0015147316849635217, 0.0014995843681191445, 0.001484588524448327, 0.0014697426392018542, 0.001455045212807704, 0.0014404947606720953, 0.0014260898130658006, 0.0014118289149394059, 0.001397710625795412, 0.0013837335195319156, 0.0013698961843431334, 0.001356197222506239, 0.0013426352502818872, 0.001329208897772105, 0.0013159168087781836, 0.0013027576407154129, 0.0012897300643004428, 0.0012768327636507593, 0.0012640644360004671, 0.001251423791629236, 0.001238909553734402, 0.001226520458203595, 0.0012142552536147377, 0.0012021127010797272, 0.001190091574059693, 0.0011781906583223645, 0.0011664087517573307, 0.001154744664233931, 0.0011431972176154659, 0.001131765245418137, 0.0011204475929673663, 0.0011092431170283135, 0.001098150685848509, 0.001087169178987324, 0.0010762974872022824, 0.0010655345123495863, 0.0010548791672277957, 0.001044330375549407, 0.0010338870718129556, 0.0010235482010614305, 0.0010133127190670166, 0.0010031795918763464, 0.0009931477959526092, 0.0009832163179908093, 0.0009733841548182909, 0.0009636503132668395, 0.0009540138101300499, 0.0009444736720496394, 0.0009350289353164953, 0.0009256786459701516, 0.0009164218595003604, 0.0009072576409039357, 0.0008981850645000122, 0.0008892032138589911, 0.0008803111817172748, 0.0008715080699204236, 0.0008627929892099928, 0.0008541650593372196, 0.0008456234087361736, 0.000837167174651654, 0.0008287955028976057, 0.0008205075478571189, 0.0008123024723829531, 0.0008041794476554287, 0.000796137653196638, 0.0007881762766430711, 0.0007802945138877249, 0.0007724915687390421, 0.0007647666530488095, 0.0007571189865274164, 0.0007495477966728004, 0.0007420523187136041, 0.0007346317955239101, 0.0007272854775663973, 0.0007200126227928649, 0.0007128124965447569, 0.000705684371581583, 0.0006986275278677567, 0.0006916412525868054, 0.0006847248400703165, 0.000677877591641618, 0.0006710988157294651, 0.0006643878275838233, 0.0006577439493185011, 0.0006511665098258845, 0.0006446548447343048, 0.0006382082962659297, 0.0006318262133220287, 0.0006255079511845452, 0.0006192528716724155, 0.0006130603429710391, 0.0006069297395328022, 0.0006008604421197106, 0.0005948518377039136, 0.0005889033193255955, 0.000583014286135608, 0.0005771841432675728, 0.0005714123018520922, 0.0005656981788320081, 0.0005600411970476671, 0.0005544407850663902, 0.0005488963772251054, 0.0005434074134598177, 0.0005379733393056085, 0.0005325936059392689, 0.0005272676698808709, 0.0005219949931642986, 0.0005167750432377716, 0.0005116072928075255, 0.0005064912198662341, 0.0005014263076645875, 0.000496412044597605, 0.000491447924147792, 0.00048653344491356165, 0.0004816681104671261, 0.0004768514293687076, 0.0004720829150812733, 0.0004673620859279026, 0.0004626884650633656, 0.00045806158040306855, 0.00045348096460884335, 0.00044894615494683876, 0.00044445669341541816, 0.00044001212648936416, 0.00043561200520514376, 0.00043125588514669744, 0.0004269433263175415, 0.0004226738930697138, 0.0004184471541464063, 0.00041426268259669996, 0.0004101200557613538, 0.0004060188551875399, 0.0004019586666288433, 0.00039793907997420774, 0.0003939596891768815, 0.0003900200922686281, 0.0003861198913455155, 0.0003822586924400184, 0.0003784361055352292, 0.0003746517444795927, 0.0003709052270437496, 0.0003671961747500063, 0.0003635242130002325, 0.0003598889708769093, 0.0003562900811431291, 0.00035272718034207173, 0.0003491999085554198, 0.0003457079094744131, 0.0003422508303572158, 0.00033882832207154934, 0.0003354400388531076, 0.00033208563846187644, 0.0003287647820826578, 0.00032547713425401525, 0.00032222236291090667, 0.0003190001392852082, 0.00031581013790571433, 0.00031265203651287266, 0.0003095255161440491, 0.00030643026099141935, 0.00030336595838775793, 0.0003003322988064383, 0.00029732897579037854, 0.0002943556860515173, 0.00029141212918659676, 0.00028849800791874713, 0.00028561302782748044, 0.0002827568975334316, 0.00027992932858467157, 0.00027713003530038804, 0.00027435873492720475, 0.0002716151475681272, 0.00026889899609727763, 0.00026621000613147316, 0.0002635479060728585, 0.00026091242700942985, 0.0002583033027434567, 0.0002557202697204275, 0.00025316306702904967, 0.0002506314363444062, 0.0002481251219847991, 0.0002456438707838515, 0.00024318743204787552, 0.00024075555774061286, 0.00023834800215638552, 0.00023596452214746932, 0.00023360487692514198, 0.0002312688281449482, 0.000228956139878278, 0.00022666657847025817, 0.00022439991269607162, 0.00022215591354779463, 0.00021993435443334874, 0.0002177350108780729, 0.0002155576607663079, 0.000213402084185077, 0.00021126806333882087, 0.00020915538269150602, 0.00020706382888135977, 0.0002049931905929725, 0.00020294325868519536, 0.0002009138260916643, 0.00019890468782080006, 0.00019691564095580816, 0.00019494648456941377, 0.00019299701969544003, 0.00019106704951354914, 0.00018915637899397097, 0.00018726481521014193, 0.00018539216706869865, 0.00018353824539474317, 0.0001817028629318429, 0.00017988583431360894, 0.00017808697597843093, 0.00017630610619789877, 0.00017454304513364605, 0.00017279761469524146, 0.00017106963856861057, 0.00016935894218761405, 0.0001676653527624694, 0.0001659886992229076, 0.00016432881220396212, 0.0001626855240886016, 0.00016105866886562126, 0.00015944808217227546, 0.00015785360135112114, 0.0001562750653505418, 0.00015471231469632585, 0.00015316519154850994, 0.00015163353964453563, 0.0001501172042566168, 0.00014861603220595043, 0.00014712987186271675, 0.0001456585731460791, 0.00014420198743891888, 0.00014275996755941378, 0.00014133236786051384, 0.00013991904418730883, 0.00013851985374913056, 0.00013713465520481805, 0.0001357633086485066, 0.0001344056755812062, 0.00013306161879711453, 0.00013173100262520165, 0.00013041369260236024, 0.0001291095556723576, 0.00012781846011478137, 0.00012654027551661784, 0.00012527487275804106, 0.00012402212402662371, 0.00012278190278891543, 0.00012155408376202104, 0.00012033854292781143, 0.00011913515747608017, 0.00011794380590401943, 0.00011676436785990063, 0.00011559672418570699, 0.00011444075694555522, 0.00011329634936885213, 0.00011216338587871633, 0.00011104175203513478, 0.00010993133449233028, 0.00010883202116929169, 0.00010774370097976771, 0.00010666626396016454, 0.00010559960129796764, 0.00010454360530331996, 0.00010349816926691346, 0.00010246318754525419, 0.00010143855566013826, 0.0001004241701139108, 9.94199284178876e-05, 9.842572912077685e-05, 9.744147183710083e-05, 9.646705711929826e-05, 9.550238655720023e-05, 9.454736267855424e-05, 9.360188906271105e-05, 9.266587018430528e-05, 9.173921145588793e-05, 9.082181934161326e-05, 8.991360115828684e-05, 8.901446514641975e-05, 8.812432051286123e-05, 8.724307728869007e-05, 8.637064652816662e-05, 8.550694005293735e-05, 8.465187066519775e-05, 8.380535194874028e-05, 8.296729842527384e-05, 8.213762544073688e-05, 8.131624919371916e-05, 8.050308669282913e-05, 7.969805582774825e-05, 7.890107526975498e-05, 7.811206451435737e-05, 7.733094389550388e-05, 7.655763444347485e-05, 7.579205806962364e-05, 7.503413750953314e-05, 7.428379613827474e-05, 7.354095816936024e-05, 7.280554859789845e-05, 7.207749311533007e-05, 7.13567181662711e-05, 7.064315099114538e-05, 6.993671948407609e-05, 6.923735227815087e-05, 6.854497875963261e-05, 6.785952898269443e-05, 6.718093369784128e-05, 6.650912436612089e-05, 6.584403310228026e-05, 6.51855927884526e-05, 6.453373684678354e-05, 6.388839948101577e-05, 6.324951547753699e-05, 6.261702033327765e-05, 6.199085012781325e-05, 6.137094163705115e-05, 6.075723220533291e-05, 6.0149659901753694e-05, 5.954816330699941e-05, 5.895268166966616e-05, 5.83631548778385e-05, 5.7779523316980885e-05, 5.7201728083100534e-05, 5.662971082642798e-05, 5.606341369457368e-05, 5.550277957411254e-05, 5.494775179215594e-05, 5.439827424424948e-05, 5.385429147963805e-05, 5.331574857336818e-05, 5.2782591097866316e-05, 5.225476519399308e-05, 5.1732217542621584e-05, 5.121489535042656e-05, 5.070274640672778e-05, 5.019571894138153e-05, 4.9693761752678256e-05, 4.919682413628834e-05, 4.870485588526208e-05, 4.821780731845138e-05, 4.7735629252088074e-05, 4.72582729713622e-05, 4.678569024463286e-05, 4.631783336606077e-05, 4.585465504192143e-05, 4.539610847587028e-05, 4.49421473831535e-05, 4.449272589113207e-05, 4.404779863875774e-05, 4.360732067709705e-05, 4.3171247455120465e-05, 4.273953499023264e-05, 4.231213964089875e-05, 4.1889018234542164e-05, 4.1470128039122756e-05, 4.105542676313689e-05, 4.064487249877402e-05, 4.0238423764549225e-05, 3.983603951951409e-05, 3.943767913483498e-05, 3.904330235116049e-05, 3.865286933546486e-05, 3.826634065262624e-05, 3.788367723700503e-05, 3.750484046349811e-05, 3.712979204806288e-05, 3.675849413298238e-05, 3.639090920160015e-05, 3.602700007832027e-05, 3.566673009913757e-05, 3.531006279899884e-05, 3.495696216759825e-05, 3.460739253569045e-05, 3.4261318603512336e-05, 3.391870542657216e-05, 3.3579518387227836e-05, 3.324372318047608e-05, 3.291128597027182e-05, 3.258217311952194e-05, 3.225635140324812e-05, 3.1933787852267415e-05, 3.161444998056595e-05, 3.129830548687096e-05, 3.0985322439391894e-05, 3.0675469218977014e-05, 3.0368714519113382e-05, 3.0065027374348574e-05, 2.976437710344726e-05, 2.946673333781291e-05, 2.9172066007276953e-05, 2.8880345311677047e-05, 2.859154186296564e-05, 2.8305626457836297e-05, 2.8022570205621378e-05, 2.774234449987034e-05, 2.746492104677145e-05, 2.7190271836730062e-05, 2.691836913015777e-05, 2.6649185443261558e-05, 2.63826935764655e-05, 2.6118866642832472e-05, 2.5857677997009887e-05, 2.5599101192597118e-05, 2.5343110181097472e-05, 2.508967909875537e-05, 2.483878228076719e-05, 2.459039447444411e-05, 2.434449052657328e-05, 2.4101045639213226e-05, 2.3860035170741867e-05, 2.3621434820597642e-05, 2.3385220458749245e-05, 2.315136825359332e-05, 2.291985457247847e-05, 2.2690656038548696e-05, 2.2463749459689097e-05, 2.223911197063444e-05, 2.2016720862438888e-05, 2.1796553667741136e-05, 2.1578588118131847e-05, 2.1362802229418776e-05, 2.114917420215079e-05, 2.0937682478461284e-05, 2.0728305642592204e-05, 2.0521022605635153e-05, 2.0315812378157716e-05, 2.0112654254944573e-05, 1.991152770131066e-05, 1.9712412424155445e-05, 1.951528830090865e-05, 1.9320135436373675e-05, 1.912693409167332e-05, 1.8935664741093206e-05, 1.874630808629263e-05, 1.8558844999461144e-05, 1.8373256537529414e-05, 1.818952398480178e-05, 1.8007628753480276e-05, 1.7827552468929753e-05, 1.764927692704532e-05, 1.7472784151095766e-05, 1.7298056320669275e-05, 1.7125075743251728e-05, 1.6953824996335243e-05, 1.6784286756887923e-05, 1.661644388661898e-05, 1.6450279446189597e-05, 1.6285776652580353e-05, 1.612291887909123e-05, 1.5961689683763325e-05, 1.5802072795167987e-05, 1.5644052055563407e-05, 1.54876115487923e-05, 1.5332735429751665e-05, 1.5179408080712165e-05, 1.502761401184216e-05, 1.4877337875418561e-05, 1.4728564480037676e-05, 1.4581278847458634e-05, 1.443546604207313e-05, 1.4291111384068245e-05, 1.4148200264685329e-05, 1.4006718259906847e-05, 1.3866651073612957e-05, 1.3727984566003215e-05, 1.3590704725174874e-05, 1.3454797695544585e-05, 1.3320249735215839e-05, 1.318704720176811e-05, 1.305517672278711e-05, 1.2924624968491116e-05, 1.2795378722785244e-05, 1.2667424940104866e-05, 1.2540750688572189e-05, 1.2415343192628825e-05, 1.2291189776192368e-05, 1.2168277862656396e-05, 1.2046595088577305e-05, 1.1926129118933204e-05, 1.180686783186502e-05, 1.16887991623571e-05, 1.1571911159080628e-05, 1.1456192041237045e-05, 1.1341630127503777e-05, 1.1228213821823374e-05, 1.1115931670246937e-05, 1.1004772375144967e-05, 1.0894724667309674e-05, 1.0785777405430963e-05, 1.0677919632939847e-05, 1.0571140435899906e-05, 1.0465429042483265e-05, 1.036077473770547e-05, 1.025716700553403e-05, 1.015459534414731e-05, 1.0053049365410516e-05, 9.952518880140815e-06, 9.852993699155377e-06, 9.754463746958209e-06, 9.656919132794428e-06, 9.560349937487445e-06, 9.464746426601778e-06, 9.370098965177931e-06, 9.276397975099826e-06, 9.183633991938223e-06, 9.091797650739863e-06, 9.00087967181662e-06, 8.910870874956345e-06, 8.821762151001167e-06, 8.73354456132347e-06, 8.646209110452219e-06, 8.5597470160792e-06, 8.474149566950473e-06, 8.389408094444661e-06, 8.305514000994663e-06, 8.22245885956363e-06, 8.140234285747283e-06, 8.058831923563048e-06, 7.978243601769464e-06, 7.898461149125069e-06, 7.81947653649695e-06, 7.741281791595611e-06, 7.663868956342412e-06, 7.587230257399824e-06, 7.511357949852027e-06, 7.436244388259183e-06, 7.361881927181457e-06, 7.288263120130978e-06, 7.21538047798731e-06, 7.14322669637113e-06, 7.07179442827055e-06, 7.00107649720394e-06, 6.931065740900522e-06, 6.861755068143793e-06, 6.793137515614944e-06, 6.725206162627728e-06, 6.657954088495899e-06, 6.591374543063466e-06, 6.525460790385296e-06, 6.460206193992235e-06, 6.395604131625987e-06, 6.331648094715092e-06, 6.268331645742364e-06, 6.205648318768908e-06, 6.143591846807794e-06, 6.082155877606965e-06, 6.021334328920602e-06, 5.961120990605195e-06, 5.901509766204072e-06, 5.842494658736541e-06, 5.784069728065333e-06, 5.726229019842322e-06, 5.668966721827928e-06, 5.612277064415139e-06, 5.556154306418648e-06, 5.50059276349657e-06, 5.445586850783002e-06, 5.3911309692011855e-06, 5.33721966178291e-06, 5.283847471559966e-06, 5.231008969985851e-06, 5.178698884833466e-06, 5.1269119012431474e-06, 5.07564278962036e-06, 5.024886348792279e-06, 4.974637491272915e-06, 4.924891115365426e-06, 4.875642204638098e-06, 4.826885785291779e-06, 4.778616940370739e-06, 4.730830767130101e-06, 4.683522462300971e-06, 4.63668723682531e-06, 4.590320358488498e-06, 4.5444171377084785e-06, 4.4989729701683245e-06, 4.453983265761963e-06, 4.40944343438332e-06, 4.365348999613161e-06, 4.32169551345396e-06, 4.278478556329901e-06, 4.235693765508586e-06, 4.193336820890181e-06, 4.1514034592182725e-06, 4.1098894314473e-06, 4.0687905595859775e-06, 4.0281026656430186e-06, 3.987821656892265e-06, 3.947943383764141e-06, 3.908463952484453e-06, 3.869379312959609e-06, 3.830685500361142e-06, 3.7923786493365697e-06, 3.7544548803225553e-06, 3.716910327966616e-06, 3.6797412121813977e-06, 3.6429438239338197e-06, 3.606514368925673e-06, 3.5704492375998598e-06, 3.5347447351341543e-06, 3.4993973088148778e-06, 3.464403320663223e-06, 3.42975927480893e-06, 3.3954616895925938e-06, 3.361507069143954e-06, 3.3278920028578796e-06, 3.2946130801292384e-06, 3.2616669471963178e-06, 3.2290502787191144e-06, 3.1967597635684797e-06, 3.164792175880393e-06, 3.13314427557998e-06, 3.1018128225923647e-06, 3.070794704740365e-06, 3.0400867530033793e-06, 3.0096858694150797e-06, 2.9795890270634118e-06, 2.9497931279820477e-06, 2.920295202102352e-06, 2.8910922793556892e-06, 2.862181332830005e-06, 2.833559520354356e-06, 2.8052239287035263e-06, 2.777171673074008e-06, 2.7493999539274228e-06, 2.7219059575145366e-06, 2.6946868842969707e-06, 2.667740034212329e-06, 2.641062621933088e-06, 2.61465200424027e-06, 2.588505495282334e-06, 2.562620437629448e-06, 2.5369942306952e-06, 2.511624273893176e-06, 2.486508051902092e-06, 2.46164297834639e-06, 2.437026537904785e-06, 2.412656257888557e-06, 2.388529708241549e-06, 2.3646444020641866e-06, 2.340997966143732e-06, 2.3175879846348835e-06, 2.2944121127466133e-06, 2.2714680056878933e-06, 2.2487533186676956e-06, 2.2262657779492656e-06, 2.2040031240067037e-06, 2.1819630831032555e-06, 2.16014345255644e-06, 2.1385420154729218e-06, 2.117156611802784e-06, 2.0959850530744006e-06, 2.0750251934487096e-06, 2.054274929719213e-06, 2.0337322013119774e-06, 2.0133948765987952e-06, 1.9932609234274423e-06, 1.9733283096456944e-06, 1.9535950315230366e-06, 1.934059085328954e-06, 1.914718509965496e-06, 1.8955713159130028e-06, 1.876615598916942e-06, 1.8578494405119272e-06, 1.8392709506542815e-06, 1.8208782393003276e-06, 1.8026694590389525e-06, 1.7846427624590433e-06, 1.7667963447820512e-06, 1.7491283585968631e-06, 1.7316370986009133e-06, 1.714320703172234e-06, 1.697177495429969e-06, 1.6802057132281334e-06, 1.6634036796858709e-06, 1.6467696326571968e-06, 1.6303019378938188e-06, 1.613998904304026e-06, 1.5978589260612353e-06, 1.5818803547062998e-06, 1.5660615417800727e-06, 1.5504009240885352e-06, 1.534896924226814e-06, 1.519547950579181e-06, 1.5043524825841814e-06, 1.4893089712586516e-06, 1.4744158534085727e-06, 1.4596717079484733e-06, 1.4450749858951895e-06, 1.4306242377415401e-06, 1.4163179997694897e-06, 1.4021548224718572e-06, 1.3881332705523164e-06, 1.3742519513471052e-06, 1.360509401138188e-06, 1.3469043125269309e-06, 1.3334352786387171e-06, 1.3201009210206394e-06, 1.3068999038523543e-06, 1.2938309055243735e-06, 1.2808926186380631e-06, 1.2680836789513705e-06, 1.2554028501199355e-06, 1.2428488105342694e-06, 1.2304203238500122e-06, 1.2181161110902394e-06, 1.2059349501214456e-06, 1.1938756188101252e-06, 1.1819368523902085e-06, 1.1701174997824637e-06, 1.1584163246425305e-06, 1.1468321474694676e-06, 1.1353638313948977e-06, 1.1240101969178795e-06, 1.112770092959181e-06, 1.1016423968612798e-06, 1.0906259717557987e-06, 1.0797197234069245e-06, 1.06892251494628e-06, 1.0582332805597616e-06, 1.047650940222411e-06, 1.0371744423309792e-06, 1.0268026926496532e-06, 1.0165346679968934e-06, 1.0063693309803057e-06, 9.96305629996641e-07])\n"
     ]
    }
   ],
   "source": [
    "Q_vi = value_iteration(env)\n",
    "print(Q_vi)"
   ]
  },
  {
   "cell_type": "code",
   "execution_count": 16,
   "metadata": {
    "colab": {
     "base_uri": "https://localhost:8080/",
     "height": 440
    },
    "id": "rZ7k-rDLssSk",
    "outputId": "7731f953-093d-4c3b-e84f-1b356eb892c3"
   },
   "outputs": [
    {
     "ename": "KeyboardInterrupt",
     "evalue": "",
     "output_type": "error",
     "traceback": [
      "\u001b[1;31m---------------------------------------------------------------------------\u001b[0m",
      "\u001b[1;31mKeyboardInterrupt\u001b[0m                         Traceback (most recent call last)",
      "Cell \u001b[1;32mIn[16], line 1\u001b[0m\n\u001b[1;32m----> 1\u001b[0m Q_vi \u001b[39m=\u001b[39m value_iteration(env)\n\u001b[0;32m      2\u001b[0m \u001b[39mprint\u001b[39m(Q_vi)\n\u001b[0;32m      3\u001b[0m \u001b[39m# Following value iteration policy \u001b[39;00m\n",
      "Cell \u001b[1;32mIn[11], line 12\u001b[0m, in \u001b[0;36mvalue_iteration\u001b[1;34m(env, gamma, epsilon, Niter)\u001b[0m\n\u001b[0;32m     10\u001b[0m \u001b[39mwhile\u001b[39;00m t\u001b[39m<\u001b[39mNiter :\n\u001b[0;32m     11\u001b[0m   Q_prev\u001b[39m=\u001b[39mQ\n\u001b[1;32m---> 12\u001b[0m   Q\u001b[39m=\u001b[39mbellman_operator(Q,env,gamma)\n\u001b[0;32m     13\u001b[0m   error\u001b[39m=\u001b[39mnp\u001b[39m.\u001b[39mmax(np\u001b[39m.\u001b[39mabs(Q\u001b[39m-\u001b[39mQ_prev))\n\u001b[0;32m     14\u001b[0m   \u001b[39mTabError\u001b[39;00m\u001b[39m.\u001b[39mappend(error)\n",
      "Cell \u001b[1;32mIn[5], line 10\u001b[0m, in \u001b[0;36mbellman_operator\u001b[1;34m(Q, env, gamma)\u001b[0m\n\u001b[0;32m      8\u001b[0m \u001b[39msum\u001b[39m\u001b[39m=\u001b[39m\u001b[39m0\u001b[39m\n\u001b[0;32m      9\u001b[0m \u001b[39mfor\u001b[39;00m s \u001b[39min\u001b[39;00m \u001b[39mrange\u001b[39m(S):\n\u001b[1;32m---> 10\u001b[0m   q\u001b[39m=\u001b[39mnp\u001b[39m.\u001b[39;49mmax(Q[s,:])\n\u001b[0;32m     11\u001b[0m   \u001b[39msum\u001b[39m\u001b[39m+\u001b[39m\u001b[39m=\u001b[39mq\u001b[39m*\u001b[39menv\u001b[39m.\u001b[39mP[state,action,s]\n\u001b[0;32m     12\u001b[0m TQ[state,action]\u001b[39m=\u001b[39menv\u001b[39m.\u001b[39mR[state,action]\u001b[39m+\u001b[39mgamma\u001b[39m*\u001b[39m\u001b[39msum\u001b[39m\n",
      "File \u001b[1;32m<__array_function__ internals>:180\u001b[0m, in \u001b[0;36mamax\u001b[1;34m(*args, **kwargs)\u001b[0m\n",
      "File \u001b[1;32mc:\\Users\\Utilisateur\\anaconda3\\envs\\rltutorials\\lib\\site-packages\\numpy\\core\\fromnumeric.py:2793\u001b[0m, in \u001b[0;36mamax\u001b[1;34m(a, axis, out, keepdims, initial, where)\u001b[0m\n\u001b[0;32m   2677\u001b[0m \u001b[39m@array_function_dispatch\u001b[39m(_amax_dispatcher)\n\u001b[0;32m   2678\u001b[0m \u001b[39mdef\u001b[39;00m \u001b[39mamax\u001b[39m(a, axis\u001b[39m=\u001b[39m\u001b[39mNone\u001b[39;00m, out\u001b[39m=\u001b[39m\u001b[39mNone\u001b[39;00m, keepdims\u001b[39m=\u001b[39mnp\u001b[39m.\u001b[39m_NoValue, initial\u001b[39m=\u001b[39mnp\u001b[39m.\u001b[39m_NoValue,\n\u001b[0;32m   2679\u001b[0m          where\u001b[39m=\u001b[39mnp\u001b[39m.\u001b[39m_NoValue):\n\u001b[0;32m   2680\u001b[0m     \u001b[39m\"\"\"\u001b[39;00m\n\u001b[0;32m   2681\u001b[0m \u001b[39m    Return the maximum of an array or maximum along an axis.\u001b[39;00m\n\u001b[0;32m   2682\u001b[0m \n\u001b[1;32m   (...)\u001b[0m\n\u001b[0;32m   2791\u001b[0m \u001b[39m    5\u001b[39;00m\n\u001b[0;32m   2792\u001b[0m \u001b[39m    \"\"\"\u001b[39;00m\n\u001b[1;32m-> 2793\u001b[0m     \u001b[39mreturn\u001b[39;00m _wrapreduction(a, np\u001b[39m.\u001b[39;49mmaximum, \u001b[39m'\u001b[39;49m\u001b[39mmax\u001b[39;49m\u001b[39m'\u001b[39;49m, axis, \u001b[39mNone\u001b[39;49;00m, out,\n\u001b[0;32m   2794\u001b[0m                           keepdims\u001b[39m=\u001b[39;49mkeepdims, initial\u001b[39m=\u001b[39;49minitial, where\u001b[39m=\u001b[39;49mwhere)\n",
      "\u001b[1;31mKeyboardInterrupt\u001b[0m: "
     ]
    }
   ],
   "source": [
    "\n",
    "# Following value iteration policy \n",
    "state = env.reset()     \n",
    "env.enable_rendering()  \n",
    "for tt in range(100):   \n",
    "  action = Q_vi[state, :].argmax()\n",
    "  next_state, reward, is_terminal, info = env.step(action)\n",
    "  if is_terminal:\n",
    "    break\n",
    "  state = next_state\n",
    "\n",
    "# save video (run last cell to visualize it!)\n",
    "env.save_video('./videos/value_iteration_policy.mp4', framerate=10)\n",
    "# clear rendering data\n",
    "env.clear_render_buffer()\n",
    "env.disable_rendering()\n",
    "# see video\n",
    "show_video(filename='./videos/value_iteration_policy.mp4')"
   ]
  },
  {
   "cell_type": "markdown",
   "metadata": {
    "id": "1Uw6LVyVulOX"
   },
   "source": [
    "# Implementing Q-Learning\n",
    "\n",
    "Implement a function ``q_learning`` that takes as input an environment, runs Q learning for $T$ time steps and returns $Q_T$. \n",
    "\n",
    "Test different learning rates:\n",
    "  * $\\alpha_t(s, a) = \\frac{1}{\\text{number of visits to} (s, a)}$\n",
    "  * $\\alpha_t(s, a) =$ constant in $]0, 1[$\n",
    "  * others?\n",
    "\n",
    "Test different initializations of the Q function and try different values of $\\varepsilon$ in the $\\varepsilon$-greedy exploration!\n",
    "\n",
    "It might be very useful to plot the difference between the Q-learning approximation and the output of value iteration above, as a function of time.\n"
   ]
  },
  {
   "cell_type": "code",
   "execution_count": 42,
   "metadata": {
    "id": "OrhUOlrfv6xp"
   },
   "outputs": [],
   "source": [
    "def q_learning(env, gamma=0.99, T=5000, Q_vi=None):\n",
    "  \"\"\"\n",
    "  Q_vi is the output of value iteration.\n",
    "  \"\"\"\n",
    "  epsilon=0.5\n",
    "  S = env.observation_space.n\n",
    "  A = env.action_space.n \n",
    "  error = np.zeros(T)\n",
    "  Q = np.zeros((S, A))  # can we improve this initialization? \n",
    "  #Choix du alpha : \n",
    "  alpha=0.5\n",
    "\n",
    "  state = env.reset()\n",
    "    # to complete...\n",
    "  for tt in range(T):\n",
    "    # choose action a_t\n",
    "    rand=rd.uniform(0,1)\n",
    "    if rand<epsilon:\n",
    "      action = rd.randint(0,A-1)\n",
    "    else:\n",
    "      action = np.max(Q[state,:])\n",
    "    # take action, observe next state and reward \n",
    "    nex_state,reward,isTerminal,info = env.step(action)\n",
    "    # compute delta_t\n",
    "    delta_t=reward+gamma*(np.max(Q[next_state,:]))-Q[state,action]\n",
    "    # update Q\n",
    "    Q[state,action]=Q[state,action]+alpha*delta_t\n",
    "    Q_vi=value_iteration(env=env,gamma=0.99,epsilon=0.0000001)\n",
    "    \n",
    "    error[tt] = np.abs(Q-Q_vi).max()\n",
    "  \n",
    "  plt.plot(error)\n",
    "  plt.xlabel('iteration')\n",
    "  plt.title('Q-Learning error')\n",
    "  plt.show()\n",
    "  \n",
    "  return Q "
   ]
  },
  {
   "cell_type": "code",
   "execution_count": 43,
   "metadata": {
    "colab": {
     "base_uri": "https://localhost:8080/",
     "height": 718
    },
    "id": "fOetdWM4xhLt",
    "outputId": "f755ca3f-86f1-4c48-ffe7-fa88d1dc68b3"
   },
   "outputs": [
    {
     "ename": "AssertionError",
     "evalue": "Invalid action!",
     "output_type": "error",
     "traceback": [
      "\u001b[1;31m---------------------------------------------------------------------------\u001b[0m",
      "\u001b[1;31mAssertionError\u001b[0m                            Traceback (most recent call last)",
      "Cell \u001b[1;32mIn[43], line 1\u001b[0m\n\u001b[1;32m----> 1\u001b[0m Q_ql \u001b[39m=\u001b[39m q_learning(env, Q_vi\u001b[39m=\u001b[39;49mQ_vi)\n\u001b[0;32m      3\u001b[0m \u001b[39m# Following Q-Learning policy \u001b[39;00m\n\u001b[0;32m      4\u001b[0m state \u001b[39m=\u001b[39m env\u001b[39m.\u001b[39mreset()     \n",
      "Cell \u001b[1;32mIn[42], line 23\u001b[0m, in \u001b[0;36mq_learning\u001b[1;34m(env, gamma, T, Q_vi)\u001b[0m\n\u001b[0;32m     21\u001b[0m   action\u001b[39m=\u001b[39mnp\u001b[39m.\u001b[39mmax(Q[state,:])\n\u001b[0;32m     22\u001b[0m \u001b[39m# take action, observe next state and reward \u001b[39;00m\n\u001b[1;32m---> 23\u001b[0m nex_state,reward,isTerminal,info \u001b[39m=\u001b[39m env\u001b[39m.\u001b[39;49mstep(action)\n\u001b[0;32m     24\u001b[0m \u001b[39m# compute delta_t\u001b[39;00m\n\u001b[0;32m     25\u001b[0m delta_t\u001b[39m=\u001b[39mreward\u001b[39m+\u001b[39mgamma\u001b[39m*\u001b[39m(np\u001b[39m.\u001b[39mmax(Q[next_state,:]))\u001b[39m-\u001b[39mQ[state,action]\n",
      "File \u001b[1;32mc:\\Users\\Utilisateur\\anaconda3\\envs\\rltutorials\\lib\\site-packages\\rlberry\\envs\\finite\\gridworld.py:344\u001b[0m, in \u001b[0;36mGridWorld.step\u001b[1;34m(self, action)\u001b[0m\n\u001b[0;32m    343\u001b[0m \u001b[39mdef\u001b[39;00m \u001b[39mstep\u001b[39m(\u001b[39mself\u001b[39m, action):\n\u001b[1;32m--> 344\u001b[0m     \u001b[39massert\u001b[39;00m \u001b[39mself\u001b[39m\u001b[39m.\u001b[39maction_space\u001b[39m.\u001b[39mcontains(action), \u001b[39m\"\u001b[39m\u001b[39mInvalid action!\u001b[39m\u001b[39m\"\u001b[39m\n\u001b[0;32m    346\u001b[0m     \u001b[39m# save state for rendering\u001b[39;00m\n\u001b[0;32m    347\u001b[0m     \u001b[39mif\u001b[39;00m \u001b[39mself\u001b[39m\u001b[39m.\u001b[39mis_render_enabled():\n",
      "\u001b[1;31mAssertionError\u001b[0m: Invalid action!"
     ]
    }
   ],
   "source": [
    "Q_ql = q_learning(env, Q_vi=Q_vi)\n",
    "\n",
    "# Following Q-Learning policy \n",
    "state = env.reset()     \n",
    "env.enable_rendering()  \n",
    "for tt in range(100):   \n",
    "  action = Q_ql[state, :].argmax()\n",
    "  next_state, reward, is_terminal, info = env.step(action)\n",
    "  if is_terminal:\n",
    "    break\n",
    "  state = next_state\n",
    "\n",
    "# save video (run last cell to visualize it!)\n",
    "env.save_video('./videos/q_learning_policy.mp4', framerate=10)\n",
    "# clear rendering data\n",
    "env.clear_render_buffer()\n",
    "env.disable_rendering()\n",
    "# see video\n",
    "show_video(filename='./videos/q_learning_policy.mp4')"
   ]
  }
 ],
 "metadata": {
  "colab": {
   "authorship_tag": "ABX9TyM+8H1rbTADo1Hh3m1E+mXQ",
   "collapsed_sections": [],
   "include_colab_link": true,
   "name": "Tutorial - Value Iteration and Q-Learning.ipynb",
   "provenance": [],
   "toc_visible": true
  },
  "kernelspec": {
   "display_name": "Python 3.8.15 ('rltutorials')",
   "language": "python",
   "name": "python3"
  },
  "language_info": {
   "codemirror_mode": {
    "name": "ipython",
    "version": 3
   },
   "file_extension": ".py",
   "mimetype": "text/x-python",
   "name": "python",
   "nbconvert_exporter": "python",
   "pygments_lexer": "ipython3",
   "version": "3.8.15"
  },
  "vscode": {
   "interpreter": {
    "hash": "22fb3692bee311354396abce5de73f147db26a6651d0fabb33560b91bb1fb1cd"
   }
  }
 },
 "nbformat": 4,
 "nbformat_minor": 1
}
