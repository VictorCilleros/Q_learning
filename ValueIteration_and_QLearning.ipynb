{
 "cells": [
  {
   "cell_type": "markdown",
   "metadata": {
    "colab_type": "text",
    "id": "view-in-github"
   },
   "source": [
    "<a href=\"https://colab.research.google.com/github/rlberry-py/tutorials/blob/main/Value%20Iteration%20and%20Q-Learning/Value_Iteration_and_Q_Learning.ipynb\" target=\"_parent\"><img src=\"https://colab.research.google.com/assets/colab-badge.svg\" alt=\"Open In Colab\"/></a>"
   ]
  },
  {
   "cell_type": "markdown",
   "metadata": {
    "id": "Io_4iovMTlzT"
   },
   "source": [
    "# Tutorial - Value Iteration and Q-Learning\n",
    "---------------------------------\n",
    "\n",
    "In this tutorial, you will:\n",
    "\n",
    "* Implement the value iteration algorithm to approximate the value function when *a model of the environment is available*.\n",
    "* Implement the Q-Learning algorithm to approximate the value function when *the model is unknown*, that is, the agent must learn through interactions.\n",
    "\n",
    "We start with a short review of these algorithms.\n",
    "\n",
    "\n",
    "## Markov decision processes and value functions\n",
    "\n",
    "In reinforcement learning, an agent interacts with an enviroment by taking actions and observing rewards. Its goal is to learn a *policy*, that is, a mapping from states to actions, that maximizes the amount of reward it gathers.\n",
    "\n",
    "The enviroment is modeled as a __Markov decision process (MDP)__, defined by a set of states $\\mathcal{S}$, a set of actions $\\mathcal{A}$, a reward function $r(s, a)$ and transition probabilities $P(s'|s,a)$. When an agent takes action $a$ in state $s$, it receives a random reward with mean $r(s,a)$ and makes a transion to a state $s'$ distributed according to $P(s'|s,a)$.\n",
    "\n",
    "A __policy__ $\\pi$ is such that $\\pi(a|s)$ gives the probability of choosing an action $a$ in state $s$. __If the policy is deterministic__, we denote by $\\pi(s)$ the action that it chooses in state $s$. We are interested in finding a policy that maximizes the value function $V^\\pi$, defined as \n",
    "\n",
    "$$\n",
    "V^\\pi(s) = \\sum_{a\\in \\mathcal{A}} \\pi(a|s) Q^\\pi(s, a), \n",
    "\\quad \\text{where} \\quad \n",
    "Q^\\pi(s, a) = \\mathbf{E}\\left[ \\sum_{t=0}^\\infty \\gamma^t r(S_t, A_t)  \\Big| S_0 = s, A_0 = a\\right].\n",
    "$$\n",
    "and represents the mean of the sum of discounted rewards gathered by the policy $\\pi$ in the MDP, where $\\gamma \\in [0, 1[$ is a discount factor ensuring the convergence of the sum. \n",
    "\n",
    "The __action-value function__ $Q^\\pi$ is the __fixed point of the Bellman operator $T^\\pi$__:\n",
    "\n",
    "$$ \n",
    "Q^\\pi(s, a) = T^\\pi Q^\\pi(s, a)\n",
    "$$\n",
    "where, for any function $f: \\mathcal{S}\\times\\mathcal{A} \\to \\mathbb{R}$\n",
    "$$\n",
    "T^\\pi f(s, a) =  r(s, a) + \\gamma \\sum_{s'} P(s'|s,a) \\left(\\sum_{a'}\\pi(a'|s')f(s',a')\\right) \n",
    "$$\n",
    "\n",
    "\n",
    "The __optimal value function__, defined as $V^*(s) = \\max_\\pi V^\\pi(s)$ can be shown to satisfy $V^*(s) = \\max_a Q^*(s, a)$, where $Q^*$ is the __fixed point of the optimal Bellman operator $T^*$__: \n",
    "\n",
    "$$ \n",
    "Q^*(s, a) = T^* Q^*(s, a)\n",
    "$$\n",
    "where, for any function $f: \\mathcal{S}\\times\\mathcal{A} \\to \\mathbb{R}$\n",
    "$$\n",
    "T^* f(s, a) =  r(s, a) + \\gamma \\sum_{s'} P(s'|s,a) \\max_{a'} f(s', a')\n",
    "$$\n",
    "and there exists an __optimal policy__ which is deterministic, given by $\\pi^*(s) \\in \\arg\\max_a Q^*(s, a)$.\n",
    "\n",
    "\n",
    "## Value iteration\n",
    "\n",
    "If both the reward function $r$ and the transition probablities $P$ are known, we can compute $Q^*$ using value iteration, which proceeds as follows:\n",
    "\n",
    "1. Start with arbitrary $Q_0$, set $t=0$.\n",
    "2. Compute $Q_{t+1}(s, a) = T^*Q_t(s,a)$ for every $(s, a)$.\n",
    "3. If $\\max_{s,a} | Q_{t+1}(s, a) -  Q_t(s,a)| \\leq \\varepsilon$, return $Q_{t}$. Otherwise, set $t \\gets t+1$ and go back to 2. \n",
    "\n",
    "The convergence is guaranteed by the contraction property of the Bellman operator, and $Q_{t+1}$ can be shown to be a good approximation of $Q^*$ for small epsilon. \n",
    "\n",
    "__Question__: Can you bound the error $\\max_{s,a} | Q^*(s, a) -  Q_t(s,a)|$ as a function of $\\gamma$ and $\\varepsilon$?\n",
    "\n",
    "## Q-Learning\n",
    "\n",
    "In value iteration, we need to know $r$ and $P$ to implement the Bellman operator. When these quantities are not available, we can approximate $Q^*$ using *samples* from the environment with the Q-Learning algorithm.\n",
    "\n",
    "Q-Learning with __$\\varepsilon$-greedy exploration__ proceeds as follows:\n",
    "\n",
    "1. Start with arbitrary $Q_0$, get starting state $s_0$, set $t=0$.\n",
    "2. Choosing action $a_t$: \n",
    "  * With probability $\\varepsilon$ choose $a_t$ randomly (uniform distribution)  \n",
    "  * With probability $1-\\varepsilon$, choose $a_t \\in \\arg\\max_a Q_t(s_t, a)$.\n",
    "3. Take action $a_t$, observe next state $s_{t+1}$ and reward $r_t$.\n",
    "4. Compute error $\\delta_t = r_t + \\gamma \\max_a Q_t(s_{t+1}, a) - Q_t(s_t, a_t)$.\n",
    "5. Update \n",
    "  * $Q_{t+1}(s, a) = Q_t(s, a) + \\alpha_t(s,a) \\delta_t$,  __if $s=s_t$ and $a=a_t$__\n",
    "  * $Q_{t+1}(s, a) = Q_{t}(s, a)$ otherwise.\n",
    "\n",
    "Here, $\\alpha_t(s,a)$ is a learning rate that can depend, for instance, on the number of times the algorithm has visited the state-action pair $(s, a)$. \n"
   ]
  },
  {
   "cell_type": "markdown",
   "metadata": {
    "id": "KYq9-63OR8RW"
   },
   "source": [
    "# Colab setup"
   ]
  },
  {
   "cell_type": "code",
   "execution_count": 1,
   "metadata": {
    "colab": {
     "base_uri": "https://localhost:8080/"
    },
    "id": "AxepTGrNR3DX",
    "outputId": "42376421-d387-42a8-a943-0d1c5b5b3db0"
   },
   "outputs": [],
   "source": [
    "if 'google.colab' in str(get_ipython()):\n",
    "  print(\"Installing packages, please wait a few moments. Restart the runtime after the installation.\")\n",
    "\n",
    "  # install rlberry library\n",
    "  !pip install git+https://github.com/rlberry-py/rlberry.git@v0.3.0#egg=rlberry[default] > /dev/null 2>&1\n",
    "\n",
    "  # packages required to show video\n",
    "  !pip install pyvirtualdisplay > /dev/null 2>&1\n",
    "  !apt-get install -y xvfb python-opengl ffmpeg > /dev/null 2>&1\n"
   ]
  },
  {
   "cell_type": "code",
   "execution_count": 2,
   "metadata": {
    "colab": {
     "base_uri": "https://localhost:8080/"
    },
    "id": "3_bPhqKlSiF0",
    "outputId": "959689cb-1e62-41f3-c1ac-71741bd5bb48"
   },
   "outputs": [
    {
     "data": {
      "text/plain": [
       "<pyvirtualdisplay.display.Display at 0x7f799eb86a50>"
      ]
     },
     "execution_count": 2,
     "metadata": {},
     "output_type": "execute_result"
    }
   ],
   "source": [
    "# Create directory for saving videos\n",
    "!mkdir videos > /dev/null 2>&1\n",
    "\n",
    "# The following code is will be used to visualize the environments.\n",
    "import base64\n",
    "from pyvirtualdisplay import Display\n",
    "from IPython import display as ipythondisplay\n",
    "from IPython.display import clear_output\n",
    "from pathlib import Path\n",
    "\n",
    "def show_video(filename=None, directory='./videos'):\n",
    "    \"\"\"\n",
    "    Either show all videos in a directory (if filename is None) or \n",
    "    show video corresponding to filename.\n",
    "    \"\"\"\n",
    "    html = []\n",
    "    if filename is not None:\n",
    "        files = Path('./').glob(filename)\n",
    "    else:\n",
    "        files = Path(directory).glob(\"*.mp4\")\n",
    "    for mp4 in files:\n",
    "        print(mp4)\n",
    "        video_b64 = base64.b64encode(mp4.read_bytes())\n",
    "        html.append('''<video alt=\"{}\" autoplay \n",
    "                      loop controls style=\"height: 400px;\">\n",
    "                      <source src=\"data:video/mp4;base64,{}\" type=\"video/mp4\" />\n",
    "                 </video>'''.format(mp4, video_b64.decode('ascii')))\n",
    "    ipythondisplay.display(ipythondisplay.HTML(data=\"<br>\".join(html)))\n",
    "     \n",
    "from pyvirtualdisplay import Display\n",
    "display = Display(visible=0, size=(800, 800))\n",
    "display.start()"
   ]
  },
  {
   "cell_type": "code",
   "execution_count": 3,
   "metadata": {
    "id": "ZYZCXMpisE_O"
   },
   "outputs": [],
   "source": [
    "# other required libraries\n",
    "import numpy as np\n",
    "import matplotlib.pyplot as plt"
   ]
  },
  {
   "cell_type": "code",
   "execution_count": 4,
   "metadata": {},
   "outputs": [
    {
     "name": "stdout",
     "output_type": "stream",
     "text": [
      "Collecting jupyterlab\n",
      "  Downloading jupyterlab-3.5.0-py3-none-any.whl (8.8 MB)\n",
      "     ---------------------------------------- 8.8/8.8 MB 46.9 MB/s eta 0:00:00\n",
      "Collecting jupyter-server<3,>=1.16.0\n",
      "  Downloading jupyter_server-1.23.3-py3-none-any.whl (346 kB)\n",
      "     ------------------------------------- 346.4/346.4 kB 22.4 MB/s eta 0:00:00\n",
      "Requirement already satisfied: packaging in c:\\users\\utilisateur\\anaconda3\\envs\\rltutorials\\lib\\site-packages (from jupyterlab) (21.3)\n",
      "Collecting jupyterlab-server~=2.10\n",
      "  Downloading jupyterlab_server-2.16.3-py3-none-any.whl (54 kB)\n",
      "     ---------------------------------------- 54.1/54.1 kB ? eta 0:00:00\n",
      "Requirement already satisfied: ipython in c:\\users\\utilisateur\\anaconda3\\envs\\rltutorials\\lib\\site-packages (from jupyterlab) (8.7.0)\n",
      "Requirement already satisfied: tornado>=6.1.0 in c:\\users\\utilisateur\\anaconda3\\envs\\rltutorials\\lib\\site-packages (from jupyterlab) (6.2)\n",
      "Collecting nbclassic\n",
      "  Downloading nbclassic-0.4.8-py3-none-any.whl (9.8 MB)\n",
      "     ---------------------------------------- 9.8/9.8 MB 36.9 MB/s eta 0:00:00\n",
      "Collecting jinja2>=2.1\n",
      "  Downloading Jinja2-3.1.2-py3-none-any.whl (133 kB)\n",
      "     -------------------------------------- 133.1/133.1 kB 7.7 MB/s eta 0:00:00\n",
      "Collecting tomli\n",
      "  Downloading tomli-2.0.1-py3-none-any.whl (12 kB)\n",
      "Requirement already satisfied: jupyter-core in c:\\users\\utilisateur\\anaconda3\\envs\\rltutorials\\lib\\site-packages (from jupyterlab) (5.1.0)\n",
      "Collecting notebook<7\n",
      "  Downloading notebook-6.5.2-py3-none-any.whl (439 kB)\n",
      "     ------------------------------------- 439.1/439.1 kB 28.6 MB/s eta 0:00:00\n",
      "Collecting MarkupSafe>=2.0\n",
      "  Downloading MarkupSafe-2.1.1-cp38-cp38-win_amd64.whl (17 kB)\n",
      "Collecting terminado>=0.8.3\n",
      "  Downloading terminado-0.17.0-py3-none-any.whl (16 kB)\n",
      "Collecting websocket-client\n",
      "  Downloading websocket_client-1.4.2-py3-none-any.whl (55 kB)\n",
      "     ---------------------------------------- 55.3/55.3 kB 2.8 MB/s eta 0:00:00\n",
      "Requirement already satisfied: pyzmq>=17 in c:\\users\\utilisateur\\anaconda3\\envs\\rltutorials\\lib\\site-packages (from jupyter-server<3,>=1.16.0->jupyterlab) (23.2.0)\n",
      "Collecting anyio<4,>=3.1.0\n",
      "  Downloading anyio-3.6.2-py3-none-any.whl (80 kB)\n",
      "     ---------------------------------------- 80.6/80.6 kB ? eta 0:00:00\n",
      "Collecting argon2-cffi\n",
      "  Downloading argon2_cffi-21.3.0-py3-none-any.whl (14 kB)\n",
      "Collecting nbconvert>=6.4.4\n",
      "  Downloading nbconvert-7.2.5-py3-none-any.whl (273 kB)\n",
      "     ------------------------------------- 273.3/273.3 kB 17.5 MB/s eta 0:00:00\n",
      "Requirement already satisfied: jupyter-client>=6.1.12 in c:\\users\\utilisateur\\anaconda3\\envs\\rltutorials\\lib\\site-packages (from jupyter-server<3,>=1.16.0->jupyterlab) (7.4.7)\n",
      "Requirement already satisfied: traitlets>=5.1 in c:\\users\\utilisateur\\anaconda3\\envs\\rltutorials\\lib\\site-packages (from jupyter-server<3,>=1.16.0->jupyterlab) (5.6.0)\n",
      "Collecting pywinpty\n",
      "  Downloading pywinpty-2.0.9-cp38-none-win_amd64.whl (1.4 MB)\n",
      "     ---------------------------------------- 1.4/1.4 MB 45.1 MB/s eta 0:00:00\n",
      "Collecting prometheus-client\n",
      "  Downloading prometheus_client-0.15.0-py3-none-any.whl (60 kB)\n",
      "     ---------------------------------------- 60.1/60.1 kB ? eta 0:00:00\n",
      "Collecting nbformat>=5.2.0\n",
      "  Downloading nbformat-5.7.0-py3-none-any.whl (77 kB)\n",
      "     ---------------------------------------- 77.1/77.1 kB 4.2 MB/s eta 0:00:00\n",
      "Collecting Send2Trash\n",
      "  Downloading Send2Trash-1.8.0-py3-none-any.whl (18 kB)\n",
      "Requirement already satisfied: platformdirs>=2.5 in c:\\users\\utilisateur\\anaconda3\\envs\\rltutorials\\lib\\site-packages (from jupyter-core->jupyterlab) (2.5.2)\n",
      "Requirement already satisfied: pywin32>=1.0 in c:\\users\\utilisateur\\anaconda3\\envs\\rltutorials\\lib\\site-packages (from jupyter-core->jupyterlab) (227)\n",
      "Collecting requests\n",
      "  Downloading requests-2.28.1-py3-none-any.whl (62 kB)\n",
      "     ---------------------------------------- 62.8/62.8 kB ? eta 0:00:00\n",
      "Collecting jsonschema>=3.0.1\n",
      "  Downloading jsonschema-4.17.3-py3-none-any.whl (90 kB)\n",
      "     ---------------------------------------- 90.4/90.4 kB ? eta 0:00:00\n",
      "Collecting babel\n",
      "  Downloading Babel-2.11.0-py3-none-any.whl (9.5 MB)\n",
      "     ---------------------------------------- 9.5/9.5 MB 22.5 MB/s eta 0:00:00\n",
      "Collecting json5\n",
      "  Downloading json5-0.9.10-py2.py3-none-any.whl (19 kB)\n",
      "Collecting importlib-metadata>=4.8.3\n",
      "  Downloading importlib_metadata-5.1.0-py3-none-any.whl (21 kB)\n",
      "Requirement already satisfied: nest-asyncio>=1.5 in c:\\users\\utilisateur\\anaconda3\\envs\\rltutorials\\lib\\site-packages (from notebook<7->jupyterlab) (1.5.6)\n",
      "Collecting ipython-genutils\n",
      "  Downloading ipython_genutils-0.2.0-py2.py3-none-any.whl (26 kB)\n",
      "Requirement already satisfied: ipykernel in c:\\users\\utilisateur\\anaconda3\\envs\\rltutorials\\lib\\site-packages (from notebook<7->jupyterlab) (6.17.1)\n",
      "Collecting notebook-shim>=0.1.0\n",
      "  Downloading notebook_shim-0.2.2-py3-none-any.whl (13 kB)\n",
      "Requirement already satisfied: colorama in c:\\users\\utilisateur\\anaconda3\\envs\\rltutorials\\lib\\site-packages (from ipython->jupyterlab) (0.4.6)\n",
      "Requirement already satisfied: decorator in c:\\users\\utilisateur\\anaconda3\\envs\\rltutorials\\lib\\site-packages (from ipython->jupyterlab) (5.1.1)\n",
      "Requirement already satisfied: pickleshare in c:\\users\\utilisateur\\anaconda3\\envs\\rltutorials\\lib\\site-packages (from ipython->jupyterlab) (0.7.5)\n",
      "Requirement already satisfied: prompt-toolkit<3.1.0,>=3.0.11 in c:\\users\\utilisateur\\anaconda3\\envs\\rltutorials\\lib\\site-packages (from ipython->jupyterlab) (3.0.33)\n",
      "Requirement already satisfied: stack-data in c:\\users\\utilisateur\\anaconda3\\envs\\rltutorials\\lib\\site-packages (from ipython->jupyterlab) (0.6.2)\n",
      "Requirement already satisfied: jedi>=0.16 in c:\\users\\utilisateur\\anaconda3\\envs\\rltutorials\\lib\\site-packages (from ipython->jupyterlab) (0.18.2)\n",
      "Requirement already satisfied: pygments>=2.4.0 in c:\\users\\utilisateur\\anaconda3\\envs\\rltutorials\\lib\\site-packages (from ipython->jupyterlab) (2.13.0)\n",
      "Requirement already satisfied: backcall in c:\\users\\utilisateur\\anaconda3\\envs\\rltutorials\\lib\\site-packages (from ipython->jupyterlab) (0.2.0)\n",
      "Requirement already satisfied: matplotlib-inline in c:\\users\\utilisateur\\anaconda3\\envs\\rltutorials\\lib\\site-packages (from ipython->jupyterlab) (0.1.6)\n",
      "Requirement already satisfied: pyparsing!=3.0.5,>=2.0.2 in c:\\users\\utilisateur\\anaconda3\\envs\\rltutorials\\lib\\site-packages (from packaging->jupyterlab) (3.0.9)\n",
      "Collecting sniffio>=1.1\n",
      "  Downloading sniffio-1.3.0-py3-none-any.whl (10 kB)\n",
      "Collecting idna>=2.8\n",
      "  Downloading idna-3.4-py3-none-any.whl (61 kB)\n",
      "     ---------------------------------------- 61.5/61.5 kB ? eta 0:00:00\n",
      "Collecting zipp>=0.5\n",
      "  Downloading zipp-3.11.0-py3-none-any.whl (6.6 kB)\n",
      "Requirement already satisfied: parso<0.9.0,>=0.8.0 in c:\\users\\utilisateur\\anaconda3\\envs\\rltutorials\\lib\\site-packages (from jedi>=0.16->ipython->jupyterlab) (0.8.3)\n",
      "Collecting attrs>=17.4.0\n",
      "  Downloading attrs-22.1.0-py2.py3-none-any.whl (58 kB)\n",
      "     ---------------------------------------- 58.8/58.8 kB 3.2 MB/s eta 0:00:00\n",
      "Collecting pkgutil-resolve-name>=1.3.10\n",
      "  Downloading pkgutil_resolve_name-1.3.10-py3-none-any.whl (4.7 kB)\n",
      "Collecting importlib-resources>=1.4.0\n",
      "  Downloading importlib_resources-5.10.0-py3-none-any.whl (34 kB)\n",
      "Collecting pyrsistent!=0.17.0,!=0.17.1,!=0.17.2,>=0.14.0\n",
      "  Downloading pyrsistent-0.19.2-cp38-cp38-win_amd64.whl (62 kB)\n",
      "     ---------------------------------------- 62.8/62.8 kB 1.6 MB/s eta 0:00:00\n",
      "Requirement already satisfied: python-dateutil>=2.8.2 in c:\\users\\utilisateur\\anaconda3\\envs\\rltutorials\\lib\\site-packages (from jupyter-client>=6.1.12->jupyter-server<3,>=1.16.0->jupyterlab) (2.8.2)\n",
      "Requirement already satisfied: entrypoints in c:\\users\\utilisateur\\anaconda3\\envs\\rltutorials\\lib\\site-packages (from jupyter-client>=6.1.12->jupyter-server<3,>=1.16.0->jupyterlab) (0.4)\n",
      "Collecting jupyterlab-pygments\n",
      "  Downloading jupyterlab_pygments-0.2.2-py2.py3-none-any.whl (21 kB)\n",
      "Collecting nbclient>=0.5.0\n",
      "  Downloading nbclient-0.7.2-py3-none-any.whl (71 kB)\n",
      "     ---------------------------------------- 72.0/72.0 kB 1.3 MB/s eta 0:00:00\n",
      "Collecting defusedxml\n",
      "  Downloading defusedxml-0.7.1-py2.py3-none-any.whl (25 kB)\n",
      "Collecting pandocfilters>=1.4.1\n",
      "  Downloading pandocfilters-1.5.0-py2.py3-none-any.whl (8.7 kB)\n",
      "Collecting tinycss2\n",
      "  Downloading tinycss2-1.2.1-py3-none-any.whl (21 kB)\n",
      "Collecting beautifulsoup4\n",
      "  Downloading beautifulsoup4-4.11.1-py3-none-any.whl (128 kB)\n",
      "     -------------------------------------- 128.2/128.2 kB 1.9 MB/s eta 0:00:00\n",
      "Collecting mistune<3,>=2.0.3\n",
      "  Downloading mistune-2.0.4-py2.py3-none-any.whl (24 kB)\n",
      "Collecting bleach\n",
      "  Downloading bleach-5.0.1-py3-none-any.whl (160 kB)\n",
      "     -------------------------------------- 160.9/160.9 kB 1.9 MB/s eta 0:00:00\n",
      "Collecting fastjsonschema\n",
      "  Downloading fastjsonschema-2.16.2-py3-none-any.whl (22 kB)\n",
      "Requirement already satisfied: wcwidth in c:\\users\\utilisateur\\anaconda3\\envs\\rltutorials\\lib\\site-packages (from prompt-toolkit<3.1.0,>=3.0.11->ipython->jupyterlab) (0.2.5)\n",
      "Collecting argon2-cffi-bindings\n",
      "  Downloading argon2_cffi_bindings-21.2.0-cp36-abi3-win_amd64.whl (30 kB)\n",
      "Collecting pytz>=2015.7\n",
      "  Downloading pytz-2022.6-py2.py3-none-any.whl (498 kB)\n",
      "     -------------------------------------- 498.1/498.1 kB 3.5 MB/s eta 0:00:00\n",
      "Requirement already satisfied: debugpy>=1.0 in c:\\users\\utilisateur\\anaconda3\\envs\\rltutorials\\lib\\site-packages (from ipykernel->notebook<7->jupyterlab) (1.5.1)\n",
      "Requirement already satisfied: psutil in c:\\users\\utilisateur\\anaconda3\\envs\\rltutorials\\lib\\site-packages (from ipykernel->notebook<7->jupyterlab) (5.9.0)\n",
      "Collecting urllib3<1.27,>=1.21.1\n",
      "  Downloading urllib3-1.26.13-py2.py3-none-any.whl (140 kB)\n",
      "     -------------------------------------- 140.6/140.6 kB 2.8 MB/s eta 0:00:00\n",
      "Requirement already satisfied: certifi>=2017.4.17 in c:\\users\\utilisateur\\anaconda3\\envs\\rltutorials\\lib\\site-packages (from requests->jupyterlab-server~=2.10->jupyterlab) (2022.9.24)\n",
      "Collecting charset-normalizer<3,>=2\n",
      "  Downloading charset_normalizer-2.1.1-py3-none-any.whl (39 kB)\n",
      "Requirement already satisfied: asttokens>=2.1.0 in c:\\users\\utilisateur\\anaconda3\\envs\\rltutorials\\lib\\site-packages (from stack-data->ipython->jupyterlab) (2.2.0)\n",
      "Requirement already satisfied: executing>=1.2.0 in c:\\users\\utilisateur\\anaconda3\\envs\\rltutorials\\lib\\site-packages (from stack-data->ipython->jupyterlab) (1.2.0)\n",
      "Requirement already satisfied: pure-eval in c:\\users\\utilisateur\\anaconda3\\envs\\rltutorials\\lib\\site-packages (from stack-data->ipython->jupyterlab) (0.2.2)\n",
      "Requirement already satisfied: six in c:\\users\\utilisateur\\anaconda3\\envs\\rltutorials\\lib\\site-packages (from asttokens>=2.1.0->stack-data->ipython->jupyterlab) (1.16.0)\n",
      "Collecting cffi>=1.0.1\n",
      "  Downloading cffi-1.15.1-cp38-cp38-win_amd64.whl (178 kB)\n",
      "     -------------------------------------- 178.8/178.8 kB 3.6 MB/s eta 0:00:00\n",
      "Collecting soupsieve>1.2\n",
      "  Downloading soupsieve-2.3.2.post1-py3-none-any.whl (37 kB)\n",
      "Collecting webencodings\n",
      "  Downloading webencodings-0.5.1-py2.py3-none-any.whl (11 kB)\n",
      "Collecting pycparser\n",
      "  Downloading pycparser-2.21-py2.py3-none-any.whl (118 kB)\n",
      "     -------------------------------------- 118.7/118.7 kB 2.3 MB/s eta 0:00:00\n",
      "Installing collected packages: webencodings, Send2Trash, pytz, mistune, json5, ipython-genutils, fastjsonschema, zipp, websocket-client, urllib3, tomli, tinycss2, soupsieve, sniffio, pywinpty, pyrsistent, pycparser, prometheus-client, pkgutil-resolve-name, pandocfilters, MarkupSafe, jupyterlab-pygments, idna, defusedxml, charset-normalizer, bleach, babel, attrs, terminado, requests, jinja2, importlib-resources, importlib-metadata, cffi, beautifulsoup4, anyio, jsonschema, argon2-cffi-bindings, nbformat, argon2-cffi, nbclient, nbconvert, jupyter-server, notebook-shim, jupyterlab-server, nbclassic, notebook, jupyterlab\n",
      "Successfully installed MarkupSafe-2.1.1 Send2Trash-1.8.0 anyio-3.6.2 argon2-cffi-21.3.0 argon2-cffi-bindings-21.2.0 attrs-22.1.0 babel-2.11.0 beautifulsoup4-4.11.1 bleach-5.0.1 cffi-1.15.1 charset-normalizer-2.1.1 defusedxml-0.7.1 fastjsonschema-2.16.2 idna-3.4 importlib-metadata-5.1.0 importlib-resources-5.10.0 ipython-genutils-0.2.0 jinja2-3.1.2 json5-0.9.10 jsonschema-4.17.3 jupyter-server-1.23.3 jupyterlab-3.5.0 jupyterlab-pygments-0.2.2 jupyterlab-server-2.16.3 mistune-2.0.4 nbclassic-0.4.8 nbclient-0.7.2 nbconvert-7.2.5 nbformat-5.7.0 notebook-6.5.2 notebook-shim-0.2.2 pandocfilters-1.5.0 pkgutil-resolve-name-1.3.10 prometheus-client-0.15.0 pycparser-2.21 pyrsistent-0.19.2 pytz-2022.6 pywinpty-2.0.9 requests-2.28.1 sniffio-1.3.0 soupsieve-2.3.2.post1 terminado-0.17.0 tinycss2-1.2.1 tomli-2.0.1 urllib3-1.26.13 webencodings-0.5.1 websocket-client-1.4.2 zipp-3.11.0\n",
      "Collecting rlberry[default]\n",
      "  Cloning https://github.com/rlberry-py/rlberry.git (to revision v0.3.0) to c:\\users\\utilisateur\\appdata\\local\\temp\\pip-install-sb05ec76\\rlberry_ed4fda72bd8546d29d647ba69db2f389\n",
      "  Resolved https://github.com/rlberry-py/rlberry.git to commit 8ea7532ea27fdc1c5ffb44293f9e350c924f7c65\n",
      "  Installing build dependencies: started\n",
      "  Installing build dependencies: finished with status 'done'\n",
      "  Getting requirements to build wheel: started\n",
      "  Getting requirements to build wheel: finished with status 'done'\n",
      "  Preparing metadata (pyproject.toml): started\n",
      "  Preparing metadata (pyproject.toml): finished with status 'done'\n",
      "Collecting pandas\n",
      "  Downloading pandas-1.5.2-cp38-cp38-win_amd64.whl (11.0 MB)\n",
      "     --------------------------------------- 11.0/11.0 MB 43.7 MB/s eta 0:00:00\n",
      "Collecting gym\n",
      "  Using cached gym-0.26.2.tar.gz (721 kB)\n",
      "  Installing build dependencies: started\n",
      "  Installing build dependencies: finished with status 'done'\n",
      "  Getting requirements to build wheel: started\n",
      "  Getting requirements to build wheel: finished with status 'done'\n",
      "  Preparing metadata (pyproject.toml): started\n",
      "  Preparing metadata (pyproject.toml): finished with status 'done'\n",
      "Collecting dill\n",
      "  Using cached dill-0.3.6-py3-none-any.whl (110 kB)\n",
      "Requirement already satisfied: numpy>=1.17 in c:\\users\\utilisateur\\anaconda3\\envs\\rltutorials\\lib\\site-packages (from rlberry[default]) (1.23.4)\n",
      "Collecting docopt\n",
      "  Using cached docopt-0.6.2.tar.gz (25 kB)\n",
      "  Preparing metadata (setup.py): started\n",
      "  Preparing metadata (setup.py): finished with status 'done'\n",
      "Requirement already satisfied: matplotlib in c:\\users\\utilisateur\\anaconda3\\envs\\rltutorials\\lib\\site-packages (from rlberry[default]) (3.5.3)\n",
      "Collecting seaborn\n",
      "  Downloading seaborn-0.12.1-py3-none-any.whl (288 kB)\n",
      "     ------------------------------------- 288.2/288.2 kB 17.4 MB/s eta 0:00:00\n",
      "Collecting pyyaml\n",
      "  Downloading PyYAML-6.0-cp38-cp38-win_amd64.whl (155 kB)\n",
      "     ---------------------------------------- 155.4/155.4 kB ? eta 0:00:00\n",
      "Collecting pygame\n",
      "  Downloading pygame-2.1.2-cp38-cp38-win_amd64.whl (8.4 MB)\n",
      "     ---------------------------------------- 8.4/8.4 MB 44.9 MB/s eta 0:00:00\n",
      "Collecting optuna\n",
      "  Using cached optuna-3.0.4-py3-none-any.whl (348 kB)\n",
      "Collecting pyvirtualdisplay\n",
      "  Using cached PyVirtualDisplay-3.0-py3-none-any.whl (15 kB)\n",
      "Collecting numba\n",
      "  Downloading numba-0.56.4-cp38-cp38-win_amd64.whl (2.5 MB)\n",
      "     ---------------------------------------- 2.5/2.5 MB 38.8 MB/s eta 0:00:00\n",
      "Collecting PyOpenGL\n",
      "  Using cached PyOpenGL-3.1.6-py3-none-any.whl (2.4 MB)\n",
      "Collecting PyOpenGL-accelerate\n",
      "  Downloading PyOpenGL_accelerate-3.1.6-cp38-cp38-win_amd64.whl (351 kB)\n",
      "     ---------------------------------------- 351.2/351.2 kB ? eta 0:00:00\n",
      "Collecting ffmpeg-python\n",
      "  Using cached ffmpeg_python-0.2.0-py3-none-any.whl (25 kB)\n",
      "Collecting future\n",
      "  Downloading future-0.18.2.tar.gz (829 kB)\n",
      "     ------------------------------------- 829.2/829.2 kB 51.2 MB/s eta 0:00:00\n",
      "  Preparing metadata (setup.py): started\n",
      "  Preparing metadata (setup.py): finished with status 'done'\n",
      "Collecting cloudpickle>=1.2.0\n",
      "  Downloading cloudpickle-2.2.0-py3-none-any.whl (25 kB)\n",
      "Requirement already satisfied: importlib-metadata>=4.8.0 in c:\\users\\utilisateur\\anaconda3\\envs\\rltutorials\\lib\\site-packages (from gym->rlberry[default]) (5.1.0)\n",
      "Collecting gym-notices>=0.0.4\n",
      "  Using cached gym_notices-0.0.8-py3-none-any.whl (3.0 kB)\n",
      "Requirement already satisfied: cycler>=0.10 in c:\\users\\utilisateur\\anaconda3\\envs\\rltutorials\\lib\\site-packages (from matplotlib->rlberry[default]) (0.11.0)\n",
      "Requirement already satisfied: packaging>=20.0 in c:\\users\\utilisateur\\anaconda3\\envs\\rltutorials\\lib\\site-packages (from matplotlib->rlberry[default]) (21.3)\n",
      "Requirement already satisfied: pillow>=6.2.0 in c:\\users\\utilisateur\\anaconda3\\envs\\rltutorials\\lib\\site-packages (from matplotlib->rlberry[default]) (9.2.0)\n",
      "Requirement already satisfied: pyparsing>=2.2.1 in c:\\users\\utilisateur\\anaconda3\\envs\\rltutorials\\lib\\site-packages (from matplotlib->rlberry[default]) (3.0.9)\n",
      "Requirement already satisfied: fonttools>=4.22.0 in c:\\users\\utilisateur\\anaconda3\\envs\\rltutorials\\lib\\site-packages (from matplotlib->rlberry[default]) (4.25.0)\n",
      "Requirement already satisfied: kiwisolver>=1.0.1 in c:\\users\\utilisateur\\anaconda3\\envs\\rltutorials\\lib\\site-packages (from matplotlib->rlberry[default]) (1.4.2)\n",
      "Requirement already satisfied: python-dateutil>=2.7 in c:\\users\\utilisateur\\anaconda3\\envs\\rltutorials\\lib\\site-packages (from matplotlib->rlberry[default]) (2.8.2)\n",
      "Collecting llvmlite<0.40,>=0.39.0dev0\n",
      "  Downloading llvmlite-0.39.1-cp38-cp38-win_amd64.whl (23.2 MB)\n",
      "     --------------------------------------- 23.2/23.2 MB 27.3 MB/s eta 0:00:00\n",
      "Requirement already satisfied: setuptools in c:\\users\\utilisateur\\anaconda3\\envs\\rltutorials\\lib\\site-packages (from numba->rlberry[default]) (65.5.0)\n",
      "Collecting sqlalchemy>=1.3.0\n",
      "  Downloading SQLAlchemy-1.4.44-cp38-cp38-win_amd64.whl (1.6 MB)\n",
      "     ---------------------------------------- 1.6/1.6 MB 33.3 MB/s eta 0:00:00\n",
      "Collecting alembic>=1.5.0\n",
      "  Using cached alembic-1.8.1-py3-none-any.whl (209 kB)\n",
      "Collecting scipy<1.9.0,>=1.7.0\n",
      "  Downloading scipy-1.8.1-cp38-cp38-win_amd64.whl (36.9 MB)\n",
      "     --------------------------------------- 36.9/36.9 MB 29.7 MB/s eta 0:00:00\n",
      "Collecting importlib-metadata>=4.8.0\n",
      "  Downloading importlib_metadata-4.13.0-py3-none-any.whl (23 kB)\n",
      "Collecting cmaes>=0.8.2\n",
      "  Using cached cmaes-0.9.0-py3-none-any.whl (23 kB)\n",
      "Collecting cliff\n",
      "  Using cached cliff-4.1.0-py3-none-any.whl (81 kB)\n",
      "Collecting tqdm\n",
      "  Downloading tqdm-4.64.1-py2.py3-none-any.whl (78 kB)\n",
      "     ---------------------------------------- 78.5/78.5 kB 4.5 MB/s eta 0:00:00\n",
      "Collecting colorlog\n",
      "  Using cached colorlog-6.7.0-py2.py3-none-any.whl (11 kB)\n",
      "Requirement already satisfied: pytz>=2020.1 in c:\\users\\utilisateur\\anaconda3\\envs\\rltutorials\\lib\\site-packages (from pandas->rlberry[default]) (2022.6)\n",
      "Collecting Mako\n",
      "  Using cached Mako-1.2.4-py3-none-any.whl (78 kB)\n",
      "Requirement already satisfied: importlib-resources in c:\\users\\utilisateur\\anaconda3\\envs\\rltutorials\\lib\\site-packages (from alembic>=1.5.0->optuna->rlberry[default]) (5.10.0)\n",
      "Requirement already satisfied: zipp>=0.5 in c:\\users\\utilisateur\\anaconda3\\envs\\rltutorials\\lib\\site-packages (from importlib-metadata>=4.8.0->gym->rlberry[default]) (3.11.0)\n",
      "Requirement already satisfied: six>=1.5 in c:\\users\\utilisateur\\anaconda3\\envs\\rltutorials\\lib\\site-packages (from python-dateutil>=2.7->matplotlib->rlberry[default]) (1.16.0)\n",
      "Collecting greenlet!=0.4.17\n",
      "  Downloading greenlet-2.0.1-cp38-cp38-win_amd64.whl (190 kB)\n",
      "     ------------------------------------- 190.7/190.7 kB 11.3 MB/s eta 0:00:00\n",
      "Collecting autopage>=0.4.0\n",
      "  Using cached autopage-0.5.1-py3-none-any.whl (29 kB)\n",
      "Collecting stevedore>=2.0.1\n",
      "  Using cached stevedore-4.1.1-py3-none-any.whl (50 kB)\n",
      "Collecting PrettyTable>=0.7.2\n",
      "  Using cached prettytable-3.5.0-py3-none-any.whl (26 kB)\n",
      "Collecting cmd2>=1.0.0\n",
      "  Using cached cmd2-2.4.2-py3-none-any.whl (147 kB)\n",
      "Requirement already satisfied: colorama in c:\\users\\utilisateur\\anaconda3\\envs\\rltutorials\\lib\\site-packages (from colorlog->optuna->rlberry[default]) (0.4.6)\n",
      "Collecting pyperclip>=1.6\n",
      "  Using cached pyperclip-1.8.2.tar.gz (20 kB)\n",
      "  Preparing metadata (setup.py): started\n",
      "  Preparing metadata (setup.py): finished with status 'done'\n",
      "Requirement already satisfied: attrs>=16.3.0 in c:\\users\\utilisateur\\anaconda3\\envs\\rltutorials\\lib\\site-packages (from cmd2>=1.0.0->cliff->optuna->rlberry[default]) (22.1.0)\n",
      "Requirement already satisfied: wcwidth>=0.1.7 in c:\\users\\utilisateur\\anaconda3\\envs\\rltutorials\\lib\\site-packages (from cmd2>=1.0.0->cliff->optuna->rlberry[default]) (0.2.5)\n",
      "Collecting pyreadline3\n",
      "  Using cached pyreadline3-3.4.1-py3-none-any.whl (95 kB)\n",
      "Collecting pbr!=2.1.0,>=2.0.0\n",
      "  Using cached pbr-5.11.0-py2.py3-none-any.whl (112 kB)\n",
      "Requirement already satisfied: MarkupSafe>=0.9.2 in c:\\users\\utilisateur\\anaconda3\\envs\\rltutorials\\lib\\site-packages (from Mako->alembic>=1.5.0->optuna->rlberry[default]) (2.1.1)\n",
      "Building wheels for collected packages: docopt, gym, rlberry, future, pyperclip\n",
      "  Building wheel for docopt (setup.py): started\n",
      "  Building wheel for docopt (setup.py): finished with status 'done'\n",
      "  Created wheel for docopt: filename=docopt-0.6.2-py2.py3-none-any.whl size=13706 sha256=7cc50503392d52e8d5c6b993b55cb14cf481cf6f87d0352963a5e76e5fe2e7d7\n",
      "  Stored in directory: c:\\users\\utilisateur\\appdata\\local\\pip\\cache\\wheels\\56\\ea\\58\\ead137b087d9e326852a851351d1debf4ada529b6ac0ec4e8c\n",
      "  Building wheel for gym (pyproject.toml): started\n",
      "  Building wheel for gym (pyproject.toml): finished with status 'done'\n",
      "  Created wheel for gym: filename=gym-0.26.2-py3-none-any.whl size=827647 sha256=0172776278f4a2da1bb7d948332bf0f0a125346667d84b55af724e7c800855d1\n",
      "  Stored in directory: c:\\users\\utilisateur\\appdata\\local\\pip\\cache\\wheels\\17\\79\\65\\7afedc162d858b02708a3b8f7a6dd5b1000dcd5b0f894f7cc1\n",
      "  Building wheel for rlberry (pyproject.toml): started\n",
      "  Building wheel for rlberry (pyproject.toml): finished with status 'done'\n",
      "  Created wheel for rlberry: filename=rlberry-0.2.1.post217.dev0+168a660-py3-none-any.whl size=279781 sha256=4ebc8de5b402bc420c8f44a3e46fcf4c1fae904b27e05c9e820ea47b40a99633\n",
      "  Stored in directory: C:\\Users\\Utilisateur\\AppData\\Local\\Temp\\pip-ephem-wheel-cache-njl8oewz\\wheels\\eb\\c3\\8b\\4a129769927ef65ecd37bdf238ff2b9d4656d9ff0a3e86c953\n",
      "  Building wheel for future (setup.py): started\n",
      "  Building wheel for future (setup.py): finished with status 'done'\n",
      "  Created wheel for future: filename=future-0.18.2-py3-none-any.whl size=491058 sha256=0ac9cee11a268d29686d8f691f6d370f24b37b2e667a1fe9279e74c4ac127d4d\n",
      "  Stored in directory: c:\\users\\utilisateur\\appdata\\local\\pip\\cache\\wheels\\8e\\70\\28\\3d6ccd6e315f65f245da085482a2e1c7d14b90b30f239e2cf4\n",
      "  Building wheel for pyperclip (setup.py): started\n",
      "  Building wheel for pyperclip (setup.py): finished with status 'done'\n",
      "  Created wheel for pyperclip: filename=pyperclip-1.8.2-py3-none-any.whl size=11123 sha256=edc468f64e5a2ba08dc9b79063544935c267c96f319722bef004a55818d39e05\n",
      "  Stored in directory: c:\\users\\utilisateur\\appdata\\local\\pip\\cache\\wheels\\7f\\1a\\65\\84ff8c386bec21fca6d220ea1f5498a0367883a78dd5ba6122\n",
      "Successfully built docopt gym rlberry future pyperclip\n",
      "Installing collected packages: pyvirtualdisplay, pyreadline3, pyperclip, PyOpenGL-accelerate, PyOpenGL, gym-notices, docopt, tqdm, scipy, pyyaml, pygame, PrettyTable, pbr, Mako, llvmlite, importlib-metadata, greenlet, future, dill, colorlog, cmd2, cmaes, cloudpickle, autopage, stevedore, sqlalchemy, pandas, numba, gym, ffmpeg-python, seaborn, cliff, alembic, rlberry, optuna\n",
      "  Attempting uninstall: importlib-metadata\n",
      "    Found existing installation: importlib-metadata 5.1.0\n",
      "    Uninstalling importlib-metadata-5.1.0:\n",
      "      Successfully uninstalled importlib-metadata-5.1.0\n",
      "Successfully installed Mako-1.2.4 PrettyTable-3.5.0 PyOpenGL-3.1.6 PyOpenGL-accelerate-3.1.6 alembic-1.8.1 autopage-0.5.1 cliff-4.1.0 cloudpickle-2.2.0 cmaes-0.9.0 cmd2-2.4.2 colorlog-6.7.0 dill-0.3.6 docopt-0.6.2 ffmpeg-python-0.2.0 future-0.18.2 greenlet-2.0.1 gym-0.26.2 gym-notices-0.0.8 importlib-metadata-4.13.0 llvmlite-0.39.1 numba-0.56.4 optuna-3.0.4 pandas-1.5.2 pbr-5.11.0 pygame-2.1.2 pyperclip-1.8.2 pyreadline3-3.4.1 pyvirtualdisplay-3.0 pyyaml-6.0 rlberry-0.2.1.post217.dev0+168a660 scipy-1.8.1 seaborn-0.12.1 sqlalchemy-1.4.44 stevedore-4.1.1 tqdm-4.64.1\n"
     ]
    },
    {
     "name": "stderr",
     "output_type": "stream",
     "text": [
      "  Running command git clone --filter=blob:none --quiet https://github.com/rlberry-py/rlberry.git 'C:\\Users\\Utilisateur\\AppData\\Local\\Temp\\pip-install-sb05ec76\\rlberry_ed4fda72bd8546d29d647ba69db2f389'\n",
      "  Running command git checkout -q 8ea7532ea27fdc1c5ffb44293f9e350c924f7c65\n"
     ]
    }
   ],
   "source": [
    "\n",
    "#Install required libraries:\n",
    "!pip install jupyterlab\n",
    "!pip install git+https://github.com/rlberry-py/rlberry.git@v0.3.0#egg=rlberry[default]"
   ]
  },
  {
   "cell_type": "code",
   "execution_count": 5,
   "metadata": {},
   "outputs": [
    {
     "name": "stdout",
     "output_type": "stream",
     "text": [
      "Requirement already satisfied: ffmpeg-python in c:\\users\\utilisateur\\anaconda3\\envs\\rltutorials\\lib\\site-packages (0.2.0)\n",
      "Requirement already satisfied: pyvirtualdisplay in c:\\users\\utilisateur\\anaconda3\\envs\\rltutorials\\lib\\site-packages (3.0)\n",
      "Requirement already satisfied: future in c:\\users\\utilisateur\\anaconda3\\envs\\rltutorials\\lib\\site-packages (from ffmpeg-python) (0.18.2)\n"
     ]
    },
    {
     "name": "stderr",
     "output_type": "stream",
     "text": [
      "'apt-get' n'est pas reconnu en tant que commande interne\n",
      "ou externe, un programme ex�cutable ou un fichier de commandes.\n"
     ]
    }
   ],
   "source": [
    "!pip install ffmpeg-python pyvirtualdisplay\n",
    "!apt-get install -y xvfb python-opengl ffmpeg"
   ]
  },
  {
   "cell_type": "markdown",
   "metadata": {
    "id": "zOPiAupGmkxh"
   },
   "source": [
    "# Warm up: interacting with a reinforcement learning environment"
   ]
  },
  {
   "cell_type": "code",
   "execution_count": 10,
   "metadata": {
    "colab": {
     "base_uri": "https://localhost:8080/",
     "height": 578
    },
    "id": "6IZ0bVAlTjpZ",
    "outputId": "60cf10f4-8f13-4264-c281-1194beff4c1d"
   },
   "outputs": [
    {
     "name": "stdout",
     "output_type": "stream",
     "text": [
      "number of states =  13\n",
      "number of actions =  4\n",
      "transition probabilities from state 0 by taking action 1:  [0.  0.9 0.  0.  0.1 0.  0.  0.  0.  0.  0.  0.  0. ]\n",
      "mean reward in state 0 for action 1 =  0.0\n"
     ]
    },
    {
     "name": "stderr",
     "output_type": "stream",
     "text": [
      "[WARNING] Not possible to save video, due to exception: [WinError 2] Le fichier spécifié est introuvable \n"
     ]
    }
   ],
   "source": [
    "from rlberry.envs import GridWorld\n",
    "\n",
    "# A GridWorld is an environment where an agent moves in a 2d grid and aims to reach the state which gives a reward.\n",
    "env = GridWorld(nrows=3, ncols=5, walls=((0,2),(1, 2)), success_probability=0.9)\n",
    "\n",
    "# Number of states and actions\n",
    "print(\"number of states = \", env.observation_space.n)\n",
    "print(\"number of actions = \", env.action_space.n)\n",
    "\n",
    "# Transitions probabilities, env.P[s, a, s'] = P(s'|s, a)\n",
    "print(\"transition probabilities from state 0 by taking action 1: \", env.P[0, 1, :])\n",
    "\n",
    "# Reward function: env.R[s, a] = r(s, a)\n",
    "print(\"mean reward in state 0 for action 1 = \", env.R[0, 1])\n",
    "\n",
    "# Following a random policy \n",
    "state = env.reset()     # initial state \n",
    "env.enable_rendering()  # save states for visualization\n",
    "for tt in range(100):   # interact for 100 time steps\n",
    "  action = env.action_space.sample()  # random action, a good RL agent must have a better strategy!\n",
    "  next_state, reward, is_terminal, info = env.step(action)\n",
    "  if is_terminal:\n",
    "    break\n",
    "  state = next_state\n",
    "\n",
    "# save video \n",
    "env.save_video('/videos/random_policy.mp4', framerate=10)\n",
    "# clear rendering data\n",
    "env.clear_render_buffer()\n",
    "env.disable_rendering()\n",
    "# see video\n",
    "#show_video(filename='./videos/random_policy.mp4')"
   ]
  },
  {
   "cell_type": "markdown",
   "metadata": {
    "id": "snmFW5Bzqpwj"
   },
   "source": [
    "# Implementing Value Iteration\n",
    "\n",
    "1. Write a function ``bellman_operator`` that takes as input a function $Q$ and returns $T^* Q$.\n",
    "2. Write a function  ``value_iteration`` that returns a function $Q$ such that $||Q-T^* Q||_\\infty \\leq \\varepsilon$\n",
    "3. Evaluate the performance of the policy $\\pi(s) = \\arg\\max_a Q(s, a)$, where Q is returned by ``value_iteration``."
   ]
  },
  {
   "cell_type": "code",
   "execution_count": 15,
   "metadata": {},
   "outputs": [
    {
     "data": {
      "text/plain": [
       "5"
      ]
     },
     "execution_count": 15,
     "metadata": {},
     "output_type": "execute_result"
    }
   ],
   "source": [
    "env.state"
   ]
  },
  {
   "cell_type": "code",
   "execution_count": 16,
   "metadata": {
    "id": "RPIOmpjkq0YX"
   },
   "outputs": [],
   "source": [
    "def bellman_operator(Q, env, gamma=0.99):\n",
    "  S = env.observation_space.n\n",
    "  A = env.action_space.n \n",
    "  TQ = np.zeros((S, A))\n",
    "\n",
    "  for state in range(S):\n",
    "    for action in range(A):\n",
    "      sum=0\n",
    "      for s in range(S):\n",
    "        q=np.max(Q[s,:])\n",
    "        sum+=q*env.P[state,action,s]\n",
    "      TQ[state,action]=env.R[state,action]+gamma*sum\n",
    "  return TQ"
   ]
  },
  {
   "cell_type": "code",
   "execution_count": 6,
   "metadata": {
    "id": "tEKAtA1LsYFx"
   },
   "outputs": [],
   "source": [
    "def value_iteration(env, gamma=0.99, epsilon=1e-6):\n",
    "  S = env.observation_space.n\n",
    "  A = env.action_space.n \n",
    "  Q = np.zeros((S, A))\n",
    "  Q_prev = np.zeros((S, A))\n",
    "  prev_state=env.state\n",
    "  prev_action=0\n",
    "\n",
    "  while t<T or np.max(np.abs(Q-Q_prev))<epsilon:\n",
    "    Q_prev=Q\n",
    "    Q=bellman_operator(Q,env,gamma)\n",
    "\n",
    "  return Q"
   ]
  },
  {
   "cell_type": "code",
   "execution_count": 7,
   "metadata": {
    "colab": {
     "base_uri": "https://localhost:8080/",
     "height": 440
    },
    "id": "rZ7k-rDLssSk",
    "outputId": "7731f953-093d-4c3b-e84f-1b356eb892c3"
   },
   "outputs": [
    {
     "name": "stdout",
     "output_type": "stream",
     "text": [
      "videos/value_iteration_policy.mp4\n"
     ]
    },
    {
     "data": {
      "text/html": [
       "<video alt=\"videos/value_iteration_policy.mp4\" autoplay \n",
       "                      loop controls style=\"height: 400px;\">\n",
       "                      <source src=\"data:video/mp4;base64,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\" type=\"video/mp4\" />\n",
       "                 </video>"
      ],
      "text/plain": [
       "<IPython.core.display.HTML object>"
      ]
     },
     "metadata": {},
     "output_type": "display_data"
    }
   ],
   "source": [
    "Q_vi = value_iteration(env)\n",
    "\n",
    "# Following value iteration policy \n",
    "state = env.reset()     \n",
    "env.enable_rendering()  \n",
    "for tt in range(100):   \n",
    "  action = Q_vi[state, :].argmax()\n",
    "  next_state, reward, is_terminal, info = env.step(action)\n",
    "  if is_terminal:\n",
    "    break\n",
    "  state = next_state\n",
    "\n",
    "# save video (run last cell to visualize it!)\n",
    "env.save_video('./videos/value_iteration_policy.mp4', framerate=10)\n",
    "# clear rendering data\n",
    "env.clear_render_buffer()\n",
    "env.disable_rendering()\n",
    "# see video\n",
    "show_video(filename='./videos/value_iteration_policy.mp4')"
   ]
  },
  {
   "cell_type": "markdown",
   "metadata": {
    "id": "1Uw6LVyVulOX"
   },
   "source": [
    "# Implementing Q-Learning\n",
    "\n",
    "Implement a function ``q_learning`` that takes as input an environment, runs Q learning for $T$ time steps and returns $Q_T$. \n",
    "\n",
    "Test different learning rates:\n",
    "  * $\\alpha_t(s, a) = \\frac{1}{\\text{number of visits to} (s, a)}$\n",
    "  * $\\alpha_t(s, a) =$ constant in $]0, 1[$\n",
    "  * others?\n",
    "\n",
    "Test different initializations of the Q function and try different values of $\\varepsilon$ in the $\\varepsilon$-greedy exploration!\n",
    "\n",
    "It might be very useful to plot the difference between the Q-learning approximation and the output of value iteration above, as a function of time.\n"
   ]
  },
  {
   "cell_type": "code",
   "execution_count": 8,
   "metadata": {
    "id": "OrhUOlrfv6xp"
   },
   "outputs": [],
   "source": [
    "def q_learning(env, gamma=0.99, T=5000, Q_vi=None):\n",
    "  \"\"\"\n",
    "  Q_vi is the output of value iteration.\n",
    "  \"\"\"\n",
    "  S = env.observation_space.n\n",
    "  A = env.action_space.n \n",
    "  error = np.zeros(T)\n",
    "  Q = np.zeros((S, A))  # can we improve this initialization? \n",
    "\n",
    "  state = env.reset()\n",
    "    # to complete...\n",
    "  for tt in range(T):\n",
    "    # choose action a_t\n",
    "    # ...\n",
    "    # take action, observe next state and reward \n",
    "    # ...\n",
    "    # compute delta_t\n",
    "    # ...\n",
    "    # update Q\n",
    "    # ...\n",
    "\n",
    "    error[tt] = np.abs(Q-Q_vi).max()\n",
    "  \n",
    "  plt.plot(error)\n",
    "  plt.xlabel('iteration')\n",
    "  plt.title('Q-Learning error')\n",
    "  plt.show()\n",
    "  \n",
    "  return Q "
   ]
  },
  {
   "cell_type": "code",
   "execution_count": 9,
   "metadata": {
    "colab": {
     "base_uri": "https://localhost:8080/",
     "height": 718
    },
    "id": "fOetdWM4xhLt",
    "outputId": "f755ca3f-86f1-4c48-ffe7-fa88d1dc68b3"
   },
   "outputs": [
    {
     "data": {
      "image/png": "[encoded data removed]",
      "text/plain": [
       "<Figure size 432x288 with 1 Axes>"
      ]
     },
     "metadata": {
      "needs_background": "light"
     },
     "output_type": "display_data"
    },
    {
     "name": "stdout",
     "output_type": "stream",
     "text": [
      "videos/q_learning_policy.mp4\n"
     ]
    },
    {
     "data": {
      "text/html": [
       "<video alt=\"videos/q_learning_policy.mp4\" autoplay \n",
       "                      loop controls style=\"height: 400px;\">\n",
       "                      <source src=\"data:video/mp4;base64,AAAAIGZ0eXBpc29tAAACAGlzb21pc28yYXZjMW1wNDEAAAAIZnJlZQAAFk5tZGF0AAACrgYF//+q3EXpvebZSLeWLNgg2SPu73gyNjQgLSBjb3JlIDE1MiByMjg1NCBlOWE1OTAzIC0gSC4yNjQvTVBFRy00IEFWQyBjb2RlYyAtIENvcHlsZWZ0IDIwMDMtMjAxNyAtIGh0dHA6Ly93d3cudmlkZW9sYW4ub3JnL3gyNjQuaHRtbCAtIG9wdGlvbnM6IGNhYmFjPTEgcmVmPTMgZGVibG9jaz0xOjA6MCBhbmFseXNlPTB4MzoweDExMyBtZT1oZXggc3VibWU9NyBwc3k9MSBwc3lfcmQ9MS4wMDowLjAwIG1peGVkX3JlZj0xIG1lX3JhbmdlPTE2IGNocm9tYV9tZT0xIHRyZWxsaXM9MSA4eDhkY3Q9MSBjcW09MCBkZWFkem9uZT0yMSwxMSBmYXN0X3Bza2lwPTEgY2hyb21hX3FwX29mZnNldD0tMiB0aHJlYWRzPTMgbG9va2FoZWFkX3RocmVhZHM9MSBzbGljZWRfdGhyZWFkcz0wIG5yPTAgZGVjaW1hdGU9MSBpbnRlcmxhY2VkPTAgYmx1cmF5X2NvbXBhdD0wIGNvbnN0cmFpbmVkX2ludHJhPTAgYmZyYW1lcz0zIGJfcHlyYW1pZD0yIGJfYWRhcHQ9MSBiX2JpYXM9MCBkaXJlY3Q9MSB3ZWlnaHRiPTEgb3Blbl9nb3A9MCB3ZWlnaHRwPTIga2V5aW50PTI1MCBrZXlpbnRfbWluPTEwIHNjZW5lY3V0PTQwIGludHJhX3JlZnJlc2g9MCByY19sb29rYWhlYWQ9NDAgcmM9Y3JmIG1idHJlZT0xIGNyZj0yMy4wIHFjb21wPTAuNjAgcXBtaW49MCBxcG1heD02OSBxcHN0ZXA9NCBpcF9yYXRpbz0xLjQwIGFxPTE6MS4wMACAAAAIiGWIhAA7//7wbr4FNGqVK7P6NBPYvnc/U0BuRdzZoKSsoXlUqBJjR7QAAAMAAAMAAAMAADMvM7PDSoQpLZ0BBtig+gAAAwAAAwATYWLAADPY/DdDvVADxUUfzfyu5ghzOFZA3vAnpcOF3jgAd80QAspIgc9TnYwmKDEA5gFxjzUBQVPCjHts0mHJ0+U/hPjVE6cOQGu5t2Y8Mt+3/Pe4tHZ6bkfHbEza2iuX9Xysq8o2FBYSrBf7migDpEb8UjwJJ0s2X+QACtZ5B+TBu5axiPAFym8/4T18WtrBsgusvZHMvdMG/65I5cadGhPNLRZkNdlznd7W8EvxLHA5qQmMpB7TjbrAyU67lNOHDIO4RDobXGNWe7hoYIcOiE2fTcEw+srwM87O4TD/CPDkQbf41INiQZwIi4E3COS2nUq3A8dqVdEUp4bVRLvvVob99Kx7mWY9egPXBOm012GxbysJThfeQ+B+6csz0kgT53jCajv8FUfjrF43J86YKU0Ri6Oz6DPYbFe0g6cQC/jnKVEF+m+zDqw03j6h4GG90BFz7hYrza6U22shpe0eFWaBOyNw8gAZGZAXkvIDzkXxxyc94GaIXvrsjmFIGA6tSSFpnx/4CZzxBnC/9oANiCgK1mn1fQJDGI2wDRak6xD0JBwNlrXvwYsFUMCJWsgymzDZ6gMxIpbM1YQibl59ynb9i7+06G+dv3UtpqUgIbSZm4rvnkfqoKC6GsvgQB6kokIOqERqIc//kcri18IGVdwRlXnf7Mbq5afI53brFkuYs1Hugfaipyo6d38eGTKH75IziI8UHZ0RXvFPPGXemURXt4P1Wl1D62WiXZPLwI3cwEcKXtudfj64MryTu6BVTRI2AlFthOdk0MPwO2uJ3E6WIwhe5MqY/Ot1NxaNSTvpmmc1PmR5XANj4BGrd/wwj8qMhZADiU/tUW8ovKk2aoOS9psGaHbIZZbZOOCIEwCAStiBMAwaY6grCxTbIHhtsRZ2Pv2IyOW4jnmqDP0o8KslsiNna1+YobRPi4uscCDW2MG8DNEL3tIsUUTSm/WqGXPKrX42GkXPm1rM9udc7XMDlmJmvlGf+u1TrEPQkG6ke3oAGLBU+hzxKGEIZaj1GbjKRwbB2VhEd7nux24i0lH8qoQS7nj7x+nwusdUbWkbOvzIDpDDJoe8rSt1EGf/x+nC104GVdwR1q8fzBHu3VQTFiNuSIeR0AK93VhICWWsuyT90idtqvBAdNBCL9MXuHbJyep3gR9L5As5DK2Jt5ev9X1CUAEpL/F4Gl0uniOQd6+moTiMV9VCIeGwAAADAAADAY3MAAAzasUTW//1vG7/5N2VnT+M4AJht1O4kjpXaK83kaz4JBrfNAfjb/wDf3sMa6VpR+FNNzweTlqg5QcaEV8MTyP2gjhW+vAXo00Ory9rJBWUCqoR36AA71AxGWAOnNv4goALmdgHbABA3yQAVnaSwABBCQAuHCAkNmAoVmAovCAs3CAvfC6Np7+GdLTTM2/M5ujYY5XclKY1HbSz/7SswTf4TggsREWtKmIoiTLFgnJuqM1u3cGu5C9v6QqWfjlHJ9BxcT/0/ggL5poXOLuCr7oYbG24xH47IINsEiQmXApZGHmzIcYS9UmsvPrQLtMp2u6Egj8DL0KPsP3UXZGq0S5sVGZmMyxzvmTKrHJ9dShwg1jLQqS6zuwJJiymajECHAxsHj9vRyJ7IAht6r+4AqfIYn/hoJ9ia/lNDI+iCSr5/w4IT27NisyjWfDEk7jPgalrS312IdH6UJeSf+LarzXQAC3ZIx1RA8gwknXvKUxndb+8kPfN1jXC5IhdJfNUZUU0jljf7r94dEzMimvv0I8SlzWAxBMrvv2T88cdYrG25xy5y+HXks7bX6ddFNHBzuXwP2ySauh/r4ADCSd67OMATm4+LRbE+huqyhkwMYzl0mgfXuUkwy/wcf/dYtvDaTkaRUf0k/1gifgAMJJ3rs46IdQZUmmQLPGmXilrhPmjLo/ShEXq3JT1P7nBxc9EzMimvv1ARPfSR38eViSHsYcMb7yREKW+pfP+CmPJWJrQQJFcT3Lblvf1Ktl28d8y6Jo5IEtbm/9MYmaAuTe75Nz8Lba7W8Jdi1LRk/xb5rPCssXsRFXED6Fyx5SF15uVob730FuXftesP3VVxvAC63MRXEcVD7IezaI+xnBd65Sz+mL1zD1h7XH/I8xDQzEyZ7HiJ04Rb3h8S2yKKJKvdAmOyA+4jAsHXNi4HIcRymjEiYfC+AwVlDSL0z/Su5rAncPZ2GCKcZSLDSVidNkCSbqsjIzU1Ed3ZtQH4+qa8TU4Cv+q/5FmpbWGfVbwCv+GgzSrNpCkxWRsR/n4N/4IcLqywNgNrdV/+JEAXjuTP7Ao1boWrPp8nQNtnQznaG2qW2bara7WZpdUapmoh1Etld+334io8F2yAsO11ZskPgLRCu3WSNyA9OPWRaTw9TL2zvJmnZe2QL12/OawmlC3r/7jf2mluXUtQ4tFOlNpFfTeWFc0zmNvBSmJvh4R1d12vxolFapQdYi9TC1ulk7kzQIoMG12xwvpCwAgrgwIHGvo/GC44h5Sa3v44/bT/0rxJBzOwCZgvXhaSvrcY0jdBZEQbaZ5/8pLEGzWS/vaChuk0mRJ0Tms62nTjmg/Lt2DCNj7OKpyNOydb1vIRma8mfC/YiaUWE8ZS2f2J0QN7i26TIB+fQnficRhUHlqkeAwpAc/6oZcGbK0RUN1vzq0ET82G5wFOubeghK4QLYIVKDjBbIfCHSQ5ZRcNkgiMaElxH252bXQeZcsddqmO2+EKHG4fq9brjlQ4gZfRGnTBAOfZxuPmXW6wG+bf0xAIOG29sFXAyi+JPPsioisvvtKM5VCyQTrtPjDAyb3bodX7ntBG0AckhaSoQAAALxBmiRsQ7/+qZYABvMhiwVKdk1OEUb/vy9EhXYWDQvkfADvZ1hKTeZX0kNHls+5x1uGqWAbKp3mcuU/42D75ZPJ0wMhA7cWpDPE9yABsWFzMz69iR9IcSSRkgbBFMP6I9fugIp++fV6/RRqrTjBjyRjFMlFgoS9h+stIXe03TtEt7KYfkR3ZuB+cO8kgAP+GQ6KOZWCj3A5jfxO9R+CecYxzvXNjRsCOPw51qzSUUKIurJ6Y4j9krfdNBg9VQAAACRBnkJ4hX8AC1tE/koc1V7Sq76XAAyF8hDYMnbxowOLaHOZgRcAAAAmAZ5hdEJ/AA5+1oEe7J8NZFMCUHAAEUb6oUdAqlB3549NVhFDqSAAAAASAZ5jakJ/AAADAAADAAADAArZAAAAJEGaaEmoQWiZTAh3//6plgAAAwAAAwAAjBnpQJhU3HjQrLjUgQAAABRBnoZFESwr/wAAAwAAAwAAAwAIOQAAABIBnqV0Qn8AAAMAAAMAAAMACtkAAAASAZ6nakJ/AAADAAADAAADAArYAAAAJEGarEmoQWyZTAh3//6plgAAAwAAAwAAjBnpQJcc3HjPYLjUgAAAABRBnspFFSwr/wAAAwAAAwAAAwAIOQAAABIBnul0Qn8AAAMAAAMAAAMACtgAAAASAZ7rakJ/AAADAAADAAADAArYAAAAJEGa8EmoQWyZTAh3//6plgAAAwAAAwAAjBnpQJhU3HjQrLjUgQAAABRBnw5FFSwr/wAAAwAAAwAAAwAIOQAAABIBny10Qn8AAAMAAAMAAAMACtkAAAASAZ8vakJ/AAADAAADAAADAArYAAAAJEGbNEmoQWyZTAh3//6plgAAAwAAAwAAjBnpQJcc3HjPYLjUgAAAABRBn1JFFSwr/wAAAwAAAwAAAwAIOQAAABIBn3F0Qn8AAAMAAAMAAAMACtgAAAASAZ9zakJ/AAADAAADAAADAArYAAAAJEGbeEmoQWyZTAh3//6plgAAAwAAAwAAjBnpQJhU3HjQrLjUgQAAABRBn5ZFFSwr/wAAAwAAAwAAAwAIOAAAABIBn7V0Qn8AAAMAAAMAAAMACtkAAAASAZ+3akJ/AAADAAADAAADAArZAAAAJEGbvEmoQWyZTAh3//6plgAAAwAAAwAAjBnpQJcc3HjPYLjUgAAAABRBn9pFFSwr/wAAAwAAAwAAAwAIOQAAABIBn/l0Qn8AAAMAAAMAAAMACtgAAAASAZ/7akJ/AAADAAADAAADAArZAAAAJEGb4EmoQWyZTAh3//6plgAAAwAAAwAAjBnpQJhU3HjQrLjUgQAAABRBnh5FFSwr/wAAAwAAAwAAAwAIOAAAABIBnj10Qn8AAAMAAAMAAAMACtgAAAASAZ4/akJ/AAADAAADAAADAArZAAAAJEGaJEmoQWyZTAh3//6plgAAAwAAAwAAjBnpQJcc3HjPYLjUgAAAABRBnkJFFSwr/wAAAwAAAwAAAwAIOQAAABIBnmF0Qn8AAAMAAAMAAAMACtgAAAASAZ5jakJ/AAADAAADAAADAArZAAAAJEGaaEmoQWyZTAh3//6plgAAAwAAAwAAjBnpQJhU3HjQrLjUgQAAABRBnoZFFSwr/wAAAwAAAwAAAwAIOQAAABIBnqV0Qn8AAAMAAAMAAAMACtkAAAASAZ6nakJ/AAADAAADAAADAArYAAAAJEGarEmoQWyZTAh3//6plgAAAwAAAwAAjBnpQJcc3HjPYLjUgAAAABRBnspFFSwr/wAAAwAAAwAAAwAIOQAAABIBnul0Qn8AAAMAAAMAAAMACtgAAAASAZ7rakJ/AAADAAADAAADAArYAAAAJEGa8EmoQWyZTAh3//6plgAAAwAAAwAAjBnpQJhU3HjQrLjUgQAAABRBnw5FFSwr/wAAAwAAAwAAAwAIOQAAABIBny10Qn8AAAMAAAMAAAMACtkAAAASAZ8vakJ/AAADAAADAAADAArYAAAAJEGbNEmoQWyZTAh3//6plgAAAwAAAwAAjBnpQJcc3HjPYLjUgAAAABRBn1JFFSwr/wAAAwAAAwAAAwAIOQAAABIBn3F0Qn8AAAMAAAMAAAMACtgAAAASAZ9zakJ/AAADAAADAAADAArYAAAAJEGbeEmoQWyZTAh3//6plgAAAwAAAwAAjBnpQJhU3HjQrLjUgQAAABRBn5ZFFSwr/wAAAwAAAwAAAwAIOAAAABIBn7V0Qn8AAAMAAAMAAAMACtkAAAASAZ+3akJ/AAADAAADAAADAArZAAAAJEGbvEmoQWyZTAh3//6plgAAAwAAAwAAjBnpQJcc3HjPYLjUgAAAABRBn9pFFSwr/wAAAwAAAwAAAwAIOQAAABIBn/l0Qn8AAAMAAAMAAAMACtgAAAASAZ/7akJ/AAADAAADAAADAArZAAAAJEGb4EmoQWyZTAh3//6plgAAAwAAAwAAjBnpQJhU3HjQrLjUgQAAABRBnh5FFSwr/wAAAwAAAwAAAwAIOAAAABIBnj10Qn8AAAMAAAMAAAMACtgAAAASAZ4/akJ/AAADAAADAAADAArZAAAAJEGaJEmoQWyZTAh3//6plgAAAwAAAwAAjBnpQJcc3HjPYLjUgAAAABRBnkJFFSwr/wAAAwAAAwAAAwAIOQAAABIBnmF0Qn8AAAMAAAMAAAMACtgAAAASAZ5jakJ/AAADAAADAAADAArZAAAAJEGaaEmoQWyZTAh3//6plgAAAwAAAwAAjBnpQJhU3HjQrLjUgQAAABRBnoZFFSwr/wAAAwAAAwAAAwAIOQAAABIBnqV0Qn8AAAMAAAMAAAMACtkAAAASAZ6nakJ/AAADAAADAAADAArYAAAAG0GarEmoQWyZTAh3//6plgAAAwAAAwAAAwAFNAAAABRBnspFFSwr/wAAAwAAAwAAAwAIOQAAABIBnul0Qn8AAAMAAAMAAAMACtgAAAASAZ7rakJ/AAADAAADAAADAArYAAAAG0Ga8EmoQWyZTAh3//6plgAAAwAAAwAAAwAFNQAAABRBnw5FFSwr/wAAAwAAAwAAAwAIOQAAABIBny10Qn8AAAMAAAMAAAMACtkAAAASAZ8vakJ/AAADAAADAAADAArYAAAAG0GbNEmoQWyZTAhv//6nhAAAAwAAAwAAAwAKSAAAABRBn1JFFSwr/wAAAwAAAwAAAwAIOQAAABIBn3F0Qn8AAAMAAAMAAAMACtgAAAASAZ9zakJ/AAADAAADAAADAArYAAAAG0GbeEmoQWyZTAhv//6nhAAAAwAAAwAAAwAKSQAAABRBn5ZFFSwr/wAAAwAAAwAAAwAIOAAAABIBn7V0Qn8AAAMAAAMAAAMACtkAAAASAZ+3akJ/AAADAAADAAADAArZAAAAG0GbvEmoQWyZTAhv//6nhAAAAwAAAwAAAwAKSAAAABRBn9pFFSwr/wAAAwAAAwAAAwAIOQAAABIBn/l0Qn8AAAMAAAMAAAMACtgAAAASAZ/7akJ/AAADAAADAAADAArZAAAAG0Gb4EmoQWyZTAhn//6eEAAAAwAAAwAAAwAoIQAAABRBnh5FFSwr/wAAAwAAAwAAAwAIOAAAABIBnj10Qn8AAAMAAAMAAAMACtgAAAASAZ4/akJ/AAADAAADAAADAArZAAAAGkGaJEmoQWyZTAhP//3xAAADAAADAAADAAGBAAAAFEGeQkUVLCv/AAADAAADAAADAAg5AAAAEgGeYXRCfwAAAwAAAwAAAwAK2AAAABIBnmNqQn8AAAMAAAMAAAMACtkAAAfObW9vdgAAAGxtdmhkAAAAAAAAAAAAAAAAAAAD6AAAJ3QAAQAAAQAAAAAAAAAAAAAAAAEAAAAAAAAAAAAAAAAAAAABAAAAAAAAAAAAAAAAAABAAAAAAAAAAAAAAAAAAAAAAAAAAAAAAAAAAAAAAAAAAgAABvh0cmFrAAAAXHRraGQAAAADAAAAAAAAAAAAAAABAAAAAAAAJ3QAAAAAAAAAAAAAAAAAAAAAAAEAAAAAAAAAAAAAAAAAAAABAAAAAAAAAAAAAAAAAABAAAAAAyAAAAHgAAAAAAAkZWR0cwAAABxlbHN0AAAAAAAAAAEAACd0AAAIAAABAAAAAAZwbWRpYQAAACBtZGhkAAAAAAAAAAAAAAAAAAAoAAABlABVxAAAAAAALWhkbHIAAAAAAAAAAHZpZGUAAAAAAAAAAAAAAABWaWRlb0hhbmRsZXIAAAAGG21pbmYAAAAUdm1oZAAAAAEAAAAAAAAAAAAAACRkaW5mAAAAHGRyZWYAAAAAAAAAAQAAAAx1cmwgAAAAAQAABdtzdGJsAAAAl3N0c2QAAAAAAAAAAQAAAIdhdmMxAAAAAAAAAAEAAAAAAAAAAAAAAAAAAAAAAyAB4ABIAAAASAAAAAAAAAABAAAAAAAAAAAAAAAAAAAAAAAAAAAAAAAAAAAAAAAAAAAAGP//AAAAMWF2Y0MBZAAW/+EAGGdkABas2UDIPaEAAAMAAQAAAwAUDxYtlgEABmjr48siwAAAABhzdHRzAAAAAAAAAAEAAABlAAAEAAAAABRzdHNzAAAAAAAAAAEAAAABAAADOGN0dHMAAAAAAAAAZQAAAAEAAAgAAAAAAQAAFAAAAAABAAAIAAAAAAEAAAAAAAAAAQAABAAAAAABAAAUAAAAAAEAAAgAAAAAAQAAAAAAAAABAAAEAAAAAAEAABQAAAAAAQAACAAAAAABAAAAAAAAAAEAAAQAAAAAAQAAFAAAAAABAAAIAAAAAAEAAAAAAAAAAQAABAAAAAABAAAUAAAAAAEAAAgAAAAAAQAAAAAAAAABAAAEAAAAAAEAABQAAAAAAQAACAAAAAABAAAAAAAAAAEAAAQAAAAAAQAAFAAAAAABAAAIAAAAAAEAAAAAAAAAAQAABAAAAAABAAAUAAAAAAEAAAgAAAAAAQAAAAAAAAABAAAEAAAAAAEAABQAAAAAAQAACAAAAAABAAAAAAAAAAEAAAQAAAAAAQAAFAAAAAABAAAIAAAAAAEAAAAAAAAAAQAABAAAAAABAAAUAAAAAAEAAAgAAAAAAQAAAAAAAAABAAAEAAAAAAEAABQAAAAAAQAACAAAAAABAAAAAAAAAAEAAAQAAAAAAQAAFAAAAAABAAAIAAAAAAEAAAAAAAAAAQAABAAAAAABAAAUAAAAAAEAAAgAAAAAAQAAAAAAAAABAAAEAAAAAAEAABQAAAAAAQAACAAAAAABAAAAAAAAAAEAAAQAAAAAAQAAFAAAAAABAAAIAAAAAAEAAAAAAAAAAQAABAAAAAABAAAUAAAAAAEAAAgAAAAAAQAAAAAAAAABAAAEAAAAAAEAABQAAAAAAQAACAAAAAABAAAAAAAAAAEAAAQAAAAAAQAAFAAAAAABAAAIAAAAAAEAAAAAAAAAAQAABAAAAAABAAAUAAAAAAEAAAgAAAAAAQAAAAAAAAABAAAEAAAAAAEAABQAAAAAAQAACAAAAAABAAAAAAAAAAEAAAQAAAAAAQAAFAAAAAABAAAIAAAAAAEAAAAAAAAAAQAABAAAAAABAAAUAAAAAAEAAAgAAAAAAQAAAAAAAAABAAAEAAAAAAEAABQAAAAAAQAACAAAAAABAAAAAAAAAAEAAAQAAAAAAQAAFAAAAAABAAAIAAAAAAEAAAAAAAAAAQAABAAAAAAcc3RzYwAAAAAAAAABAAAAAQAAAGUAAAABAAABqHN0c3oAAAAAAAAAAAAAAGUAAAs+AAAAwAAAACgAAAAqAAAAFgAAACgAAAAYAAAAFgAAABYAAAAoAAAAGAAAABYAAAAWAAAAKAAAABgAAAAWAAAAFgAAACgAAAAYAAAAFgAAABYAAAAoAAAAGAAAABYAAAAWAAAAKAAAABgAAAAWAAAAFgAAACgAAAAYAAAAFgAAABYAAAAoAAAAGAAAABYAAAAWAAAAKAAAABgAAAAWAAAAFgAAACgAAAAYAAAAFgAAABYAAAAoAAAAGAAAABYAAAAWAAAAKAAAABgAAAAWAAAAFgAAACgAAAAYAAAAFgAAABYAAAAoAAAAGAAAABYAAAAWAAAAKAAAABgAAAAWAAAAFgAAACgAAAAYAAAAFgAAABYAAAAoAAAAGAAAABYAAAAWAAAAHwAAABgAAAAWAAAAFgAAAB8AAAAYAAAAFgAAABYAAAAfAAAAGAAAABYAAAAWAAAAHwAAABgAAAAWAAAAFgAAAB8AAAAYAAAAFgAAABYAAAAfAAAAGAAAABYAAAAWAAAAHgAAABgAAAAWAAAAFgAAABRzdGNvAAAAAAAAAAEAAAAwAAAAYnVkdGEAAABabWV0YQAAAAAAAAAhaGRscgAAAAAAAAAAbWRpcmFwcGwAAAAAAAAAAAAAAAAtaWxzdAAAACWpdG9vAAAAHWRhdGEAAAABAAAAAExhdmY1Ny44My4xMDA=\" type=\"video/mp4\" />\n",
       "                 </video>"
      ],
      "text/plain": [
       "<IPython.core.display.HTML object>"
      ]
     },
     "metadata": {},
     "output_type": "display_data"
    }
   ],
   "source": [
    "Q_ql = q_learning(env, Q_vi=Q_vi)\n",
    "\n",
    "# Following Q-Learning policy \n",
    "state = env.reset()     \n",
    "env.enable_rendering()  \n",
    "for tt in range(100):   \n",
    "  action = Q_ql[state, :].argmax()\n",
    "  next_state, reward, is_terminal, info = env.step(action)\n",
    "  if is_terminal:\n",
    "    break\n",
    "  state = next_state\n",
    "\n",
    "# save video (run last cell to visualize it!)\n",
    "env.save_video('./videos/q_learning_policy.mp4', framerate=10)\n",
    "# clear rendering data\n",
    "env.clear_render_buffer()\n",
    "env.disable_rendering()\n",
    "# see video\n",
    "show_video(filename='./videos/q_learning_policy.mp4')"
   ]
  }
 ],
 "metadata": {
  "colab": {
   "authorship_tag": "ABX9TyM+8H1rbTADo1Hh3m1E+mXQ",
   "collapsed_sections": [],
   "include_colab_link": true,
   "name": "Tutorial - Value Iteration and Q-Learning.ipynb",
   "provenance": [],
   "toc_visible": true
  },
  "kernelspec": {
   "display_name": "Python 3.8.15 ('rltutorials')",
   "language": "python",
   "name": "python3"
  },
  "language_info": {
   "codemirror_mode": {
    "name": "ipython",
    "version": 3
   },
   "file_extension": ".py",
   "mimetype": "text/x-python",
   "name": "python",
   "nbconvert_exporter": "python",
   "pygments_lexer": "ipython3",
   "version": "3.8.15"
  },
  "vscode": {
   "interpreter": {
    "hash": "22fb3692bee311354396abce5de73f147db26a6651d0fabb33560b91bb1fb1cd"
   }
  }
 },
 "nbformat": 4,
 "nbformat_minor": 1
}
