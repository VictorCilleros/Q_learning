{
 "cells": [
  {
   "cell_type": "markdown",
   "id": "4031e166",
   "metadata": {},
   "source": [
    "# Installation\n",
    "\n",
    "The commands listed here should be written in a terminal, not in this notebook.\n",
    "\n",
    "- Create and activate a new conda environment (if you don't have conda, you can install for example miniconda)\n",
    "```\n",
    "conda create -n bandit_tp python=3.8\n",
    "conda activate bandit_tp\n",
    "```\n",
    "- Install dependencies\n",
    "```\n",
    "pip install jupyterlab\n",
    "pip install scipy\n",
    "pip install rlberry\n",
    "```\n",
    "- Launch jupyter\n",
    "```\n",
    "jupyter notebook\n",
    "```\n",
    "- Open this notebook\n",
    "\n",
    "If everything was installed properly, the next cell should run without error."
   ]
  },
  {
   "cell_type": "code",
   "execution_count": 1,
   "id": "57e636d5",
   "metadata": {},
   "outputs": [],
   "source": [
    "import numpy as np\n",
    "from rlberry.envs.bandits import Bandit, BernoulliBandit, NormalBandit\n",
    "from rlberry.agents.bandits import (\n",
    "    BanditWithSimplePolicy,\n",
    "    IndexAgent,\n",
    "    TSAgent,\n",
    "    makeBoundedUCBIndex,\n",
    "    makeSubgaussianUCBIndex,\n",
    "    makeBetaPrior,\n",
    "    makeGaussianPrior,\n",
    ")\n",
    "from rlberry.manager import AgentManager, read_writer_data, plot_writer_data\n",
    "from rlberry.wrappers import WriterWrapper"
   ]
  },
  {
   "cell_type": "markdown",
   "id": "4d12b770",
   "metadata": {},
   "source": [
    "# Bandits in rlberry\n",
    "\n",
    "We will use the rlberry library, which contains classes used to model environements and agents in RL and bandits.\n",
    "This first section is a simple example of how bandits are implemented in that library.\n",
    "\n",
    "### Environments\n",
    "\n",
    "The environment classes describe the effect of actions (pulling arms) in various states (only one state in bandits).\n",
    "\n",
    "A stochastic bandit environment is basically a list of distributions: [Bandit](https://rlberry.readthedocs.io/en/latest/generated/rlberry.envs.bandits.Bandit.html#rlberry.envs.bandits.Bandit)\n",
    "\n",
    "The class [NormalBandit](https://rlberry.readthedocs.io/en/latest/generated/rlberry.envs.bandits.NormalBandit.html#rlberry.envs.bandits.NormalBandit) is an example of this where the laws of the arms are Normal."
   ]
  },
  {
   "cell_type": "code",
   "execution_count": 2,
   "id": "f1946c18",
   "metadata": {},
   "outputs": [],
   "source": [
    "env_ctor = NormalBandit  # constructor for the environment"
   ]
  },
  {
   "cell_type": "markdown",
   "id": "a899a6ef",
   "metadata": {},
   "source": [
    "### Agents\n",
    "\n",
    "An Agent describes how the algorithm chooses the next arm to pull in a given environment. All agents we will use inherit from the class [BanditWithSimplePolicy](https://rlberry.readthedocs.io/en/latest/generated/rlberry.agents.bandits.BanditWithSimplePolicy.html#rlberry.agents.bandits.BanditWithSimplePolicy). rlberry is a library that can handle generic RL, not only bandits, and the role of the BanditWithSimplePolicy class is mostly to specialize the RL problem to the bandit setting.\n",
    "\n",
    "An important class of bandit methods are the [IndexAgent](https://rlberry.readthedocs.io/en/latest/generated/rlberry.agents.bandits.IndexAgent.html#rlberry.agents.bandits.IndexAgent): these algorithms compute an index for each arm, and pull the arm with highest index. UCB is an index agents.\n"
   ]
  },
  {
   "cell_type": "code",
   "execution_count": 3,
   "id": "8675df5f",
   "metadata": {},
   "outputs": [],
   "source": [
    "class GaussianTSAgent(TSAgent):\n",
    "    \"\"\"Thompson sampling for Gaussian bandit\"\"\"\n",
    "    \n",
    "    name = \"Gaussian TS Agent\"\n",
    "\n",
    "    def __init__(self, env, sigma=1.0, **kwargs):\n",
    "        prior, _ = makeGaussianPrior(sigma)\n",
    "        TSAgent.__init__(self, env, prior, **kwargs)\n",
    "        # augment the environment with logging functionality\n",
    "        self.env = WriterWrapper(self.env, self.writer, write_scalar=\"action\")\n",
    "\n",
    "\n",
    "class GaussianUCBAgent(IndexAgent):\n",
    "    \"\"\"UCB agent for Gaussian bandits\"\"\"\n",
    "\n",
    "    name = \"Gaussian UCB Agent\"\n",
    "\n",
    "    def __init__(self, env, sigma=1.0, **kwargs):\n",
    "        index, _ = makeSubgaussianUCBIndex(sigma)  # the index is defined here\n",
    "        IndexAgent.__init__(self, env, index, **kwargs)\n",
    "        self.env = WriterWrapper(self.env, self.writer, write_scalar=\"action\")"
   ]
  },
  {
   "cell_type": "markdown",
   "id": "af645df3",
   "metadata": {},
   "source": [
    "### AgentManager\n",
    "\n",
    "rlberry contains various utilities to run multiple experiments in parallel, store all results, optimize the hyperparameters of the algorithms (not used in this notebook), etc.\n",
    "\n",
    "An [AgentManager](https://rlberry.readthedocs.io/en/latest/generated/rlberry.manager.AgentManager.html#rlberry.manager.AgentManager) is a class to train, optimize hyperparameters, evaluate and gather statistics about an agent. We give the agent and environement to the AgentManager, as well as information like the number of steps of each experiment and the number of Monte-Carlo repetitions."
   ]
  },
  {
   "cell_type": "code",
   "execution_count": 4,
   "id": "db12cb24",
   "metadata": {},
   "outputs": [],
   "source": [
    "# Parameters of the problem\n",
    "means = np.array([0.3, 0.5])  # means of the arms\n",
    "sigma = 1.0  # standard deviation of the arm rewards\n",
    "A = len(means)  # number of arms\n",
    "T = 1000  # Horizon\n",
    "M = 10  # number of MC simulations in experiments"
   ]
  },
  {
   "cell_type": "code",
   "execution_count": 5,
   "id": "d262137b",
   "metadata": {},
   "outputs": [],
   "source": [
    "# Construction of the experiment\n",
    "\n",
    "env_kwargs = {\"means\": means, \"stds\": sigma * np.ones(A)} # parameters passed to the environment constructor\n",
    "\n",
    "agents = [\n",
    "    AgentManager(  # an AgentManager is used to repeatedly fit and evaluate an agent on an environment\n",
    "        Agent,\n",
    "        (env_ctor, env_kwargs),\n",
    "        fit_budget=T,\n",
    "        n_fit=M,\n",
    "    )\n",
    "    for Agent in [GaussianUCBAgent, GaussianTSAgent]\n",
    "]"
   ]
  },
  {
   "cell_type": "code",
   "execution_count": 6,
   "id": "c927695b",
   "metadata": {
    "scrolled": true
   },
   "outputs": [
    {
     "name": "stderr",
     "output_type": "stream",
     "text": [
      "[INFO] Running AgentManager fit() for Gaussian UCB Agent with n_fit = 10 and max_workers = None. \n",
      "[WARNING] [Agent] Not possible to reseed environment. \n",
      "[WARNING] [Agent] Not possible to reseed environment. \n",
      "[WARNING] [Agent] Not possible to reseed environment. \n",
      "[WARNING] [Agent] Not possible to reseed environment. \n",
      "[WARNING] [Agent] Not possible to reseed environment. \n",
      "[WARNING] [Agent] Not possible to reseed environment. \n",
      "[WARNING] [Agent] Not possible to reseed environment. \n",
      "[WARNING] [Agent] Not possible to reseed environment. \n",
      "[WARNING] [Agent] Not possible to reseed environment. \n",
      "[WARNING] [Agent] Not possible to reseed environment. \n",
      "[WARNING] [Agent] Not possible to reseed environment. \n",
      "[WARNING] [Agent] Not possible to reseed environment. \n",
      "[WARNING] [Agent] Not possible to reseed environment. \n",
      "[WARNING] [Agent] Not possible to reseed environment. \n",
      "[WARNING] [Agent] Not possible to reseed environment. \n",
      "[WARNING] [Agent] Not possible to reseed environment. \n",
      "[WARNING] [Agent] Not possible to reseed environment. \n",
      "[WARNING] [Agent] Not possible to reseed environment. \n",
      "[WARNING] [Agent] Not possible to reseed environment. \n",
      "[WARNING] [Agent] Not possible to reseed environment. \n",
      "[INFO] ... trained! \n",
      "[WARNING] [Agent] Not possible to reseed environment. \n",
      "[WARNING] [Agent] Not possible to reseed environment. \n",
      "[WARNING] [Agent] Not possible to reseed environment. \n",
      "[WARNING] [Agent] Not possible to reseed environment. \n",
      "[WARNING] [Agent] Not possible to reseed environment. \n",
      "[WARNING] [Agent] Not possible to reseed environment. \n",
      "[WARNING] [Agent] Not possible to reseed environment. \n",
      "[WARNING] [Agent] Not possible to reseed environment. \n",
      "[WARNING] [Agent] Not possible to reseed environment. \n",
      "[WARNING] [Agent] Not possible to reseed environment. \n",
      "[WARNING] [Agent] Not possible to reseed environment. \n",
      "[WARNING] [Agent] Not possible to reseed environment. \n",
      "[WARNING] [Agent] Not possible to reseed environment. \n",
      "[WARNING] [Agent] Not possible to reseed environment. \n",
      "[WARNING] [Agent] Not possible to reseed environment. \n",
      "[WARNING] [Agent] Not possible to reseed environment. \n",
      "[WARNING] [Agent] Not possible to reseed environment. \n",
      "[WARNING] [Agent] Not possible to reseed environment. \n",
      "[WARNING] [Agent] Not possible to reseed environment. \n",
      "[WARNING] [Agent] Not possible to reseed environment. \n",
      "[INFO] Running AgentManager fit() for Gaussian TS Agent with n_fit = 10 and max_workers = None. \n",
      "[WARNING] [Agent] Not possible to reseed environment. \n",
      "[WARNING] [Agent] Not possible to reseed environment. \n",
      "[WARNING] [Agent] Not possible to reseed environment. \n",
      "[WARNING] [Agent] Not possible to reseed environment. \n",
      "[WARNING] [Agent] Not possible to reseed environment. \n",
      "[WARNING] [Agent] Not possible to reseed environment. \n",
      "[WARNING] [Agent] Not possible to reseed environment. \n",
      "[WARNING] [Agent] Not possible to reseed environment. \n",
      "[WARNING] [Agent] Not possible to reseed environment. \n",
      "[WARNING] [Agent] Not possible to reseed environment. \n",
      "[WARNING] [Agent] Not possible to reseed environment. \n",
      "[WARNING] [Agent] Not possible to reseed environment. \n",
      "[WARNING] [Agent] Not possible to reseed environment. \n",
      "[WARNING] [Agent] Not possible to reseed environment. \n",
      "[WARNING] [Agent] Not possible to reseed environment. \n",
      "[WARNING] [Agent] Not possible to reseed environment. \n",
      "[WARNING] [Agent] Not possible to reseed environment. \n",
      "[WARNING] [Agent] Not possible to reseed environment. \n",
      "[WARNING] [Agent] Not possible to reseed environment. \n",
      "[WARNING] [Agent] Not possible to reseed environment. \n",
      "[INFO] ... trained! \n",
      "[WARNING] [Agent] Not possible to reseed environment. \n",
      "[WARNING] [Agent] Not possible to reseed environment. \n",
      "[WARNING] [Agent] Not possible to reseed environment. \n",
      "[WARNING] [Agent] Not possible to reseed environment. \n",
      "[WARNING] [Agent] Not possible to reseed environment. \n",
      "[WARNING] [Agent] Not possible to reseed environment. \n",
      "[WARNING] [Agent] Not possible to reseed environment. \n",
      "[WARNING] [Agent] Not possible to reseed environment. \n",
      "[WARNING] [Agent] Not possible to reseed environment. \n",
      "[WARNING] [Agent] Not possible to reseed environment. \n",
      "[WARNING] [Agent] Not possible to reseed environment. \n",
      "[WARNING] [Agent] Not possible to reseed environment. \n",
      "[WARNING] [Agent] Not possible to reseed environment. \n",
      "[WARNING] [Agent] Not possible to reseed environment. \n",
      "[WARNING] [Agent] Not possible to reseed environment. \n",
      "[WARNING] [Agent] Not possible to reseed environment. \n",
      "[WARNING] [Agent] Not possible to reseed environment. \n",
      "[WARNING] [Agent] Not possible to reseed environment. \n",
      "[WARNING] [Agent] Not possible to reseed environment. \n",
      "[WARNING] [Agent] Not possible to reseed environment. \n"
     ]
    }
   ],
   "source": [
    "# Agent training\n",
    "\n",
    "for agent in agents:\n",
    "    agent.fit()  # 'fit' will run the agent n_fit times on the environment and store results"
   ]
  },
  {
   "cell_type": "markdown",
   "id": "150da360",
   "metadata": {},
   "source": [
    "### Results and plots\n",
    "\n",
    "The action taken by the various agents at every step of every experiment are recorded. Based on this, we can compute and plot the regret."
   ]
  },
  {
   "cell_type": "code",
   "execution_count": 13,
   "id": "23746afe",
   "metadata": {},
   "outputs": [],
   "source": [
    "# Compute the regret\n",
    "def compute_regret(actions, means):\n",
    "    return np.cumsum(np.max(means) - means[actions.astype(int)])"
   ]
  },
  {
   "cell_type": "code",
   "execution_count": 14,
   "id": "9b3f3987",
   "metadata": {},
   "outputs": [
    {
     "name": "stderr",
     "output_type": "stream",
     "text": [
      "C:\\Users\\remyd\\miniconda3\\envs\\bandit_tp\\lib\\site-packages\\rlberry\\manager\\evaluation.py:386: FutureWarning: \n",
      "\n",
      "The `ci` parameter is deprecated. Use `errorbar='sd'` for the same effect.\n",
      "\n",
      "  sns.lineplot(**lineplot_kwargs)\n"
     ]
    },
    {
     "data": {
      "image/png": "[encoded data removed]",
      "text/plain": [
       "<Figure size 640x480 with 1 Axes>"
      ]
     },
     "metadata": {},
     "output_type": "display_data"
    }
   ],
   "source": [
    "# We can get a dataframe with the results of the runs like this. You can use that object to inspect the data if you wish.\n",
    "data = read_writer_data(agents, tag=\"action\")\n",
    "\n",
    "# plot the regret. This function plots the result of preprocess_func, applied to the action of the algorithm.\n",
    "# The shaded area represents a standard deviation.\n",
    "output = plot_writer_data(\n",
    "    agents,\n",
    "    tag=\"action\",\n",
    "    preprocess_func=lambda actions : compute_regret(actions, means),\n",
    "    title=\"Cumulative Regret\",\n",
    ")"
   ]
  },
  {
   "cell_type": "markdown",
   "id": "99088829",
   "metadata": {},
   "source": [
    "# Failure of Follow-The-Leader\n",
    "\n",
    "The Follow-The-Leader algorithm (FTL) for bandits pulls the arm with highest empirical mean. That is, it pulls\n",
    "$$\n",
    "a_t = \\arg\\max_a \\hat{\\mu}_{t,a}\n",
    "$$\n",
    "where $\\hat{\\mu}_{t,a} = \\frac{1}{N_{t,a}}\\sum_{s=1}^{t-1} r_s \\mathbb{I}\\{a_s = a\\}$.\n",
    "\n",
    "### Questions\n",
    "- 1) What is in general the dependence in the horizon $T$ of the regret of FTL? "
   ]
  },
  {
   "cell_type": "markdown",
   "id": "9b423c42",
   "metadata": {},
   "source": [
    "TODO: answer by writing in this cell"
   ]
  },
  {
   "cell_type": "markdown",
   "id": "0e5e1a52",
   "metadata": {},
   "source": [
    "- 2) Complete the code of the FTL agent in the cell below"
   ]
  },
  {
   "cell_type": "code",
   "execution_count": 15,
   "id": "c52f301d",
   "metadata": {},
   "outputs": [],
   "source": [
    "# FTL index\n",
    "\n",
    "def makeFTLIndex():\n",
    "    \"\"\"\n",
    "    Follow-The-Leader index\n",
    "\n",
    "    Return\n",
    "    ------\n",
    "    Callable\n",
    "        FTL index.\n",
    "\n",
    "    Dict\n",
    "        Extra parameters for the BanditTracker object.\n",
    "        By default the tracker stores the number of pulls and the\n",
    "        empirical average reward for each arm. If you want it to store\n",
    "        all rewards for instance, return {'store_rewards': True}.\n",
    "\n",
    "    \"\"\"\n",
    "\n",
    "    def index(tr):\n",
    "        # tr is a BanditTracker object, which records information about the bandit problem\n",
    "        # and past interactions between the agent and the environment.\n",
    "        # In particular, tr.mu_hat(arm) gives the empirical mean of that arm.\n",
    "        \"\"\"\n",
    "        Return an array with the index of each arm\n",
    "        \n",
    "        TODO\n",
    "        \"\"\"\n",
    "        return\n",
    "\n",
    "    return index, {}\n",
    "\n",
    "\n",
    "class FTLAgent(IndexAgent):\n",
    "    \"\"\"FTL agent for bandits\"\"\"\n",
    "\n",
    "    name = \"FTL Agent\"\n",
    "\n",
    "    def __init__(self, env, **kwargs):\n",
    "        index, _ = makeFTLIndex()\n",
    "        IndexAgent.__init__(self, env, index, **kwargs)\n",
    "        self.env = WriterWrapper(self.env, self.writer, write_scalar=\"action\")"
   ]
  },
  {
   "cell_type": "markdown",
   "id": "8bc0e037",
   "metadata": {},
   "source": [
    "- 3. Plot the regret of TS, UCB and FTL on a Gaussian bandit with 3 arms with means 0.3, 0.5 and 0.25, all with variance 1. Use a horizon $T=2000$ and $30$ Monte-Carlo repetitions."
   ]
  },
  {
   "cell_type": "code",
   "execution_count": null,
   "id": "0d7fa236",
   "metadata": {},
   "outputs": [],
   "source": []
  },
  {
   "cell_type": "markdown",
   "id": "da6aff7c",
   "metadata": {},
   "source": [
    "- 4) Comment on the regrets of FTL, UCB and TS."
   ]
  },
  {
   "cell_type": "markdown",
   "id": "8cc3c087",
   "metadata": {},
   "source": [
    "TODO: answer here"
   ]
  },
  {
   "cell_type": "markdown",
   "id": "81cdd09a",
   "metadata": {},
   "source": [
    "# Linear Bandits\n",
    "\n",
    "We consider the linear bandit problem, in which at time $t$, each arm $a$ is associated to a vector $x_{t,a} \\in \\mathbb{R}^d$ where $d \\ll K$: the dimension of the features is lower than the number of arms. The reward observed by pulling $a_t$ is given by\n",
    "$$\n",
    "r_t = x_{t,a_t}^\\top \\theta + \\varepsilon_t\n",
    "$$\n",
    "where $\\theta \\in \\mathbb{R}^d$ is an unknown parameter vector and $\\varepsilon_t$ is a mean zero Gaussian noise.\n",
    "\n",
    "We saw in the lecture that this setting can be used to model a recommendation task in which we have access to *context* about the actions. The algorithms seen in class to minimize the regret in this setting are able to handle the case of $x_{t,a}$ changing with time, but we will now restrict our attention to a simpler model: each arm $a$ is associated with a vector $x_a \\in \\mathbb{R}^d$, which does not change with time (and which is known to the algorithm). Hence if arm $a$ is pulled at time $t$, the reward is $r_t = x_a^\\top \\theta + \\varepsilon_t$.\n",
    "We will suppose that $\\varepsilon_t$ is Gaussian.\n",
    "\n",
    "### Lin-UCB\n",
    "\n",
    "The Lin-UCB algorithm maintains an estimate $\\hat{\\theta}_t$ for the unknown parameter $\\theta$. It also computes a confidence region around that estimate. Like all UCB variants, it then pulls the arm with maximal possible value in the confidence region.\n",
    "\n",
    "Lin-UCB maintains the following quantities:\n",
    "$$\n",
    "A_t = I_d + \\sum_{s=1}^{t-1} x_{a_s}x_{a_s}^\\top \\\\\n",
    "b_t = \\sum_{s=1}^{t-1} r_s x_{a_s} \\\\\n",
    "\\hat{\\theta}_t = A_t^{-1} b_t\n",
    "$$\n",
    "Given that estimate $\\hat{\\theta}_t$, Lin-UCB samples\n",
    "$$\n",
    "a_t = \\arg\\max_a \\hat{\\theta}_{t,a}^\\top x_a + \\sigma \\beta(t) \\sqrt{x_a^\\top A_t^{-1} x_a}\n",
    "$$\n",
    "where $\\sigma^2$ is the variance of the Gaussian noise and where we can take $\\beta(t) = \\sqrt{2 \\log(1 + (t+1)\\log^2(t+1))}$.\n",
    "\n",
    "Note: $A_{t+1}^{-1}$ can be computed online based on $A_t^{-1}$ and $x_{a_t}$ without inverting a matrix, by using the Sherman-Morrison formula. Please make sure that your implementation uses this formula."
   ]
  },
  {
   "cell_type": "code",
   "execution_count": 20,
   "id": "e8e1abeb",
   "metadata": {},
   "outputs": [],
   "source": [
    "# We define an environment for linear bandits with Gaussian noise\n",
    "\n",
    "class LinearNormalBandit(NormalBandit):\n",
    "    \"\"\"\n",
    "    Class for Linear Normal Bandits with constant set of arms\n",
    "\n",
    "    Parameters\n",
    "    ----------\n",
    "    theta: array-like of size d, default=np.array([0, 1])\n",
    "        unknown parameter of the bandit.\n",
    "    \n",
    "    arm_vects: array-like of size n_arms*d, default=np.array([[1, 0], [0, 1]])\n",
    "        the mean of arm k is arm_vect[k].dot(theta)\n",
    "\n",
    "    stds: array-like of size n_arms or None, default=None\n",
    "        stds of the law of each of the arms. If None, use array with\n",
    "        all ones.\n",
    "\n",
    "    \"\"\"\n",
    "\n",
    "    def __init__(\n",
    "        self,\n",
    "        theta=np.array([0, 1]),\n",
    "        arm_vects=np.array([[1, 0], [0, 1]]),\n",
    "        stds=None,\n",
    "    ):\n",
    "        self.arm_vects = arm_vects\n",
    "        self.d = len(arm_vects[0])\n",
    "        self.theta = theta\n",
    "        self.means = arm_vects.dot(theta)\n",
    "        laws = self.make_laws(means, stds)  # defined in the NormalBandit class\n",
    "        Bandit.__init__(self, laws=laws)"
   ]
  },
  {
   "cell_type": "markdown",
   "id": "53bec17c",
   "metadata": {},
   "source": [
    "- 5) Complete the code of Lin-UCB in the cell below.\n",
    "\n",
    "The variable `Ainv` is used to store the current value of $A_t^{-1}$. `b` is used to store $b_t$. The class below contains two getter methods `get_Ainv` and `get_b`, as well as a setter `set_Ainv_b`. These functions interract with the tracker to store and retrieve information.\n",
    "\n",
    "Your task is to implement the index of Lin-UCB in the function `index_function`, to update `Ainv` and `b` after a reward is observed, and to implement the main step of the algorithm (get the index of each arm and pull the argmax)."
   ]
  },
  {
   "cell_type": "code",
   "execution_count": 21,
   "id": "51b44561",
   "metadata": {},
   "outputs": [],
   "source": [
    "# LinUCB. Note: we do not use the class IndexAgent because we want to store more information in the tracker than what\n",
    "# is used in that class.\n",
    "\n",
    "class LinUCBAgent(BanditWithSimplePolicy):\n",
    "    \"\"\"LinUCB agent for Linear Gaussian bandits\"\"\"\n",
    "\n",
    "    name = \"LinUCB Agent\"\n",
    "\n",
    "    def __init__(self, env, sigma=1.0, **kwargs):\n",
    "        BanditWithSimplePolicy.__init__(self, env, **kwargs)\n",
    "        self.arm_vects = self.env.arm_vects\n",
    "        self.sigma = sigma\n",
    "        self.d = self.env.d\n",
    "        self.set_Ainv_b(np.identity(self.d), np.zeros(self.d))  # initialize Ainv and b to the identity and zero\n",
    "        self.env = WriterWrapper(self.env, self.writer, write_scalar=\"action\")\n",
    "\n",
    "    def get_Ainv(self):  # get the stored value for Ainv, inverse of the design matrix\n",
    "        Ainv = np.zeros((self.d, self.d))\n",
    "        for dim in range(self.d):\n",
    "            for dim2 in range(self.d):\n",
    "                Ainv[dim, dim2] = self.tracker.read_last_tag_value(\"Ainv\", str(dim) + \"_\" + str(dim2))\n",
    "        return Ainv\n",
    "    \n",
    "    def get_b(self):  # get the stored value for b\n",
    "        return [self.tracker.read_last_tag_value(\"b\", dim) for dim in range(self.d)]\n",
    "    \n",
    "    def set_Ainv_b(self, Ainv, b):  # store new values for Ainv and b\n",
    "        for dim in range(self.d):\n",
    "            tag_scalar_dict = { \"b\": b[dim] }\n",
    "            self.tracker.add_scalars(dim, tag_scalar_dict)\n",
    "            for dim2 in range(self.d):\n",
    "                tag_scalar_dict = { \"Ainv\": Ainv[dim, dim2], }\n",
    "                self.tracker.add_scalars(str(dim) + \"_\" + str(dim2), tag_scalar_dict)\n",
    "    \n",
    "    def index_function(self, tr, **kwargs):\n",
    "        \"\"\"\n",
    "        Compute the LinUCB index for each arm, based on the stored values Ainv and b\n",
    "        \n",
    "        TODO\n",
    "        \"\"\"\n",
    "        return\n",
    "    \n",
    "    def update_tracker(self, action, reward):\n",
    "        self.tracker.update(action, reward)  # do not change this line\n",
    "        \"\"\"\n",
    "        Retrieve the current values of Ainv and b, and update them using the new 'action' and 'reward'.\n",
    "        To store the new values, use the set_Ainv_b function.\n",
    "        \n",
    "        TODO\n",
    "        \"\"\"\n",
    "    \n",
    "    def fit(self, budget=None, **kwargs):\n",
    "        \"\"\"\n",
    "        Train the bandit using the provided environment.\n",
    "\n",
    "        Parameters\n",
    "        ----------\n",
    "        budget: int\n",
    "            Total number of iterations, also called horizon.\n",
    "        \"\"\"\n",
    "        horizon = budget\n",
    "        total_reward = 0.0\n",
    "        indices = np.inf * np.ones(self.n_arms)\n",
    "\n",
    "        for ep in range(horizon):\n",
    "            # Warmup: play every arm one before starting computing indices\n",
    "            if ep < self.n_arms:\n",
    "                action = ep\n",
    "            else:\n",
    "                \"\"\"\n",
    "                Compute index for each arm and play the highest one\n",
    "                \n",
    "                TODO\n",
    "                \"\"\"\n",
    "                action = TODO\n",
    "\n",
    "            _, reward, _, _ = self.env.step(action)\n",
    "\n",
    "            # Feed the played action and the resulting reward to the tracker\n",
    "            self.update_tracker(action, reward)\n",
    "\n",
    "            total_reward += reward\n",
    "\n",
    "        # Best action in hinsight is the one with highest index\n",
    "        self.optimal_action = np.argmax(indices)\n",
    "\n",
    "        info = {\"episode_reward\": total_reward}\n",
    "        return info"
   ]
  },
  {
   "cell_type": "markdown",
   "id": "a66be81e",
   "metadata": {},
   "source": [
    "- 6) Plot the regret of LinUCB, TS and UCB on a linear Gaussian bandit problem with 2 arms and the following parameters:\n",
    "$$\n",
    "\\theta = (0, 0.3), \\  x_1 = (1, 0), \\ x_2 = (0, 1), \\sigma = 1\n",
    "\\\\\n",
    "T = 1000\n",
    "$$\n",
    "Use 30 repetitions for each experiment."
   ]
  },
  {
   "cell_type": "code",
   "execution_count": null,
   "id": "7770376d",
   "metadata": {},
   "outputs": [],
   "source": []
  },
  {
   "cell_type": "markdown",
   "id": "f8acaf74",
   "metadata": {},
   "source": [
    "- 7) Compare the three algorithms on that experiement. Does the knowledge of the linear structure help LinUCB? Explain."
   ]
  },
  {
   "cell_type": "markdown",
   "id": "7d2d0cd0",
   "metadata": {},
   "source": [
    "TODO: answer here"
   ]
  },
  {
   "cell_type": "markdown",
   "id": "b2266219",
   "metadata": {},
   "source": [
    "- 8) Plot the regret of LinUCB, TS and UCB on a linear Gaussian bandit problem with 10 arms and the following parameters:\n",
    "$$\n",
    "\\theta = (0, 0.3), \\  x_1 = (1, 0), \\ x_2 = (0, 1), \\ x_3 = (0.3, 0.2), \\ x_{i} = (0.6, 0.6) \\text{ for } i\\ge 4, \\ \\sigma = 1\n",
    "\\\\\n",
    "T = 1000\n",
    "$$\n",
    "Use 30 repetitions for each experiment.\n",
    "\n"
   ]
  },
  {
   "cell_type": "code",
   "execution_count": null,
   "id": "78e21b75",
   "metadata": {},
   "outputs": [],
   "source": []
  },
  {
   "cell_type": "markdown",
   "id": "dece5646",
   "metadata": {},
   "source": [
    "- 9) Compare the three algorithms on that experiement. Does the knowledge of the linear structure help LinUCB? Explain."
   ]
  },
  {
   "cell_type": "markdown",
   "id": "70e5e203",
   "metadata": {},
   "source": [
    "TODO: answer here"
   ]
  },
  {
   "cell_type": "markdown",
   "id": "12adcd65",
   "metadata": {},
   "source": [
    "### Linear Thompson Sampling\n",
    "\n",
    "- 10) Implement linear Thompson Sampling and compare it to LinUCB on several experiments. You can start from a copy of the code of LinUCB and modify the index definition.\n",
    "\n",
    "That question is intentionally open: a thorough and well presented experimental comparison will give bonus points."
   ]
  },
  {
   "cell_type": "code",
   "execution_count": null,
   "id": "2bfb25c7",
   "metadata": {},
   "outputs": [],
   "source": []
  }
 ],
 "metadata": {
  "kernelspec": {
   "display_name": "Python 3 (ipykernel)",
   "language": "python",
   "name": "python3"
  },
  "language_info": {
   "codemirror_mode": {
    "name": "ipython",
    "version": 3
   },
   "file_extension": ".py",
   "mimetype": "text/x-python",
   "name": "python",
   "nbconvert_exporter": "python",
   "pygments_lexer": "ipython3",
   "version": "3.8.15"
  }
 },
 "nbformat": 4,
 "nbformat_minor": 5
}
